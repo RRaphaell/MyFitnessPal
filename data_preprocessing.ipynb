{
 "cells": [
  {
   "cell_type": "markdown",
   "metadata": {},
   "source": [
    "#### <span style=\"color:#AD07FF\"> In this notebook you can see data cleaning, visualization, hypothesis testing,  <br> adding new features and preparing data so that we can run a model."
   ]
  },
  {
   "cell_type": "markdown",
   "metadata": {},
   "source": [
    "# <span style=\"color:#FF7B07\"><div align=\"center\">**Table Of Contents**\n",
    "[<span style=\"color:#FF7B07\">**1. Introduction**](#1)<br>\n",
    "[<span style=\"color:#FF7B07\">**2. Import Libraries and Load Data**](#2)<br>\n",
    "[<span style=\"color:#FF7B07\">**3. Data Analysis**](#3)<br>\n",
    "[<span style=\"color:#FF7B07\">**4. Create Features**](#4)<br> \n",
    "[<span style=\"color:#FF7B07\">**5. Data Cleaning**](#5)<br>\n",
    "[<span style=\"color:#FF7B07\">**6. Data Preparation**](#6)<br> "
   ]
  },
  {
   "cell_type": "markdown",
   "metadata": {},
   "source": [
    "# <span style=\"color:#FF7B07\"><div align=\"center\">**Introduction** <a  name=\"1\"></a>"
   ]
  },
  {
   "cell_type": "markdown",
   "metadata": {},
   "source": [
    "Nowadays, a healthy lifestyle is becoming a valuable characteristic of a modern society. <br>\n",
    "More and more people try to enhance their health by doing regularly different sports and put emphasis on their food habits. <br>\n",
    "In order to satisfy the specific needs of every individual, conclusions gained out of the users’ data are from high importance. <br>\n",
    "Companies such as MyFitnessPal operate in the lucrative business field of health data. <br>\n",
    "The healthcare industry is booming, especially when it comes to the analysis of health-related data. <br>\n",
    "This report will show how the analysis of data will improve the life of the users, <br>\n",
    "but also highlight the potential for companies active in the business. <br>\n",
    "#### <span style=\"color:#FF7B07\">  **Source** https://www.kaggle.com/vetrirah/customer?select=Train.csv"
   ]
  },
  {
   "cell_type": "markdown",
   "metadata": {},
   "source": [
    "# <span style=\"color:#FF7B07\"><div align=\"center\">**Import Libraries and Load Data** <a  name=\"2\"></a>"
   ]
  },
  {
   "cell_type": "code",
   "execution_count": 1,
   "metadata": {},
   "outputs": [],
   "source": [
    "from datetime import datetime\n",
    "import json\n",
    "import matplotlib.pyplot as plt\n",
    "import numpy as np\n",
    "import pandas as pd\n",
    "from plotly.subplots import make_subplots\n",
    "import plotly.graph_objects as go\n",
    "import seaborn as sns\n",
    "from sklearn.impute import KNNImputer\n",
    "from sklearn import preprocessing\n",
    "from bs4 import BeautifulSoup as bs\n",
    "import os\n",
    "\n",
    "%matplotlib inline"
   ]
  },
  {
   "cell_type": "code",
   "execution_count": 2,
   "metadata": {},
   "outputs": [],
   "source": [
    "# The data is large and this command will help us to see the whole result \n",
    "pd.set_option('display.max_rows', 500)\n",
    "pd.set_option('display.max_columns', 500)\n",
    "pd.set_option('display.width', 1000)"
   ]
  },
  {
   "cell_type": "code",
   "execution_count": 3,
   "metadata": {},
   "outputs": [],
   "source": [
    "data = pd.read_csv('../my_fitness_pal/data/myFitnessPal_parsed.csv')"
   ]
  },
  {
   "cell_type": "code",
   "execution_count": 4,
   "metadata": {},
   "outputs": [],
   "source": [
    "with open('foods.json') as json_file:\n",
    "     food_names = json.load(json_file)"
   ]
  },
  {
   "cell_type": "code",
   "execution_count": 5,
   "metadata": {},
   "outputs": [],
   "source": [
    "with open('../my_fitness_pal/data/FoodWithAdditionalNutritionalInformation.json') as json_file:\n",
    "    foods = json.load(json_file)\n",
    "\n",
    "foods_and_groups = pd.read_excel('../my_fitness_pal/data/MyFoodData-Nutrition-Facts-SpreadSheet-Release-1-4.xlsx')\n",
    "\n",
    "foods_and_groups = foods_and_groups.drop_duplicates(['name', 'Food Group'])[['name', 'Food Group']]\n",
    "foods_and_groups.columns = ['Food', 'Food Group']"
   ]
  },
  {
   "cell_type": "markdown",
   "metadata": {},
   "source": [
    "# <span style=\"color:#FF7B07\"><div align=\"center\">**Data Analysis** <a  name=\"3\"></a>"
   ]
  },
  {
   "cell_type": "markdown",
   "metadata": {},
   "source": [
    "#### <span style=\"color:#FF7B07\">Let us first review the general information of the data "
   ]
  },
  {
   "cell_type": "code",
   "execution_count": 6,
   "metadata": {},
   "outputs": [
    {
     "name": "stdout",
     "output_type": "stream",
     "text": [
      "\n",
      " Data shape - (587186, 16) \n",
      " Unique users - 9896 \n",
      "\n"
     ]
    },
    {
     "data": {
      "text/html": [
       "<div>\n",
       "<style scoped>\n",
       "    .dataframe tbody tr th:only-of-type {\n",
       "        vertical-align: middle;\n",
       "    }\n",
       "\n",
       "    .dataframe tbody tr th {\n",
       "        vertical-align: top;\n",
       "    }\n",
       "\n",
       "    .dataframe thead th {\n",
       "        text-align: right;\n",
       "    }\n",
       "</style>\n",
       "<table border=\"1\" class=\"dataframe\">\n",
       "  <thead>\n",
       "    <tr style=\"text-align: right;\">\n",
       "      <th></th>\n",
       "      <th>user_id</th>\n",
       "      <th>date</th>\n",
       "      <th>sequence</th>\n",
       "      <th>food_ids</th>\n",
       "      <th>total_calories</th>\n",
       "      <th>total_carbs</th>\n",
       "      <th>total_fat</th>\n",
       "      <th>total_protein</th>\n",
       "      <th>total_sodium</th>\n",
       "      <th>total_sugar</th>\n",
       "      <th>goal_calories</th>\n",
       "      <th>goal_carbs</th>\n",
       "      <th>goal_fat</th>\n",
       "      <th>goal_protein</th>\n",
       "      <th>goal_sodium</th>\n",
       "      <th>goal_sugar</th>\n",
       "    </tr>\n",
       "  </thead>\n",
       "  <tbody>\n",
       "    <tr>\n",
       "      <th>0</th>\n",
       "      <td>1</td>\n",
       "      <td>2014-09-15</td>\n",
       "      <td>1</td>\n",
       "      <td>[1, 2, 3, 4, 4]</td>\n",
       "      <td>2430</td>\n",
       "      <td>96</td>\n",
       "      <td>37.0</td>\n",
       "      <td>50.0</td>\n",
       "      <td>855.0</td>\n",
       "      <td>63.0</td>\n",
       "      <td>1572.0</td>\n",
       "      <td>196.0</td>\n",
       "      <td>52.0</td>\n",
       "      <td>79.0</td>\n",
       "      <td>2300.0</td>\n",
       "      <td>59.0</td>\n",
       "    </tr>\n",
       "    <tr>\n",
       "      <th>1</th>\n",
       "      <td>1</td>\n",
       "      <td>2014-09-16</td>\n",
       "      <td>1</td>\n",
       "      <td>[5, 1, 2, 3, 6, 7]</td>\n",
       "      <td>1862</td>\n",
       "      <td>158</td>\n",
       "      <td>54.0</td>\n",
       "      <td>114.0</td>\n",
       "      <td>2215.0</td>\n",
       "      <td>100.0</td>\n",
       "      <td>1832.0</td>\n",
       "      <td>229.0</td>\n",
       "      <td>61.0</td>\n",
       "      <td>92.0</td>\n",
       "      <td>2300.0</td>\n",
       "      <td>69.0</td>\n",
       "    </tr>\n",
       "    <tr>\n",
       "      <th>2</th>\n",
       "      <td>1</td>\n",
       "      <td>2014-09-17</td>\n",
       "      <td>1</td>\n",
       "      <td>[1, 2, 3, 6, 8, 9, 10]</td>\n",
       "      <td>2251</td>\n",
       "      <td>187</td>\n",
       "      <td>60.0</td>\n",
       "      <td>98.0</td>\n",
       "      <td>1765.0</td>\n",
       "      <td>105.0</td>\n",
       "      <td>1685.0</td>\n",
       "      <td>210.0</td>\n",
       "      <td>56.0</td>\n",
       "      <td>85.0</td>\n",
       "      <td>2300.0</td>\n",
       "      <td>63.0</td>\n",
       "    </tr>\n",
       "  </tbody>\n",
       "</table>\n",
       "</div>"
      ],
      "text/plain": [
       "   user_id        date  sequence                food_ids  total_calories  total_carbs  total_fat  total_protein  total_sodium  total_sugar  goal_calories  goal_carbs  goal_fat  goal_protein  goal_sodium  goal_sugar\n",
       "0        1  2014-09-15         1         [1, 2, 3, 4, 4]            2430           96       37.0           50.0         855.0         63.0         1572.0       196.0      52.0          79.0       2300.0        59.0\n",
       "1        1  2014-09-16         1      [5, 1, 2, 3, 6, 7]            1862          158       54.0          114.0        2215.0        100.0         1832.0       229.0      61.0          92.0       2300.0        69.0\n",
       "2        1  2014-09-17         1  [1, 2, 3, 6, 8, 9, 10]            2251          187       60.0           98.0        1765.0        105.0         1685.0       210.0      56.0          85.0       2300.0        63.0"
      ]
     },
     "execution_count": 6,
     "metadata": {},
     "output_type": "execute_result"
    }
   ],
   "source": [
    "print(f'\\n Data shape - {data.shape} ')\n",
    "print(f' Unique users - {data[\"user_id\"].nunique()} \\n')\n",
    "data.head(3)\n"
   ]
  },
  {
   "cell_type": "code",
   "execution_count": 7,
   "metadata": {},
   "outputs": [
    {
     "name": "stdout",
     "output_type": "stream",
     "text": [
      "<class 'pandas.core.frame.DataFrame'>\n",
      "RangeIndex: 587186 entries, 0 to 587185\n",
      "Data columns (total 16 columns):\n",
      " #   Column          Non-Null Count   Dtype  \n",
      "---  ------          --------------   -----  \n",
      " 0   user_id         587186 non-null  int64  \n",
      " 1   date            587186 non-null  object \n",
      " 2   sequence        587186 non-null  int64  \n",
      " 3   food_ids        587186 non-null  object \n",
      " 4   total_calories  587186 non-null  int64  \n",
      " 5   total_carbs     587186 non-null  int64  \n",
      " 6   total_fat       586309 non-null  float64\n",
      " 7   total_protein   586309 non-null  float64\n",
      " 8   total_sodium    585881 non-null  float64\n",
      " 9   total_sugar     585879 non-null  float64\n",
      " 10  goal_calories   585264 non-null  float64\n",
      " 11  goal_carbs      585261 non-null  float64\n",
      " 12  goal_fat        559873 non-null  float64\n",
      " 13  goal_protein    559868 non-null  float64\n",
      " 14  goal_sodium     519466 non-null  float64\n",
      " 15  goal_sugar      519196 non-null  float64\n",
      "dtypes: float64(10), int64(4), object(2)\n",
      "memory usage: 71.7+ MB\n"
     ]
    }
   ],
   "source": [
    "data.info()"
   ]
  },
  {
   "cell_type": "markdown",
   "metadata": {},
   "source": [
    "#### <span style=\"color:#00CC00\"> As you can see most of the feature's type is number so we don't need to convert them <br>  except \"date\" and \"food_ids\" which needs to converted."
   ]
  },
  {
   "cell_type": "code",
   "execution_count": 8,
   "metadata": {},
   "outputs": [
    {
     "data": {
      "text/html": [
       "<div>\n",
       "<style scoped>\n",
       "    .dataframe tbody tr th:only-of-type {\n",
       "        vertical-align: middle;\n",
       "    }\n",
       "\n",
       "    .dataframe tbody tr th {\n",
       "        vertical-align: top;\n",
       "    }\n",
       "\n",
       "    .dataframe thead th {\n",
       "        text-align: right;\n",
       "    }\n",
       "</style>\n",
       "<table border=\"1\" class=\"dataframe\">\n",
       "  <thead>\n",
       "    <tr style=\"text-align: right;\">\n",
       "      <th></th>\n",
       "      <th>user_id</th>\n",
       "      <th>sequence</th>\n",
       "      <th>total_calories</th>\n",
       "      <th>total_carbs</th>\n",
       "      <th>total_fat</th>\n",
       "      <th>total_protein</th>\n",
       "      <th>total_sodium</th>\n",
       "      <th>total_sugar</th>\n",
       "      <th>goal_calories</th>\n",
       "      <th>goal_carbs</th>\n",
       "      <th>goal_fat</th>\n",
       "      <th>goal_protein</th>\n",
       "      <th>goal_sodium</th>\n",
       "      <th>goal_sugar</th>\n",
       "    </tr>\n",
       "  </thead>\n",
       "  <tbody>\n",
       "    <tr>\n",
       "      <th>count</th>\n",
       "      <td>587186.000000</td>\n",
       "      <td>587186.000000</td>\n",
       "      <td>5.871860e+05</td>\n",
       "      <td>587186.000000</td>\n",
       "      <td>586309.000000</td>\n",
       "      <td>586309.000000</td>\n",
       "      <td>585881.000000</td>\n",
       "      <td>585879.000000</td>\n",
       "      <td>585264.000000</td>\n",
       "      <td>585261.000000</td>\n",
       "      <td>559873.000000</td>\n",
       "      <td>559868.000000</td>\n",
       "      <td>519466.000000</td>\n",
       "      <td>519196.000000</td>\n",
       "    </tr>\n",
       "    <tr>\n",
       "      <th>mean</th>\n",
       "      <td>4946.928031</td>\n",
       "      <td>4.004532</td>\n",
       "      <td>1.421923e+03</td>\n",
       "      <td>153.679057</td>\n",
       "      <td>71.235077</td>\n",
       "      <td>93.821524</td>\n",
       "      <td>1157.984207</td>\n",
       "      <td>407.563147</td>\n",
       "      <td>1613.422573</td>\n",
       "      <td>194.222680</td>\n",
       "      <td>90.101536</td>\n",
       "      <td>157.212782</td>\n",
       "      <td>1446.919333</td>\n",
       "      <td>411.366736</td>\n",
       "    </tr>\n",
       "    <tr>\n",
       "      <th>std</th>\n",
       "      <td>2844.719822</td>\n",
       "      <td>1.341577</td>\n",
       "      <td>2.284502e+03</td>\n",
       "      <td>355.777029</td>\n",
       "      <td>277.018504</td>\n",
       "      <td>289.062514</td>\n",
       "      <td>2049.176072</td>\n",
       "      <td>907.108966</td>\n",
       "      <td>722.874981</td>\n",
       "      <td>352.425203</td>\n",
       "      <td>240.765991</td>\n",
       "      <td>390.169810</td>\n",
       "      <td>1166.553691</td>\n",
       "      <td>886.227384</td>\n",
       "    </tr>\n",
       "    <tr>\n",
       "      <th>min</th>\n",
       "      <td>1.000000</td>\n",
       "      <td>1.000000</td>\n",
       "      <td>0.000000e+00</td>\n",
       "      <td>0.000000</td>\n",
       "      <td>0.000000</td>\n",
       "      <td>0.000000</td>\n",
       "      <td>0.000000</td>\n",
       "      <td>0.000000</td>\n",
       "      <td>0.000000</td>\n",
       "      <td>0.000000</td>\n",
       "      <td>0.000000</td>\n",
       "      <td>0.000000</td>\n",
       "      <td>0.000000</td>\n",
       "      <td>0.000000</td>\n",
       "    </tr>\n",
       "    <tr>\n",
       "      <th>25%</th>\n",
       "      <td>2513.000000</td>\n",
       "      <td>3.000000</td>\n",
       "      <td>1.038000e+03</td>\n",
       "      <td>76.000000</td>\n",
       "      <td>29.000000</td>\n",
       "      <td>40.000000</td>\n",
       "      <td>30.000000</td>\n",
       "      <td>22.000000</td>\n",
       "      <td>1314.000000</td>\n",
       "      <td>122.000000</td>\n",
       "      <td>46.000000</td>\n",
       "      <td>70.000000</td>\n",
       "      <td>56.000000</td>\n",
       "      <td>45.000000</td>\n",
       "    </tr>\n",
       "    <tr>\n",
       "      <th>50%</th>\n",
       "      <td>4928.000000</td>\n",
       "      <td>4.000000</td>\n",
       "      <td>1.403000e+03</td>\n",
       "      <td>135.000000</td>\n",
       "      <td>49.000000</td>\n",
       "      <td>66.000000</td>\n",
       "      <td>690.000000</td>\n",
       "      <td>51.000000</td>\n",
       "      <td>1630.000000</td>\n",
       "      <td>178.000000</td>\n",
       "      <td>58.000000</td>\n",
       "      <td>96.000000</td>\n",
       "      <td>2300.000000</td>\n",
       "      <td>64.000000</td>\n",
       "    </tr>\n",
       "    <tr>\n",
       "      <th>75%</th>\n",
       "      <td>7427.000000</td>\n",
       "      <td>5.000000</td>\n",
       "      <td>1.766000e+03</td>\n",
       "      <td>191.000000</td>\n",
       "      <td>72.000000</td>\n",
       "      <td>98.000000</td>\n",
       "      <td>1982.000000</td>\n",
       "      <td>139.000000</td>\n",
       "      <td>1991.000000</td>\n",
       "      <td>227.000000</td>\n",
       "      <td>77.000000</td>\n",
       "      <td>135.000000</td>\n",
       "      <td>2300.000000</td>\n",
       "      <td>100.000000</td>\n",
       "    </tr>\n",
       "    <tr>\n",
       "      <th>max</th>\n",
       "      <td>9897.000000</td>\n",
       "      <td>6.000000</td>\n",
       "      <td>1.200800e+06</td>\n",
       "      <td>210865.000000</td>\n",
       "      <td>132088.000000</td>\n",
       "      <td>114949.000000</td>\n",
       "      <td>960000.000000</td>\n",
       "      <td>168015.000000</td>\n",
       "      <td>26068.000000</td>\n",
       "      <td>154417.000000</td>\n",
       "      <td>38128.000000</td>\n",
       "      <td>102945.000000</td>\n",
       "      <td>23009.000000</td>\n",
       "      <td>35055.000000</td>\n",
       "    </tr>\n",
       "  </tbody>\n",
       "</table>\n",
       "</div>"
      ],
      "text/plain": [
       "             user_id       sequence  total_calories    total_carbs      total_fat  total_protein   total_sodium    total_sugar  goal_calories     goal_carbs       goal_fat   goal_protein    goal_sodium     goal_sugar\n",
       "count  587186.000000  587186.000000    5.871860e+05  587186.000000  586309.000000  586309.000000  585881.000000  585879.000000  585264.000000  585261.000000  559873.000000  559868.000000  519466.000000  519196.000000\n",
       "mean     4946.928031       4.004532    1.421923e+03     153.679057      71.235077      93.821524    1157.984207     407.563147    1613.422573     194.222680      90.101536     157.212782    1446.919333     411.366736\n",
       "std      2844.719822       1.341577    2.284502e+03     355.777029     277.018504     289.062514    2049.176072     907.108966     722.874981     352.425203     240.765991     390.169810    1166.553691     886.227384\n",
       "min         1.000000       1.000000    0.000000e+00       0.000000       0.000000       0.000000       0.000000       0.000000       0.000000       0.000000       0.000000       0.000000       0.000000       0.000000\n",
       "25%      2513.000000       3.000000    1.038000e+03      76.000000      29.000000      40.000000      30.000000      22.000000    1314.000000     122.000000      46.000000      70.000000      56.000000      45.000000\n",
       "50%      4928.000000       4.000000    1.403000e+03     135.000000      49.000000      66.000000     690.000000      51.000000    1630.000000     178.000000      58.000000      96.000000    2300.000000      64.000000\n",
       "75%      7427.000000       5.000000    1.766000e+03     191.000000      72.000000      98.000000    1982.000000     139.000000    1991.000000     227.000000      77.000000     135.000000    2300.000000     100.000000\n",
       "max      9897.000000       6.000000    1.200800e+06  210865.000000  132088.000000  114949.000000  960000.000000  168015.000000   26068.000000  154417.000000   38128.000000  102945.000000   23009.000000   35055.000000"
      ]
     },
     "execution_count": 8,
     "metadata": {},
     "output_type": "execute_result"
    }
   ],
   "source": [
    "data.describe()"
   ]
  },
  {
   "cell_type": "markdown",
   "metadata": {},
   "source": [
    "#### <span style=\"color:#00CC00\"> At first glance we would probably see that data needs to be normalized and maybe we have some outliers too"
   ]
  },
  {
   "cell_type": "markdown",
   "metadata": {},
   "source": [
    "#### <span style=\"color:#FF7B07\"> As we know we have a different number of records for each user in the data "
   ]
  },
  {
   "cell_type": "code",
   "execution_count": 9,
   "metadata": {},
   "outputs": [
    {
     "name": "stdout",
     "output_type": "stream",
     "text": [
      "user_id 1 has 173 records\n",
      "user_id 2 has 60 records\n"
     ]
    }
   ],
   "source": [
    "print(f'user_id 1 has {len(data[data[\"user_id\"]==1])} records')\n",
    "print(f'user_id 2 has {len(data[data[\"user_id\"]==2])} records')"
   ]
  },
  {
   "cell_type": "markdown",
   "metadata": {},
   "source": [
    "#### <span style=\"color:#FF7B07\"> User may also have missed information between the first and final days of the record"
   ]
  },
  {
   "cell_type": "code",
   "execution_count": 10,
   "metadata": {},
   "outputs": [
    {
     "data": {
      "text/html": [
       "<div>\n",
       "<style scoped>\n",
       "    .dataframe tbody tr th:only-of-type {\n",
       "        vertical-align: middle;\n",
       "    }\n",
       "\n",
       "    .dataframe tbody tr th {\n",
       "        vertical-align: top;\n",
       "    }\n",
       "\n",
       "    .dataframe thead th {\n",
       "        text-align: right;\n",
       "    }\n",
       "</style>\n",
       "<table border=\"1\" class=\"dataframe\">\n",
       "  <thead>\n",
       "    <tr style=\"text-align: right;\">\n",
       "      <th></th>\n",
       "      <th>user_id</th>\n",
       "      <th>date</th>\n",
       "      <th>sequence</th>\n",
       "      <th>food_ids</th>\n",
       "      <th>total_calories</th>\n",
       "      <th>total_carbs</th>\n",
       "      <th>total_fat</th>\n",
       "      <th>total_protein</th>\n",
       "      <th>total_sodium</th>\n",
       "      <th>total_sugar</th>\n",
       "      <th>goal_calories</th>\n",
       "      <th>goal_carbs</th>\n",
       "      <th>goal_fat</th>\n",
       "      <th>goal_protein</th>\n",
       "      <th>goal_sodium</th>\n",
       "      <th>goal_sugar</th>\n",
       "    </tr>\n",
       "  </thead>\n",
       "  <tbody>\n",
       "    <tr>\n",
       "      <th>561</th>\n",
       "      <td>7</td>\n",
       "      <td>2014-10-06</td>\n",
       "      <td>1</td>\n",
       "      <td>[980, 981]</td>\n",
       "      <td>360</td>\n",
       "      <td>45</td>\n",
       "      <td>14.0</td>\n",
       "      <td>15.0</td>\n",
       "      <td>2.0</td>\n",
       "      <td>5.0</td>\n",
       "      <td>1400.0</td>\n",
       "      <td>140.0</td>\n",
       "      <td>31.0</td>\n",
       "      <td>140.0</td>\n",
       "      <td>25.0</td>\n",
       "      <td>102.0</td>\n",
       "    </tr>\n",
       "    <tr>\n",
       "      <th>562</th>\n",
       "      <td>7</td>\n",
       "      <td>2014-10-15</td>\n",
       "      <td>1</td>\n",
       "      <td>[982]</td>\n",
       "      <td>140</td>\n",
       "      <td>2</td>\n",
       "      <td>9.0</td>\n",
       "      <td>12.0</td>\n",
       "      <td>0.0</td>\n",
       "      <td>1.0</td>\n",
       "      <td>1400.0</td>\n",
       "      <td>140.0</td>\n",
       "      <td>31.0</td>\n",
       "      <td>140.0</td>\n",
       "      <td>25.0</td>\n",
       "      <td>102.0</td>\n",
       "    </tr>\n",
       "  </tbody>\n",
       "</table>\n",
       "</div>"
      ],
      "text/plain": [
       "     user_id        date  sequence    food_ids  total_calories  total_carbs  total_fat  total_protein  total_sodium  total_sugar  goal_calories  goal_carbs  goal_fat  goal_protein  goal_sodium  goal_sugar\n",
       "561        7  2014-10-06         1  [980, 981]             360           45       14.0           15.0           2.0          5.0         1400.0       140.0      31.0         140.0         25.0       102.0\n",
       "562        7  2014-10-15         1       [982]             140            2        9.0           12.0           0.0          1.0         1400.0       140.0      31.0         140.0         25.0       102.0"
      ]
     },
     "execution_count": 10,
     "metadata": {},
     "output_type": "execute_result"
    }
   ],
   "source": [
    "data[data[\"user_id\"]==7].head(2)"
   ]
  },
  {
   "cell_type": "markdown",
   "metadata": {},
   "source": [
    "#### <span style=\"color:#00CC00\"> As we can see, User whose ID is 7, made the first record in 2014-10-06 and the second in 2014-10-15. <br> We will need to reflect this information as new feature"
   ]
  },
  {
   "cell_type": "markdown",
   "metadata": {},
   "source": [
    "#### <span style=\"color:#FF7B07\"> Check for null values in the data"
   ]
  },
  {
   "cell_type": "code",
   "execution_count": 11,
   "metadata": {},
   "outputs": [
    {
     "data": {
      "text/html": [
       "<div>\n",
       "<style scoped>\n",
       "    .dataframe tbody tr th:only-of-type {\n",
       "        vertical-align: middle;\n",
       "    }\n",
       "\n",
       "    .dataframe tbody tr th {\n",
       "        vertical-align: top;\n",
       "    }\n",
       "\n",
       "    .dataframe thead th {\n",
       "        text-align: right;\n",
       "    }\n",
       "</style>\n",
       "<table border=\"1\" class=\"dataframe\">\n",
       "  <thead>\n",
       "    <tr style=\"text-align: right;\">\n",
       "      <th></th>\n",
       "      <th>user_id</th>\n",
       "      <th>date</th>\n",
       "      <th>sequence</th>\n",
       "      <th>food_ids</th>\n",
       "      <th>total_calories</th>\n",
       "      <th>total_carbs</th>\n",
       "      <th>total_fat</th>\n",
       "      <th>total_protein</th>\n",
       "      <th>total_sodium</th>\n",
       "      <th>total_sugar</th>\n",
       "      <th>goal_calories</th>\n",
       "      <th>goal_carbs</th>\n",
       "      <th>goal_fat</th>\n",
       "      <th>goal_protein</th>\n",
       "      <th>goal_sodium</th>\n",
       "      <th>goal_sugar</th>\n",
       "    </tr>\n",
       "  </thead>\n",
       "  <tbody>\n",
       "    <tr>\n",
       "      <th>Null Frequency</th>\n",
       "      <td>0</td>\n",
       "      <td>0</td>\n",
       "      <td>0</td>\n",
       "      <td>0</td>\n",
       "      <td>0</td>\n",
       "      <td>0</td>\n",
       "      <td>877</td>\n",
       "      <td>877</td>\n",
       "      <td>1305</td>\n",
       "      <td>1307</td>\n",
       "      <td>1922</td>\n",
       "      <td>1925</td>\n",
       "      <td>27313</td>\n",
       "      <td>27318</td>\n",
       "      <td>67720</td>\n",
       "      <td>67990</td>\n",
       "    </tr>\n",
       "  </tbody>\n",
       "</table>\n",
       "</div>"
      ],
      "text/plain": [
       "                user_id  date  sequence  food_ids  total_calories  total_carbs  total_fat  total_protein  total_sodium  total_sugar  goal_calories  goal_carbs  goal_fat  goal_protein  goal_sodium  goal_sugar\n",
       "Null Frequency        0     0         0         0               0            0        877            877          1305         1307           1922        1925     27313         27318        67720       67990"
      ]
     },
     "execution_count": 11,
     "metadata": {},
     "output_type": "execute_result"
    }
   ],
   "source": [
    "null_df = pd.DataFrame(data.isna().sum())\n",
    "null_df.columns = [\"Null Frequency\"]\n",
    "null_df.T"
   ]
  },
  {
   "cell_type": "markdown",
   "metadata": {},
   "source": [
    "#### <span style=\"color:#00CC00\"> As we saw there are 10 columns which have sometimes null values <br> User can have a maximum of 10 columns with null value <br> So I think we should throw away a user who has 4 or more Null values, <br> Because otherwise it would turn out that we have filled more than 25 percent of the user information"
   ]
  },
  {
   "cell_type": "code",
   "execution_count": 12,
   "metadata": {},
   "outputs": [
    {
     "name": "stdout",
     "output_type": "stream",
     "text": [
      "Users which have null in more than 3 columns :  4.6515073588266755 %\n"
     ]
    }
   ],
   "source": [
    "print('Users which have null in more than 3 columns : ',(len(data.loc[data.isnull().sum(axis=1)>3])/len(data))*100,'%')\n",
    "nullColumns = data.loc[data.isnull().sum(axis=1)>3].index\n",
    "nullColumns = pd.DataFrame(nullColumns,columns={'index'})"
   ]
  },
  {
   "cell_type": "markdown",
   "metadata": {},
   "source": [
    "#### <span style=\"color:#00CC00\"> It seems that the number of such people is about 4.6 percent. <br> Due to the fact that the data is not so little and at the same time filling 4 null feature is not so accurate we can throw them "
   ]
  },
  {
   "cell_type": "markdown",
   "metadata": {},
   "source": [
    "#### <span style=\"color:#FF7B07\"> There can still be a problem with the values and such a situation is when the goal calories are 0 <br>and the mentioned situation does not make sense <br> because the main purpose of the app is to select a goal and get closer to it."
   ]
  },
  {
   "cell_type": "code",
   "execution_count": 13,
   "metadata": {},
   "outputs": [
    {
     "name": "stdout",
     "output_type": "stream",
     "text": [
      "Users which have zero in goal_calories :  0.11767991743672362 %\n"
     ]
    }
   ],
   "source": [
    "print('Users which have zero in goal_calories : ',(len(data[data['goal_calories']==0])/len(data))*100,'%')"
   ]
  },
  {
   "cell_type": "markdown",
   "metadata": {},
   "source": [
    "#### <span style=\"color:#00CC00\"> It seems that the number of such people is about 0.1 percent. So we can throw them away "
   ]
  },
  {
   "cell_type": "code",
   "execution_count": 14,
   "metadata": {},
   "outputs": [],
   "source": [
    "def createPlot(data, col:str, ttext:str, xtext:str, ytext:str) ->None:\n",
    "    \"\"\"\n",
    "    this function creates histogram and boxplot by pyplot library and also count skewness\n",
    "    \n",
    "    Arguments:\n",
    "    data -- pandas dataframe\n",
    "    col -- column name which we want to plot\n",
    "    ttext -- string which we want to write on top of the graph\n",
    "    xtext -- string which we want to write on x axis\n",
    "    ytext -- string which we want to write on y axis\n",
    "    \n",
    "    Returns:\n",
    "    None\n",
    "    \"\"\"\n",
    "    fig = make_subplots(rows=1, cols=2)\n",
    "    fig.add_trace(go.Histogram(x=data[col],marker_color='#6a6fff'),row=1,col=1)\n",
    "    fig.add_trace(go.Box(x=data[col]),row=1,col=2)\n",
    "    \n",
    "    fig.update_layout(\n",
    "        title_text=ttext,\n",
    "        xaxis_title_text=xtext,\n",
    "        yaxis_title_text=ytext, \n",
    "        bargap=0.05, \n",
    "        template = 'plotly_dark',\n",
    "        width=900, height=600\n",
    "    )\n",
    "    fig.add_annotation(dict(font=dict(color='yellow',size=15),\n",
    "                                        x=0.35,\n",
    "                                        y=1.1,\n",
    "                                        showarrow=False,\n",
    "                                        text=\"Skewness = \"+str(data[col].skew()),\n",
    "                                        textangle=0,\n",
    "                                        xanchor='left',\n",
    "                                        xref=\"paper\",\n",
    "                                        yref=\"paper\"))\n",
    "    \n",
    "    fig.show()\n",
    "#createPlot(data,\"goal_calories\",\"Time Distribution\",\"Time (days)\",\"count\")"
   ]
  },
  {
   "cell_type": "code",
   "execution_count": 15,
   "metadata": {},
   "outputs": [],
   "source": [
    "# groups = ['Low','Medium','High']\n",
    "# dfForPlot = df.copy();\n",
    "# def get_categories(x):\n",
    "#     if x < q1:\n",
    "#         return groups[0]\n",
    "#     elif x < q3:\n",
    "#         return groups[1]\n",
    "#     else:\n",
    "#         return groups[2]    \n",
    "\n",
    "# for col in numVariable:\n",
    "#     q1 = df[col].quantile(q=0.25)\n",
    "#     q3 = df[col].quantile(q=0.75)\n",
    "#     dfForPlot[col] = df[col].apply(get_categories)"
   ]
  },
  {
   "cell_type": "markdown",
   "metadata": {},
   "source": [
    "#### <span style=\"color:#FF7B07\"> There are many spreaded Hypotheses about diet, healthy lifestyle and also about habits too. Now let's check their validity with our data"
   ]
  },
  {
   "cell_type": "markdown",
   "metadata": {},
   "source": [
    "#### <span style=\"color:#FF7B07\">  1. People more likely start diet and healthy lifestyle on mondays"
   ]
  },
  {
   "cell_type": "code",
   "execution_count": 16,
   "metadata": {},
   "outputs": [],
   "source": [
    "daysCount=[0,0,0,0,0,0,0]\n",
    "for ID in data['user_id'].unique():\n",
    "    date = data[data[\"user_id\"]==ID].head(1)['date'].values[0]\n",
    "    d=datetime.strptime(str(date), \"%Y-%m-%d\")\n",
    "    daysCount[d.weekday()]+=1"
   ]
  },
  {
   "cell_type": "code",
   "execution_count": 17,
   "metadata": {},
   "outputs": [
    {
     "data": {
      "text/plain": [
       "<AxesSubplot:xlabel='days', ylabel='quantities'>"
      ]
     },
     "execution_count": 17,
     "metadata": {},
     "output_type": "execute_result"
    },
    {
     "data": {
      "image/png": "[encoded data removed]",
      "text/plain": [
       "<Figure size 720x432 with 1 Axes>"
      ]
     },
     "metadata": {
      "needs_background": "light"
     },
     "output_type": "display_data"
    }
   ],
   "source": [
    "res = np.dot([i / np.sum(daysCount) for i in daysCount],100)\n",
    "fig, ax = plt.subplots(figsize=(10,6))\n",
    "df=pd.DataFrame({'days':['Monday','Tuesday','Wednesday','Thursday','Friday','Saturday','Sunday'],'quantities': res})\n",
    "sns.barplot(x='days',y='quantities',data=df,palette='magma',ax=ax)"
   ]
  },
  {
   "cell_type": "markdown",
   "metadata": {},
   "source": [
    "#### <span style=\"color:#00CC00\"> The results show that hypothesis were right: <br>  people more likely start diet on mondays and the graph also proves that wednesday is really lazy day to start something. "
   ]
  },
  {
   "cell_type": "markdown",
   "metadata": {},
   "source": [
    "#### <span style=\"color:#FF7B07\">  2. People frequently cheat diet on weekends"
   ]
  },
  {
   "cell_type": "code",
   "execution_count": 18,
   "metadata": {},
   "outputs": [],
   "source": [
    "daysCount=[0,0,0,0,0,0,0]\n",
    "daysLogged=[0,0,0,0,0,0,0]\n",
    "for i,row in data.iterrows():\n",
    "    date = row['date']\n",
    "    goal_calories=row['goal_calories']\n",
    "    total_calories=row['total_calories']\n",
    "    if total_calories > (goal_calories+goal_calories*15) :  # actually total_calories more than approx. 5 hamburgers  😂 \n",
    "        d=datetime.strptime(str(date), \"%Y-%m-%d\")\n",
    "        daysCount[d.weekday()]+=1\n",
    "    daysLogged[d.weekday()]+=1"
   ]
  },
  {
   "cell_type": "code",
   "execution_count": 19,
   "metadata": {},
   "outputs": [],
   "source": [
    "res = [i / j for i, j in zip(daysCount,daysLogged)]\n",
    "res =np.dot( [i / np.sum(res) for i in res],100)"
   ]
  },
  {
   "cell_type": "code",
   "execution_count": 20,
   "metadata": {},
   "outputs": [
    {
     "data": {
      "text/plain": [
       "<AxesSubplot:xlabel='days', ylabel='quantities'>"
      ]
     },
     "execution_count": 20,
     "metadata": {},
     "output_type": "execute_result"
    },
    {
     "data": {
      "image/png": "[encoded data removed]",
      "text/plain": [
       "<Figure size 720x432 with 1 Axes>"
      ]
     },
     "metadata": {
      "needs_background": "light"
     },
     "output_type": "display_data"
    }
   ],
   "source": [
    "fig, ax = plt.subplots(figsize=(10,6))\n",
    "df=pd.DataFrame({'days':['Monday','Tuesday','Wednesday','Thursday','Friday','Saturday','Sunday'],'quantities': res})\n",
    "sns.barplot(x='days',y='quantities',data=df,palette='magma',ax=ax)"
   ]
  },
  {
   "cell_type": "markdown",
   "metadata": {},
   "source": [
    "#### <span style=\"color:#00CC00\"> Looks like people use to cheat on fridays and saturdays more, they took much more calories on these days. Our hypothesis partially justified"
   ]
  },
  {
   "cell_type": "markdown",
   "metadata": {},
   "source": [
    "#### <span style=\"color:#FF7B07\">  3. 77 percent of users never use an app again 72 hours after installing"
   ]
  },
  {
   "cell_type": "code",
   "execution_count": 21,
   "metadata": {},
   "outputs": [],
   "source": [
    "apps_log=pd.DataFrame()\n",
    "apps_log[\"people\"] = data[\"user_id\"].value_counts()\n",
    "apps_log[\"days_used_app\"] = apps_log[\"people\"].apply(lambda x: len(apps_log[apps_log[\"people\"]==x]))"
   ]
  },
  {
   "cell_type": "code",
   "execution_count": 22,
   "metadata": {},
   "outputs": [
    {
     "data": {
      "image/png": "[encoded data removed]",
      "text/plain": [
       "<Figure size 1440x720 with 1 Axes>"
      ]
     },
     "metadata": {
      "needs_background": "light"
     },
     "output_type": "display_data"
    }
   ],
   "source": [
    "fig, ax = plt.subplots(figsize=(20,10))\n",
    "plott=sns.barplot(x='days_used_app',y='people',data=apps_log,palette='magma',ax=ax)\n",
    "plott=plott.set_xticklabels(plott.get_xticklabels(),rotation=45,ha=\"right\")\n",
    "# pltt.yticks(rotation='horizontal')"
   ]
  },
  {
   "cell_type": "markdown",
   "metadata": {},
   "source": [
    "#### <span style=\"color:#00CC00\"> Hypothesis is partly correct, app's usage reduces exponentially but It takes users almost 1 month to surrender. Maybe it's not the surrender, maybe it's the period they reach dreamy weight"
   ]
  },
  {
   "cell_type": "markdown",
   "metadata": {},
   "source": [
    "#### <span style=\"color:#FF7B07\"> Now look at the nutrients individually as taking extra nutrients can be dangerous For example taking too much sugar can cause diabetes <br> Let's draw total and goal nutrients together and see how many percentage is under or above risk <br> Based on this information we can tell the customer to reduce consumption or increase it depending on whether he is at risk or not. "
   ]
  },
  {
   "cell_type": "code",
   "execution_count": 23,
   "metadata": {},
   "outputs": [],
   "source": [
    "def plot_nutrient(df,nutrient_name,goal_nutrient_name,thr1,thr2):\n",
    "    \"\"\"\n",
    "    This function creates 3 plots based on thresholds\n",
    "    \n",
    "    Arguments:\n",
    "    df -- pandas dataframe\n",
    "    nutrient_name -- column name which we want to plot\n",
    "    goal_nutrient_name -- column name which we want to plot\n",
    "    thr1 -- threshold on the values below which we draw the first drawing   \n",
    "    thr2 -- threshold on the values above which we draw the third drawing\n",
    "    \n",
    "    Returns:\n",
    "    None\n",
    "    \"\"\"\n",
    "    avg = df.groupby(['user_id']).apply(lambda x: x[nutrient_name].sum()/len(x)).reset_index()\n",
    "    goal = df.groupby(['user_id']).apply(lambda x: x[goal_nutrient_name].sum()/len(x)).reset_index()\n",
    "    avg.columns = [\"user_id\", \"avg_nut\"]\n",
    "    goal.columns = [\"user_id\", \"goal_avg_nut\"]\n",
    "\n",
    "    fig, ax =plt.subplots(1,3,figsize=(17,7))\n",
    "    _max = max(df[nutrient_name].max(),df[goal_nutrient_name].max())\n",
    "    ax[0].hist(avg[avg['avg_nut']<thr1]['avg_nut'], range=[0,thr1], color='Red', fc='none', lw=2, histtype='step')\n",
    "    ax[0].hist(goal[goal['goal_avg_nut']<thr1]['goal_avg_nut'], range=[0,thr1], color='Green', fc='none', lw=2, histtype='step')\n",
    "    ax[0].legend(('Total', 'Goal'), loc=\"upper right\")\n",
    "    ax[1].hist(avg['avg_nut'], range=[thr1,thr2], color='Red',fc='none', lw=2, histtype='step')\n",
    "    ax[1].hist(goal['goal_avg_nut'], range = [thr1,thr2], color='Green', fc='none', lw=2, histtype='step')\n",
    "    ax[1].legend(('Total', 'Goal'), loc=\"upper right\")\n",
    "    ax[2].hist(avg[avg['avg_nut']>thr2]['avg_nut'], range=[thr2,_max], color='Red', fc='none', lw=2, histtype='step')\n",
    "    ax[2].hist(goal[goal['goal_avg_nut']>thr2]['goal_avg_nut'], range=[thr2,_max], color='Green', fc='none', lw=2, histtype='step')\n",
    "    ax[2].legend(('Total', 'Goal'),loc=\"upper right\")\n",
    "    \n",
    "    under_minimum = len(avg[avg['avg_nut'] < thr1])\n",
    "    above_minimum = len(avg[avg['avg_nut'] > thr2])\n",
    "    total = avg.user_id.nunique()\n",
    "\n",
    "    print(f'\\nlower risk group: {100*under_minimum/total} %')\n",
    "    print(f'above risk group: {100*above_minimum/total} %')\n",
    "    print(f'not   risk group: {100*(1-(under_minimum+above_minimum)/total)} %\\n')"
   ]
  },
  {
   "cell_type": "code",
   "execution_count": 24,
   "metadata": {},
   "outputs": [],
   "source": [
    "user_tenure = data['user_id'].value_counts().to_frame().reset_index()\n",
    "user_tenure.columns = ['user_id', 'Amount']\n",
    "\n",
    "top_users = pd.merge(data, user_tenure.head(1000), on='user_id', how='inner')"
   ]
  },
  {
   "cell_type": "code",
   "execution_count": 25,
   "metadata": {},
   "outputs": [
    {
     "name": "stdout",
     "output_type": "stream",
     "text": [
      "\n",
      "lower risk group: 42.0 %\n",
      "above risk group: 23.1 %\n",
      "not   risk group: 34.9 %\n",
      "\n"
     ]
    },
    {
     "data": {
      "image/png": "[encoded data removed]",
      "text/plain": [
       "<Figure size 1224x504 with 3 Axes>"
      ]
     },
     "metadata": {
      "needs_background": "light"
     },
     "output_type": "display_data"
    }
   ],
   "source": [
    "plot_nutrient(top_users,\"total_sugar\",\"goal_sugar\",50,350)"
   ]
  },
  {
   "cell_type": "code",
   "execution_count": 26,
   "metadata": {},
   "outputs": [
    {
     "name": "stdout",
     "output_type": "stream",
     "text": [
      "\n",
      "lower risk group: 5.4 %\n",
      "above risk group: 2.1 %\n",
      "not   risk group: 92.5 %\n",
      "\n"
     ]
    },
    {
     "data": {
      "image/png": "[encoded data removed]",
      "text/plain": [
       "<Figure size 1224x504 with 3 Axes>"
      ]
     },
     "metadata": {
      "needs_background": "light"
     },
     "output_type": "display_data"
    }
   ],
   "source": [
    "plot_nutrient(top_users,\"total_carbs\",\"goal_carbs\",50,350)"
   ]
  },
  {
   "cell_type": "markdown",
   "metadata": {},
   "source": [
    "#### <span style=\"color:#FF7B07\"> Let's see what food they eat most often in month. <br> This information can be used by markets to determine how many products they should receive per month "
   ]
  },
  {
   "cell_type": "code",
   "execution_count": 27,
   "metadata": {},
   "outputs": [],
   "source": [
    "def add_elem_dict(all_names,lst):\n",
    "    for food_id in lst[1:-1].split(\",\"):\n",
    "        food_id = food_id.replace(' ','')\n",
    "        all_names[food_id] = all_names.get(food_id,0)+1\n",
    "        \n",
    "def get_top_food_ids(df,top_numbers):\n",
    "    all_names = {}\n",
    "    df[\"food_ids\"].apply(lambda lst: add_elem_dict(all_names,lst))\n",
    "    top_food_ids = list(sorted(all_names.items(), key=lambda item: item[1]))\n",
    "    top_food_ids = [key for key,value in top_food_ids]\n",
    "    top_food_ids.reverse()\n",
    "    return top_food_ids[:10]"
   ]
  },
  {
   "cell_type": "code",
   "execution_count": 28,
   "metadata": {},
   "outputs": [],
   "source": [
    "data[\"month\"] = data[\"date\"].apply(lambda x: x[5:7])\n",
    "max_food_in_month = data.groupby(['month']).apply(lambda x: get_top_food_ids(x,10))\n",
    "del data[\"month\"]\n",
    "\n",
    "top_food_dataframe = pd.DataFrame(max_food_in_month)\n",
    "top_food_dataframe = top_food_dataframe.apply(lambda x: x[0], axis = 1, result_type ='expand').reset_index()\n",
    "top_food_dataframe.columns = [\"month\",\"meal_1\",\"meal_2\",\"meal_3\",\"meal_4\",\"meal_5\",\"meal_6\",\"meal_7\",\"meal_8\",\"meal_9\",\"meal_10\"]"
   ]
  },
  {
   "cell_type": "code",
   "execution_count": 29,
   "metadata": {},
   "outputs": [],
   "source": [
    "for col in top_food_dataframe.columns:\n",
    "    top_food_dataframe[col] = top_food_dataframe[col].apply(lambda food_id: food_names[str(int(food_id))])"
   ]
  },
  {
   "cell_type": "code",
   "execution_count": 30,
   "metadata": {},
   "outputs": [
    {
     "data": {
      "text/html": [
       "<div>\n",
       "<style scoped>\n",
       "    .dataframe tbody tr th:only-of-type {\n",
       "        vertical-align: middle;\n",
       "    }\n",
       "\n",
       "    .dataframe tbody tr th {\n",
       "        vertical-align: top;\n",
       "    }\n",
       "\n",
       "    .dataframe thead th {\n",
       "        text-align: right;\n",
       "    }\n",
       "</style>\n",
       "<table border=\"1\" class=\"dataframe\">\n",
       "  <thead>\n",
       "    <tr style=\"text-align: right;\">\n",
       "      <th></th>\n",
       "      <th>month</th>\n",
       "      <th>meal_1</th>\n",
       "      <th>meal_2</th>\n",
       "      <th>meal_3</th>\n",
       "      <th>meal_4</th>\n",
       "      <th>meal_5</th>\n",
       "      <th>meal_6</th>\n",
       "      <th>meal_7</th>\n",
       "      <th>meal_8</th>\n",
       "      <th>meal_9</th>\n",
       "      <th>meal_10</th>\n",
       "    </tr>\n",
       "  </thead>\n",
       "  <tbody>\n",
       "    <tr>\n",
       "      <th>0</th>\n",
       "      <td>my - McDonalds Espresso Pronto® Flat White</td>\n",
       "      <td>Coffee - Brewed from grounds</td>\n",
       "      <td>Quick Added Calories</td>\n",
       "      <td>Bananas - Raw</td>\n",
       "      <td>Spinach - Raw</td>\n",
       "      <td>Butter - Salted</td>\n",
       "      <td>Apples - Raw</td>\n",
       "      <td>Strawberries - Raw</td>\n",
       "      <td>Blueberries - Raw</td>\n",
       "      <td>Cucumber - With peel</td>\n",
       "      <td>Carrots - Raw</td>\n",
       "    </tr>\n",
       "    <tr>\n",
       "      <th>1</th>\n",
       "      <td>Uncle Tobys Australia - Vita Brits</td>\n",
       "      <td>Coffee - Brewed from grounds</td>\n",
       "      <td>Quick Added Calories</td>\n",
       "      <td>Bananas - Raw</td>\n",
       "      <td>Spinach - Raw</td>\n",
       "      <td>Strawberries - Raw</td>\n",
       "      <td>Blueberries - Raw</td>\n",
       "      <td>Butter - Salted</td>\n",
       "      <td>Apples - Raw</td>\n",
       "      <td>Cucumber - With peel</td>\n",
       "      <td>Carrots - Raw</td>\n",
       "    </tr>\n",
       "    <tr>\n",
       "      <th>2</th>\n",
       "      <td>Pauls - Smarter White Milk</td>\n",
       "      <td>Coffee - Brewed from grounds</td>\n",
       "      <td>Quick Added Calories</td>\n",
       "      <td>Bananas - Raw</td>\n",
       "      <td>Strawberries - Raw</td>\n",
       "      <td>Spinach - Raw</td>\n",
       "      <td>Butter - Salted</td>\n",
       "      <td>Apples - Raw</td>\n",
       "      <td>Chicken - Breast</td>\n",
       "      <td>Cucumber - With peel</td>\n",
       "      <td>Blueberries - Raw</td>\n",
       "    </tr>\n",
       "    <tr>\n",
       "      <th>3</th>\n",
       "      <td>Quick Added Calories</td>\n",
       "      <td>Coffee - Brewed from grounds</td>\n",
       "      <td>Quick Added Calories</td>\n",
       "      <td>Strawberries - Raw</td>\n",
       "      <td>Bananas - Raw</td>\n",
       "      <td>Apples - Raw</td>\n",
       "      <td>Spinach - Raw</td>\n",
       "      <td>Chicken - Breast</td>\n",
       "      <td>Carrots - Raw</td>\n",
       "      <td>Blueberries - Raw</td>\n",
       "      <td>Butter - Salted</td>\n",
       "    </tr>\n",
       "    <tr>\n",
       "      <th>4</th>\n",
       "      <td>Sainsbury's - Italian - Spaghetti Carbonara</td>\n",
       "      <td>Coffee - Brewed from grounds</td>\n",
       "      <td>Quick Added Calories</td>\n",
       "      <td>Bananas - Raw</td>\n",
       "      <td>Spinach - Raw</td>\n",
       "      <td>Cucumber - With peel</td>\n",
       "      <td>Apples - Raw</td>\n",
       "      <td>Oil - Olive</td>\n",
       "      <td>Butter - Salted</td>\n",
       "      <td>Carrots - Raw</td>\n",
       "      <td>Strawberries - Raw</td>\n",
       "    </tr>\n",
       "    <tr>\n",
       "      <th>5</th>\n",
       "      <td>Carluccio's - Affogato (Espresso)</td>\n",
       "      <td>Coffee - Brewed from grounds</td>\n",
       "      <td>Quick Added Calories</td>\n",
       "      <td>Bananas - Raw</td>\n",
       "      <td>Apples - Raw</td>\n",
       "      <td>Spinach - Raw</td>\n",
       "      <td>Oil - Olive</td>\n",
       "      <td>Butter - Salted</td>\n",
       "      <td>Cucumber - With peel</td>\n",
       "      <td>Carrots - Raw</td>\n",
       "      <td>Peppers - Sweet</td>\n",
       "    </tr>\n",
       "    <tr>\n",
       "      <th>6</th>\n",
       "      <td>Steak - Eye Fillet</td>\n",
       "      <td>Coffee - Brewed from grounds</td>\n",
       "      <td>Quick Added Calories</td>\n",
       "      <td>Bananas - Raw</td>\n",
       "      <td>Apples - Raw</td>\n",
       "      <td>Spinach - Raw</td>\n",
       "      <td>Butter - Salted</td>\n",
       "      <td>Carrots - Raw</td>\n",
       "      <td>Cucumber - With peel</td>\n",
       "      <td>Oil - Olive</td>\n",
       "      <td>Chicken - Breast</td>\n",
       "    </tr>\n",
       "    <tr>\n",
       "      <th>7</th>\n",
       "      <td>Tasti - Salted Caramel Protein Bar</td>\n",
       "      <td>Coffee - Brewed from grounds</td>\n",
       "      <td>Quick Added Calories</td>\n",
       "      <td>Bananas - Raw</td>\n",
       "      <td>Spinach - Raw</td>\n",
       "      <td>Apples - Raw</td>\n",
       "      <td>Butter - Salted</td>\n",
       "      <td>Cucumber - With peel</td>\n",
       "      <td>Carrots - Raw</td>\n",
       "      <td>Eggs - Fried (whole egg)</td>\n",
       "      <td>Chicken - Breast</td>\n",
       "    </tr>\n",
       "  </tbody>\n",
       "</table>\n",
       "</div>"
      ],
      "text/plain": [
       "                                         month                        meal_1                meal_2              meal_3              meal_4                meal_5             meal_6                meal_7                meal_8                    meal_9             meal_10\n",
       "0   my - McDonalds Espresso Pronto® Flat White  Coffee - Brewed from grounds  Quick Added Calories       Bananas - Raw       Spinach - Raw       Butter - Salted       Apples - Raw    Strawberries - Raw     Blueberries - Raw      Cucumber - With peel       Carrots - Raw\n",
       "1           Uncle Tobys Australia - Vita Brits  Coffee - Brewed from grounds  Quick Added Calories       Bananas - Raw       Spinach - Raw    Strawberries - Raw  Blueberries - Raw       Butter - Salted          Apples - Raw      Cucumber - With peel       Carrots - Raw\n",
       "2                   Pauls - Smarter White Milk  Coffee - Brewed from grounds  Quick Added Calories       Bananas - Raw  Strawberries - Raw         Spinach - Raw    Butter - Salted          Apples - Raw      Chicken - Breast      Cucumber - With peel   Blueberries - Raw\n",
       "3                         Quick Added Calories  Coffee - Brewed from grounds  Quick Added Calories  Strawberries - Raw       Bananas - Raw          Apples - Raw      Spinach - Raw      Chicken - Breast         Carrots - Raw         Blueberries - Raw     Butter - Salted\n",
       "4  Sainsbury's - Italian - Spaghetti Carbonara  Coffee - Brewed from grounds  Quick Added Calories       Bananas - Raw       Spinach - Raw  Cucumber - With peel       Apples - Raw           Oil - Olive       Butter - Salted             Carrots - Raw  Strawberries - Raw\n",
       "5            Carluccio's - Affogato (Espresso)  Coffee - Brewed from grounds  Quick Added Calories       Bananas - Raw        Apples - Raw         Spinach - Raw        Oil - Olive       Butter - Salted  Cucumber - With peel             Carrots - Raw     Peppers - Sweet\n",
       "6                           Steak - Eye Fillet  Coffee - Brewed from grounds  Quick Added Calories       Bananas - Raw        Apples - Raw         Spinach - Raw    Butter - Salted         Carrots - Raw  Cucumber - With peel               Oil - Olive    Chicken - Breast\n",
       "7           Tasti - Salted Caramel Protein Bar  Coffee - Brewed from grounds  Quick Added Calories       Bananas - Raw       Spinach - Raw          Apples - Raw    Butter - Salted  Cucumber - With peel         Carrots - Raw  Eggs - Fried (whole egg)    Chicken - Breast"
      ]
     },
     "execution_count": 30,
     "metadata": {},
     "output_type": "execute_result"
    }
   ],
   "source": [
    "top_food_dataframe"
   ]
  },
  {
   "cell_type": "markdown",
   "metadata": {},
   "source": [
    "#### <span style=\"color:#00CC00\"> As we can see, Strawberries - Raw is in the top products after January <br> and every month it increases its popularity until May and then the amount of its use decreases again which is logical "
   ]
  },
  {
   "cell_type": "markdown",
   "metadata": {},
   "source": [
    "# <span style=\"color:#FF7B07\"><div align=\"center\">**Create Features** <a  name=\"4\"></a>"
   ]
  },
  {
   "cell_type": "code",
   "execution_count": 31,
   "metadata": {},
   "outputs": [
    {
     "data": {
      "text/html": [
       "<div>\n",
       "<style scoped>\n",
       "    .dataframe tbody tr th:only-of-type {\n",
       "        vertical-align: middle;\n",
       "    }\n",
       "\n",
       "    .dataframe tbody tr th {\n",
       "        vertical-align: top;\n",
       "    }\n",
       "\n",
       "    .dataframe thead th {\n",
       "        text-align: right;\n",
       "    }\n",
       "</style>\n",
       "<table border=\"1\" class=\"dataframe\">\n",
       "  <thead>\n",
       "    <tr style=\"text-align: right;\">\n",
       "      <th></th>\n",
       "      <th>user_id</th>\n",
       "      <th>date</th>\n",
       "      <th>sequence</th>\n",
       "      <th>food_ids</th>\n",
       "      <th>total_calories</th>\n",
       "      <th>total_carbs</th>\n",
       "      <th>total_fat</th>\n",
       "      <th>total_protein</th>\n",
       "      <th>total_sodium</th>\n",
       "      <th>total_sugar</th>\n",
       "      <th>goal_calories</th>\n",
       "      <th>goal_carbs</th>\n",
       "      <th>goal_fat</th>\n",
       "      <th>goal_protein</th>\n",
       "      <th>goal_sodium</th>\n",
       "      <th>goal_sugar</th>\n",
       "    </tr>\n",
       "  </thead>\n",
       "  <tbody>\n",
       "    <tr>\n",
       "      <th>0</th>\n",
       "      <td>1</td>\n",
       "      <td>2014-09-15</td>\n",
       "      <td>1</td>\n",
       "      <td>[1, 2, 3, 4, 4]</td>\n",
       "      <td>2430</td>\n",
       "      <td>96</td>\n",
       "      <td>37.0</td>\n",
       "      <td>50.0</td>\n",
       "      <td>855.0</td>\n",
       "      <td>63.0</td>\n",
       "      <td>1572.0</td>\n",
       "      <td>196.0</td>\n",
       "      <td>52.0</td>\n",
       "      <td>79.0</td>\n",
       "      <td>2300.0</td>\n",
       "      <td>59.0</td>\n",
       "    </tr>\n",
       "    <tr>\n",
       "      <th>1</th>\n",
       "      <td>1</td>\n",
       "      <td>2014-09-16</td>\n",
       "      <td>1</td>\n",
       "      <td>[5, 1, 2, 3, 6, 7]</td>\n",
       "      <td>1862</td>\n",
       "      <td>158</td>\n",
       "      <td>54.0</td>\n",
       "      <td>114.0</td>\n",
       "      <td>2215.0</td>\n",
       "      <td>100.0</td>\n",
       "      <td>1832.0</td>\n",
       "      <td>229.0</td>\n",
       "      <td>61.0</td>\n",
       "      <td>92.0</td>\n",
       "      <td>2300.0</td>\n",
       "      <td>69.0</td>\n",
       "    </tr>\n",
       "    <tr>\n",
       "      <th>2</th>\n",
       "      <td>1</td>\n",
       "      <td>2014-09-17</td>\n",
       "      <td>1</td>\n",
       "      <td>[1, 2, 3, 6, 8, 9, 10]</td>\n",
       "      <td>2251</td>\n",
       "      <td>187</td>\n",
       "      <td>60.0</td>\n",
       "      <td>98.0</td>\n",
       "      <td>1765.0</td>\n",
       "      <td>105.0</td>\n",
       "      <td>1685.0</td>\n",
       "      <td>210.0</td>\n",
       "      <td>56.0</td>\n",
       "      <td>85.0</td>\n",
       "      <td>2300.0</td>\n",
       "      <td>63.0</td>\n",
       "    </tr>\n",
       "  </tbody>\n",
       "</table>\n",
       "</div>"
      ],
      "text/plain": [
       "   user_id        date  sequence                food_ids  total_calories  total_carbs  total_fat  total_protein  total_sodium  total_sugar  goal_calories  goal_carbs  goal_fat  goal_protein  goal_sodium  goal_sugar\n",
       "0        1  2014-09-15         1         [1, 2, 3, 4, 4]            2430           96       37.0           50.0         855.0         63.0         1572.0       196.0      52.0          79.0       2300.0        59.0\n",
       "1        1  2014-09-16         1      [5, 1, 2, 3, 6, 7]            1862          158       54.0          114.0        2215.0        100.0         1832.0       229.0      61.0          92.0       2300.0        69.0\n",
       "2        1  2014-09-17         1  [1, 2, 3, 6, 8, 9, 10]            2251          187       60.0           98.0        1765.0        105.0         1685.0       210.0      56.0          85.0       2300.0        63.0"
      ]
     },
     "execution_count": 31,
     "metadata": {},
     "output_type": "execute_result"
    }
   ],
   "source": [
    "data.head(3)"
   ]
  },
  {
   "cell_type": "markdown",
   "metadata": {},
   "source": [
    "#### <span style=\"color:#00CC00\"> As we see one feature which needs to be remaked is food_ids <br> So, we will extract most of the information from the given feature and create a new one <br> so that we can lose as few information as possible.<br> Firstly, we'll create a new attribute based on the size of food_ids . "
   ]
  },
  {
   "cell_type": "code",
   "execution_count": 32,
   "metadata": {},
   "outputs": [],
   "source": [
    "data['foods_len'] = data[\"food_ids\"].apply(lambda x: len(x[1:-1].split(',')))"
   ]
  },
  {
   "cell_type": "code",
   "execution_count": 33,
   "metadata": {},
   "outputs": [],
   "source": [
    "# createPlot(data,\"foods_len\",\"Foods len Dist\",\"Foods length\",\"count\")"
   ]
  },
  {
   "cell_type": "markdown",
   "metadata": {},
   "source": [
    "✔️ Foods_len is right skewed (0.8). <br>\n",
    "❌ There are a few outliers in the distribution. <br>\n",
    "✔️ Most of the applicant's foods_len is near 10 <br> \n",
    "❌ Max number of foods in one day is 62 <br>\n",
    "✔️ Min number of foods in one day is 1"
   ]
  },
  {
   "cell_type": "markdown",
   "metadata": {},
   "source": [
    "#### <span style=\"color:#FF7B07\"> For each user we may have several rows. <br> Our goal is to transform the data so that we have one characteristic or one row for each person. <br> So let's take a separate feature of how many records we have for each person. <br> It will also help us to store information and according to the algorithm we can select people who for example have less than 10 records"
   ]
  },
  {
   "cell_type": "markdown",
   "metadata": {},
   "source": [
    "#### <span style=\"color:#FF7B07\"> To do this,we create temporary dataframe where we will have unique user IDs and the corresponding number of logs<br>  so that we do not want the values to be repeated and data manipulation to become difficult. <br> Finally after we prepare the data we will add it and we will have all the columns together so do not be confused "
   ]
  },
  {
   "cell_type": "code",
   "execution_count": 34,
   "metadata": {},
   "outputs": [],
   "source": [
    "# add new feature which shows how many days are logged by each applicants\n",
    "user_logged_freq = data[\"user_id\"].value_counts()\n",
    "user_logged_df = pd.DataFrame(data[\"user_id\"].unique(),columns = ['user_id'])\n",
    "user_logged_df[\"logged_frequency\"] = user_logged_df[\"user_id\"].apply(lambda _id: user_logged_freq[_id])"
   ]
  },
  {
   "cell_type": "code",
   "execution_count": 35,
   "metadata": {},
   "outputs": [],
   "source": [
    "# createPlot(user_logged_df,\"logged_frequency\",\"logged Distribution\",\"logged\",\"count\")"
   ]
  },
  {
   "cell_type": "markdown",
   "metadata": {},
   "source": [
    "✔️ logged frequency is right skewed (0.8). <br>\n",
    "✔️ There are no outliers in the distribution. <br>\n",
    "✔️ Most of the logged frequency is near 42 <br> \n",
    "✔️ Max number of logs is 187 <br>\n",
    "❌ Max number of logs is 1"
   ]
  },
  {
   "cell_type": "markdown",
   "metadata": {},
   "source": [
    "#### <span style=\"color:#00CC00\"> It seems that there are people who have 187 records and also people with 1 record"
   ]
  },
  {
   "cell_type": "markdown",
   "metadata": {},
   "source": [
    "#### <span style=\"color:#FF7B07\"> As we saw, users may have missed data between start and end date, <br> so let's do a separate feature to show that <br> This will help us retain as much information as possible about our customers"
   ]
  },
  {
   "cell_type": "code",
   "execution_count": 36,
   "metadata": {},
   "outputs": [],
   "source": [
    "# this function counts whole days between start and end date and calculates missed days for new feature\n",
    "def days_missed(d1, d2,loggedDays):\n",
    "    d1 = datetime.strptime(str(d1), \"%Y-%m-%d\")\n",
    "    d2 = datetime.strptime(str(d2), \"%Y-%m-%d\")\n",
    "    return abs(abs((d2 - d1).days)-loggedDays)"
   ]
  },
  {
   "cell_type": "code",
   "execution_count": 37,
   "metadata": {},
   "outputs": [],
   "source": [
    "# this function calls days_missed regarding last and first records\n",
    "def get_missed_days(df,userID,logged_frequency):\n",
    "    tail = df[df[\"user_id\"]==userID].tail(1)['date'].values[0]\n",
    "    head = df[df[\"user_id\"]==userID].head(1)['date'].values[0]\n",
    "    return days_missed(tail,head,logged_frequency)   "
   ]
  },
  {
   "cell_type": "code",
   "execution_count": 38,
   "metadata": {},
   "outputs": [],
   "source": [
    "# add new feature based on how many days are missed for each user\n",
    "user_logged_df['days_missed'] = user_logged_df[['user_id','logged_frequency']].apply(lambda x: get_missed_days(data,x.user_id,x.logged_frequency),axis=1)"
   ]
  },
  {
   "cell_type": "code",
   "execution_count": 39,
   "metadata": {},
   "outputs": [],
   "source": [
    "# createPlot(user_logged_df,\"days_missed\",\"Missing days Distribution\",\"Missing days\",\"count\")"
   ]
  },
  {
   "cell_type": "markdown",
   "metadata": {},
   "source": [
    "✔️ Missing days is right skewed (0.4). <br>\n",
    "✔️ There are no outliers in the distribution. <br>\n",
    "❌ Most of the Missing frequency is near 48 <br> \n",
    "❌ Max number of logs is 174 <br>\n",
    "✔️ Max number of logs is 1"
   ]
  },
  {
   "cell_type": "markdown",
   "metadata": {},
   "source": [
    "#### <span style=\"color:#FF7B07\"> Since the data relates to nutrition, health and exercise, <br>we need to have a separate variable for each row <br> that shows user's nutritions ratio satisfies the known dependence. If it's in accepted norm, we call it healthy distributed."
   ]
  },
  {
   "cell_type": "code",
   "execution_count": 40,
   "metadata": {},
   "outputs": [],
   "source": [
    "def getHealtyDistributedValues(value,lower,upper):\n",
    "    if(value <= lower):\n",
    "        return lower-value # the difference person lacked \n",
    "    if(value >= upper):\n",
    "        return value-upper # the difference person exceed \n",
    "    return 0 # method returns 0 for the values in range"
   ]
  },
  {
   "cell_type": "code",
   "execution_count": 41,
   "metadata": {},
   "outputs": [],
   "source": [
    "# There is known that for healthy eating, daily carbs should be between 45-65% out of callories, fats between 10-35% and proteins 20-35%\n",
    "# So this method counts daily norm distribution of person\n",
    "# 0 for the people in persmissible range\n",
    "# max value may be 1.3 (when person only took fats)\n",
    "\n",
    "def healthyDistributed(carbs,fat,protein):\n",
    "    totalCalories = fat*9+ carbs*4 + protein*4 # convert to calories (1g fat = 9 calories and etc..) and sum\n",
    "    sum =  getHealtyDistributedValues ( carbs*4 / (totalCalories+0.00000001),0.45,0.65)\n",
    "    sum += getHealtyDistributedValues ( protein*4 / (totalCalories+0.00000001),0.2,0.35)\n",
    "    sum += getHealtyDistributedValues ( fat*9 / (totalCalories+0.00000001),0.1,0.35)\n",
    "    return sum"
   ]
  },
  {
   "cell_type": "code",
   "execution_count": 42,
   "metadata": {},
   "outputs": [],
   "source": [
    "data['healtyDistrib'] = data[['total_carbs','total_fat','total_protein']].apply(lambda x: healthyDistributed(x.total_carbs,x.total_fat,x.total_protein),axis=1)"
   ]
  },
  {
   "cell_type": "code",
   "execution_count": 43,
   "metadata": {},
   "outputs": [],
   "source": [
    "# createPlot(data,\"healtyDistrib\",\"healthy Distribution\",\"value\",\"count\")"
   ]
  },
  {
   "cell_type": "markdown",
   "metadata": {},
   "source": [
    "✔️ Healthy distribution is right skewed (0.4). <br>\n",
    "❌ There are many outliers in the distribution. <br>\n",
    "✔️ Median is near a range of 0.1 <br> \n",
    "❌ Max number of values is 1.3 <br>\n",
    "✔️ Min number of values is 0"
   ]
  },
  {
   "cell_type": "markdown",
   "metadata": {},
   "source": [
    "#### <span style=\"color:#FF7B07\"> One of the algorithms which we'll implement is to predict whether each user approaches the goal in the future or not <br>so we need a variable that describes this. "
   ]
  },
  {
   "cell_type": "code",
   "execution_count": 44,
   "metadata": {},
   "outputs": [],
   "source": [
    "# this function gets all nutrition values with goals and checks if calories difference is less than percentage of goals\n",
    "# TODO:\n",
    "def check_bounds(total_calories, total_carbs, total_fat, total_protein, total_sodium, total_sugar, \n",
    "               goal_calories, goal_carbs, goal_fat, goal_protein, goal_sodium, goal_sugar,percent):\n",
    "    \n",
    "    return (abs(goal_calories - total_calories) < goal_calories * percent / 100)"
   ]
  },
  {
   "cell_type": "code",
   "execution_count": 45,
   "metadata": {},
   "outputs": [],
   "source": [
    "# this function checks last days for user and counts number of days when his nutrient was in goal range\n",
    "def reach_goal(df,user_id,num_days):\n",
    "    allowed_difference_percentage = 15\n",
    "    tails = df[df[\"user_id\"]==user_id].tail(num_days)\n",
    "    tails[\"reach_goal\"] = tails.apply(lambda row: check_bounds(*(row.values[4:16]),allowed_difference_percentage),axis=1)\n",
    "    return tails[\"reach_goal\"].sum()"
   ]
  },
  {
   "cell_type": "code",
   "execution_count": 46,
   "metadata": {},
   "outputs": [],
   "source": [
    "# create new feature which shows if user reaches goals in last days \n",
    "# and return 1 if the number of days when user reached goal is greater than threshold else 0\n",
    "# TODO:\n",
    "\n",
    "number_of_last_days = 5\n",
    "threshold = 2\n",
    "user_logged_df[\"reach_goal\"] = user_logged_df['user_id'].apply(lambda x: reach_goal(data,x,number_of_last_days))\n",
    "user_logged_df[\"reach_goal\"] = user_logged_df[\"reach_goal\"].apply(lambda x: 1 if x>=threshold else 0)"
   ]
  },
  {
   "cell_type": "code",
   "execution_count": 47,
   "metadata": {},
   "outputs": [],
   "source": [
    "# f, ax  = plt.subplots(1,2,figsize = (18,6))\n",
    "# sns.countplot(x=user_logged_df['reach_goal'],ax=ax[0],palette = 'bright',alpha=0.7)\n",
    "\n",
    "# count = user_logged_df['reach_goal'].value_counts(normalize=True)\n",
    "# count.plot.pie(autopct=\"%.2f%%\",explode = [0,0.2],ax=ax[1])\n",
    "# plt.show()"
   ]
  },
  {
   "cell_type": "markdown",
   "metadata": {},
   "source": [
    "#### <span style=\"color:#00CC00\"> As we see it, the reach_goal is twice as low, so we will need to treat the imbalance. which we can with two ways: <br> 1. Preproccess data <br> 2. Come up with appropriate metric"
   ]
  },
  {
   "cell_type": "markdown",
   "metadata": {},
   "source": [
    "#### <span style=\"color:#FF7B07\"> Each user has its goal and real received nutrient columns <br> so it is important to know the deviation between them and bring them out as a separate feature"
   ]
  },
  {
   "cell_type": "code",
   "execution_count": 48,
   "metadata": {},
   "outputs": [],
   "source": [
    "data[\"calories_diff\"] = data[\"goal_calories\"]-data[\"total_calories\"]\n",
    "data[\"carbs_diff\"] = data[\"goal_carbs\"]-data[\"total_carbs\"]\n",
    "data[\"fat_diff\"] = data[\"goal_fat\"]-data[\"total_fat\"]\n",
    "data[\"protein_diff\"] = data[\"goal_protein\"]-data[\"total_protein\"]\n",
    "data[\"sodium_diff\"] = data[\"goal_sodium\"]-data[\"total_sodium\"]\n",
    "data[\"sugar_diff\"] = data[\"goal_sugar\"]-data[\"total_sugar\"]"
   ]
  },
  {
   "cell_type": "code",
   "execution_count": 49,
   "metadata": {},
   "outputs": [
    {
     "data": {
      "text/html": [
       "<div>\n",
       "<style scoped>\n",
       "    .dataframe tbody tr th:only-of-type {\n",
       "        vertical-align: middle;\n",
       "    }\n",
       "\n",
       "    .dataframe tbody tr th {\n",
       "        vertical-align: top;\n",
       "    }\n",
       "\n",
       "    .dataframe thead th {\n",
       "        text-align: right;\n",
       "    }\n",
       "</style>\n",
       "<table border=\"1\" class=\"dataframe\">\n",
       "  <thead>\n",
       "    <tr style=\"text-align: right;\">\n",
       "      <th></th>\n",
       "      <th>col</th>\n",
       "      <th>maximum difference</th>\n",
       "    </tr>\n",
       "  </thead>\n",
       "  <tbody>\n",
       "    <tr>\n",
       "      <th>0</th>\n",
       "      <td>calories_diff</td>\n",
       "      <td>24505.0</td>\n",
       "    </tr>\n",
       "    <tr>\n",
       "      <th>1</th>\n",
       "      <td>carbs_diff</td>\n",
       "      <td>154161.0</td>\n",
       "    </tr>\n",
       "    <tr>\n",
       "      <th>2</th>\n",
       "      <td>fat_diff</td>\n",
       "      <td>38112.0</td>\n",
       "    </tr>\n",
       "    <tr>\n",
       "      <th>3</th>\n",
       "      <td>protein_diff</td>\n",
       "      <td>102921.0</td>\n",
       "    </tr>\n",
       "    <tr>\n",
       "      <th>4</th>\n",
       "      <td>sodium_diff</td>\n",
       "      <td>22433.0</td>\n",
       "    </tr>\n",
       "    <tr>\n",
       "      <th>5</th>\n",
       "      <td>sugar_diff</td>\n",
       "      <td>34997.0</td>\n",
       "    </tr>\n",
       "  </tbody>\n",
       "</table>\n",
       "</div>"
      ],
      "text/plain": [
       "             col  maximum difference\n",
       "0  calories_diff             24505.0\n",
       "1     carbs_diff            154161.0\n",
       "2       fat_diff             38112.0\n",
       "3   protein_diff            102921.0\n",
       "4    sodium_diff             22433.0\n",
       "5     sugar_diff             34997.0"
      ]
     },
     "execution_count": 49,
     "metadata": {},
     "output_type": "execute_result"
    }
   ],
   "source": [
    "pd.DataFrame([[col,data[col].max()] for col in data.columns[-6:]], columns = ['col','maximum difference'])"
   ]
  },
  {
   "cell_type": "code",
   "execution_count": 50,
   "metadata": {},
   "outputs": [
    {
     "name": "stdout",
     "output_type": "stream",
     "text": [
      "<class 'pandas.core.frame.DataFrame'>\n",
      "Int64Index: 14164 entries, 0 to 14163\n",
      "Data columns (total 2 columns):\n",
      " #   Column      Non-Null Count  Dtype \n",
      "---  ------      --------------  ----- \n",
      " 0   Food        14164 non-null  object\n",
      " 1   Food Group  14036 non-null  object\n",
      "dtypes: object(2)\n",
      "memory usage: 332.0+ KB\n"
     ]
    }
   ],
   "source": [
    "foods_and_groups.info()"
   ]
  },
  {
   "cell_type": "code",
   "execution_count": 51,
   "metadata": {},
   "outputs": [],
   "source": [
    "cols = ['Food', 'Carbs', 'Dietary Fiber', 'Sugar', 'Fat', 'Saturated', 'Polyunsaturated',\n",
    "        'Monounsaturated', 'Trans','Protein', 'Sodium', 'Potassium', 'Cholesterol',\n",
    "        'Vitamin A', 'Vitamin C', 'Calcium', 'Iron']\n",
    "\n",
    "units = [{'Carbs': 'g'},\n",
    "         {'Dietary Fiber': 'g'},\n",
    "         {'Sugar': 'g'},\n",
    "         {'Fat': 'g'},\n",
    "         {'Saturated': 'g'},\n",
    "         {'Polyunsaturated': 'g'},\n",
    "         {'Monounsaturated': 'g'},\n",
    "         {'Trans': 'g'},\n",
    "         {'Protein': 'g'},\n",
    "         {'Sodium': 'mg'},\n",
    "         {'Potassium': 'mg'},\n",
    "         {'Cholesterol': 'mg'},\n",
    "         {'Vitamin A': '%'},\n",
    "         {'Vitamin C': '%'},\n",
    "         {'Calcium': '%'},\n",
    "         {'Iron': '%'}]"
   ]
  },
  {
   "cell_type": "code",
   "execution_count": 52,
   "metadata": {},
   "outputs": [
    {
     "name": "stderr",
     "output_type": "stream",
     "text": [
      "<ipython-input-52-ef4774ff6f82>:13: VisibleDeprecationWarning: Creating an ndarray from ragged nested sequences (which is a list-or-tuple of lists-or-tuples-or ndarrays with different lengths or shapes) is deprecated. If you meant to do this, you must specify 'dtype=object' when creating the ndarray\n",
      "  detailed_food = detailed_food.append(pd.DataFrame(data=np.array(values).T, columns=cols), ignore_index=True)\n"
     ]
    },
    {
     "data": {
      "text/html": [
       "<div>\n",
       "<style scoped>\n",
       "    .dataframe tbody tr th:only-of-type {\n",
       "        vertical-align: middle;\n",
       "    }\n",
       "\n",
       "    .dataframe tbody tr th {\n",
       "        vertical-align: top;\n",
       "    }\n",
       "\n",
       "    .dataframe thead th {\n",
       "        text-align: right;\n",
       "    }\n",
       "</style>\n",
       "<table border=\"1\" class=\"dataframe\">\n",
       "  <thead>\n",
       "    <tr style=\"text-align: right;\">\n",
       "      <th></th>\n",
       "      <th>Food</th>\n",
       "      <th>Carbs</th>\n",
       "      <th>Dietary Fiber</th>\n",
       "      <th>Sugar</th>\n",
       "      <th>Fat</th>\n",
       "      <th>Saturated</th>\n",
       "      <th>Polyunsaturated</th>\n",
       "      <th>Monounsaturated</th>\n",
       "      <th>Trans</th>\n",
       "      <th>Protein</th>\n",
       "      <th>Sodium</th>\n",
       "      <th>Potassium</th>\n",
       "      <th>Cholesterol</th>\n",
       "      <th>Vitamin A</th>\n",
       "      <th>Vitamin C</th>\n",
       "      <th>Calcium</th>\n",
       "      <th>Iron</th>\n",
       "    </tr>\n",
       "  </thead>\n",
       "  <tbody>\n",
       "    <tr>\n",
       "      <th>0</th>\n",
       "      <td>Pillsbury Golden Layer Buttermilk Biscuits Art...</td>\n",
       "      <td>41</td>\n",
       "      <td>1</td>\n",
       "      <td>5</td>\n",
       "      <td>13</td>\n",
       "      <td>2</td>\n",
       "      <td>0</td>\n",
       "      <td>0</td>\n",
       "      <td>4</td>\n",
       "      <td>5</td>\n",
       "      <td>1059</td>\n",
       "      <td>0</td>\n",
       "      <td>0</td>\n",
       "      <td>0</td>\n",
       "      <td>0</td>\n",
       "      <td>0</td>\n",
       "      <td>11</td>\n",
       "    </tr>\n",
       "    <tr>\n",
       "      <th>1</th>\n",
       "      <td>Pillsbury Cinnamon Rolls With Icing Refrigerat...</td>\n",
       "      <td>53</td>\n",
       "      <td>1</td>\n",
       "      <td>21</td>\n",
       "      <td>11</td>\n",
       "      <td>3</td>\n",
       "      <td>0</td>\n",
       "      <td>0</td>\n",
       "      <td>4</td>\n",
       "      <td>4</td>\n",
       "      <td>780</td>\n",
       "      <td>0</td>\n",
       "      <td>0</td>\n",
       "      <td>0</td>\n",
       "      <td>0</td>\n",
       "      <td>2</td>\n",
       "      <td>10</td>\n",
       "    </tr>\n",
       "    <tr>\n",
       "      <th>2</th>\n",
       "      <td>Kraft Foods Shake N Bake Original Recipe Coati...</td>\n",
       "      <td>79</td>\n",
       "      <td>0</td>\n",
       "      <td>0</td>\n",
       "      <td>3</td>\n",
       "      <td>0</td>\n",
       "      <td>0</td>\n",
       "      <td>0</td>\n",
       "      <td>0</td>\n",
       "      <td>6</td>\n",
       "      <td>2182</td>\n",
       "      <td>0</td>\n",
       "      <td>0</td>\n",
       "      <td>0</td>\n",
       "      <td>0</td>\n",
       "      <td>0</td>\n",
       "      <td>0</td>\n",
       "    </tr>\n",
       "    <tr>\n",
       "      <th>3</th>\n",
       "      <td>George Weston Bakeries Thomas English Muffins</td>\n",
       "      <td>46</td>\n",
       "      <td>0</td>\n",
       "      <td>0</td>\n",
       "      <td>1</td>\n",
       "      <td>0</td>\n",
       "      <td>0</td>\n",
       "      <td>0</td>\n",
       "      <td>0</td>\n",
       "      <td>8</td>\n",
       "      <td>345</td>\n",
       "      <td>0</td>\n",
       "      <td>0</td>\n",
       "      <td>0</td>\n",
       "      <td>0</td>\n",
       "      <td>18</td>\n",
       "      <td>7</td>\n",
       "    </tr>\n",
       "    <tr>\n",
       "      <th>4</th>\n",
       "      <td>Waffles Buttermilk Frozen Ready-To-Heat</td>\n",
       "      <td>41</td>\n",
       "      <td>2</td>\n",
       "      <td>4</td>\n",
       "      <td>9</td>\n",
       "      <td>1</td>\n",
       "      <td>1</td>\n",
       "      <td>4</td>\n",
       "      <td>0</td>\n",
       "      <td>6</td>\n",
       "      <td>621</td>\n",
       "      <td>126</td>\n",
       "      <td>15</td>\n",
       "      <td>26</td>\n",
       "      <td>0</td>\n",
       "      <td>27</td>\n",
       "      <td>33</td>\n",
       "    </tr>\n",
       "  </tbody>\n",
       "</table>\n",
       "</div>"
      ],
      "text/plain": [
       "                                                Food Carbs Dietary Fiber Sugar Fat Saturated Polyunsaturated Monounsaturated Trans Protein Sodium Potassium Cholesterol Vitamin A Vitamin C Calcium Iron\n",
       "0  Pillsbury Golden Layer Buttermilk Biscuits Art...    41             1     5  13         2               0               0     4       5   1059         0           0         0         0       0   11\n",
       "1  Pillsbury Cinnamon Rolls With Icing Refrigerat...    53             1    21  11         3               0               0     4       4    780         0           0         0         0       2   10\n",
       "2  Kraft Foods Shake N Bake Original Recipe Coati...    79             0     0   3         0               0               0     0       6   2182         0           0         0         0       0    0\n",
       "3      George Weston Bakeries Thomas English Muffins    46             0     0   1         0               0               0     0       8    345         0           0         0         0      18    7\n",
       "4            Waffles Buttermilk Frozen Ready-To-Heat    41             2     4   9         1               1               4     0       6    621       126          15        26         0      27   33"
      ]
     },
     "execution_count": 52,
     "metadata": {},
     "output_type": "execute_result"
    }
   ],
   "source": [
    "detailed_food = pd.DataFrame(columns=cols)\n",
    "\n",
    "for food in foods:\n",
    "    values = []\n",
    "    values.append([list(food.keys())[0]])\n",
    "    for info in bs(list(food.values())[0]).findAll(\"div\", {\"class\": \"jss123\"}):\n",
    "        try:\n",
    "            value = int(info.decode_contents().split('<span>')[1].split(' ')[0])\n",
    "        except:\n",
    "            value = [None]\n",
    "        values.append([value])\n",
    "    try:\n",
    "        detailed_food = detailed_food.append(pd.DataFrame(data=np.array(values).T, columns=cols), ignore_index=True)\n",
    "    except:\n",
    "        pass\n",
    "\n",
    "detailed_food.head()"
   ]
  },
  {
   "cell_type": "code",
   "execution_count": 53,
   "metadata": {},
   "outputs": [
    {
     "data": {
      "text/plain": [
       "22"
      ]
     },
     "execution_count": 53,
     "metadata": {},
     "output_type": "execute_result"
    }
   ],
   "source": [
    "detailed_food = pd.merge(detailed_food, foods_and_groups, on=['Food'], how='left')\n",
    "detailed_food['Food Group'].nunique()"
   ]
  },
  {
   "cell_type": "code",
   "execution_count": 54,
   "metadata": {},
   "outputs": [
    {
     "data": {
      "text/plain": [
       "array(['Baked Foods', 'Snacks', 'Sweets', 'Vegetables', 'American Indian',\n",
       "       'Restaurant Foods', 'Beverages', 'Fats and Oils', 'Meats',\n",
       "       'Dairy and Egg Products', 'Baby Foods', 'Breakfast Cereals',\n",
       "       'Soups and Sauces', 'Beans and Lentils', 'Fish', 'Fruits', nan,\n",
       "       'Grains and Pasta', 'Nuts and Seeds', 'Prepared Meals',\n",
       "       'Fast Foods', 'Spices and Herbs', 'Dairy and Egg Products '],\n",
       "      dtype=object)"
      ]
     },
     "execution_count": 54,
     "metadata": {},
     "output_type": "execute_result"
    }
   ],
   "source": [
    "detailed_food['Food Group'].unique()"
   ]
  },
  {
   "cell_type": "code",
   "execution_count": 55,
   "metadata": {},
   "outputs": [
    {
     "data": {
      "text/plain": [
       "<AxesSubplot:xlabel='count', ylabel='Food Group'>"
      ]
     },
     "execution_count": 55,
     "metadata": {},
     "output_type": "execute_result"
    },
    {
     "data": {
      "image/png": "[encoded data removed]",
      "text/plain": [
       "<Figure size 720x1152 with 1 Axes>"
      ]
     },
     "metadata": {
      "needs_background": "light"
     },
     "output_type": "display_data"
    }
   ],
   "source": [
    "plt.figure(figsize=(10,16))\n",
    "sns.countplot(y=detailed_food['Food Group'],order=detailed_food['Food Group'].value_counts().index)"
   ]
  },
  {
   "cell_type": "code",
   "execution_count": 56,
   "metadata": {},
   "outputs": [
    {
     "data": {
      "text/plain": [
       "62"
      ]
     },
     "execution_count": 56,
     "metadata": {},
     "output_type": "execute_result"
    }
   ],
   "source": [
    "len(detailed_food[detailed_food['Food Group'] == 'Spices and Herbs'])"
   ]
  },
  {
   "cell_type": "code",
   "execution_count": 57,
   "metadata": {},
   "outputs": [
    {
     "data": {
      "text/html": [
       "<div>\n",
       "<style scoped>\n",
       "    .dataframe tbody tr th:only-of-type {\n",
       "        vertical-align: middle;\n",
       "    }\n",
       "\n",
       "    .dataframe tbody tr th {\n",
       "        vertical-align: top;\n",
       "    }\n",
       "\n",
       "    .dataframe thead th {\n",
       "        text-align: right;\n",
       "    }\n",
       "</style>\n",
       "<table border=\"1\" class=\"dataframe\">\n",
       "  <thead>\n",
       "    <tr style=\"text-align: right;\">\n",
       "      <th></th>\n",
       "      <th>user_id</th>\n",
       "      <th>Carbs</th>\n",
       "      <th>Fat</th>\n",
       "      <th>Protein</th>\n",
       "      <th>Sodium</th>\n",
       "      <th>Sugar</th>\n",
       "    </tr>\n",
       "  </thead>\n",
       "  <tbody>\n",
       "    <tr>\n",
       "      <th>0</th>\n",
       "      <td>1</td>\n",
       "      <td>0.080047</td>\n",
       "      <td>0.033719</td>\n",
       "      <td>0.055719</td>\n",
       "      <td>0.894698</td>\n",
       "      <td>0.035399</td>\n",
       "    </tr>\n",
       "    <tr>\n",
       "      <th>1</th>\n",
       "      <td>2</td>\n",
       "      <td>0.124351</td>\n",
       "      <td>0.029017</td>\n",
       "      <td>0.029166</td>\n",
       "      <td>1.146254</td>\n",
       "      <td>0.052305</td>\n",
       "    </tr>\n",
       "    <tr>\n",
       "      <th>2</th>\n",
       "      <td>3</td>\n",
       "      <td>0.067758</td>\n",
       "      <td>0.022308</td>\n",
       "      <td>0.026986</td>\n",
       "      <td>0.848525</td>\n",
       "      <td>0.010026</td>\n",
       "    </tr>\n",
       "    <tr>\n",
       "      <th>3</th>\n",
       "      <td>4</td>\n",
       "      <td>0.108865</td>\n",
       "      <td>0.046801</td>\n",
       "      <td>0.040632</td>\n",
       "      <td>1.626116</td>\n",
       "      <td>0.679737</td>\n",
       "    </tr>\n",
       "    <tr>\n",
       "      <th>4</th>\n",
       "      <td>5</td>\n",
       "      <td>0.062836</td>\n",
       "      <td>0.011749</td>\n",
       "      <td>0.040451</td>\n",
       "      <td>0.668430</td>\n",
       "      <td>0.025750</td>\n",
       "    </tr>\n",
       "  </tbody>\n",
       "</table>\n",
       "</div>"
      ],
      "text/plain": [
       "   user_id     Carbs       Fat   Protein    Sodium     Sugar\n",
       "0        1  0.080047  0.033719  0.055719  0.894698  0.035399\n",
       "1        2  0.124351  0.029017  0.029166  1.146254  0.052305\n",
       "2        3  0.067758  0.022308  0.026986  0.848525  0.010026\n",
       "3        4  0.108865  0.046801  0.040632  1.626116  0.679737\n",
       "4        5  0.062836  0.011749  0.040451  0.668430  0.025750"
      ]
     },
     "execution_count": 57,
     "metadata": {},
     "output_type": "execute_result"
    }
   ],
   "source": [
    "data['food_ids'] = data['food_ids'].apply(lambda x: x[1:-1].split(', '))\n",
    "\n",
    "nutritional_shares = data[['user_id', 'total_calories', 'total_carbs', 'total_fat', 'total_protein', \n",
    "                          'total_sodium', 'total_sugar']].groupby(['user_id']).sum().reset_index()\n",
    "\n",
    "nutritional_shares['total_carbs'] = nutritional_shares['total_carbs']/nutritional_shares['total_calories']\n",
    "nutritional_shares['total_fat'] = nutritional_shares['total_fat']/nutritional_shares['total_calories']\n",
    "nutritional_shares['total_protein'] = nutritional_shares['total_protein']/nutritional_shares['total_calories']\n",
    "nutritional_shares['total_sodium'] = nutritional_shares['total_sodium']/nutritional_shares['total_calories']\n",
    "nutritional_shares['total_sugar'] = nutritional_shares['total_sugar']/nutritional_shares['total_calories']\n",
    "nutritional_shares.drop(['total_calories'], axis=1,inplace=True)\n",
    "\n",
    "nutritional_shares.columns = ['user_id', 'Carbs', 'Fat', 'Protein', 'Sodium', 'Sugar']\n",
    "\n",
    "nutritional_shares.head()"
   ]
  },
  {
   "cell_type": "code",
   "execution_count": 58,
   "metadata": {},
   "outputs": [],
   "source": [
    "def cast_as_int(x):\n",
    "    try:\n",
    "        return int(x)\n",
    "    except:\n",
    "        return None\n",
    "\n",
    "detailed_food['Carbs'] = detailed_food['Carbs'].apply(lambda x: cast_as_int(x))\n",
    "detailed_food['Fat'] = detailed_food['Fat'].apply(lambda x: cast_as_int(x))\n",
    "detailed_food['Protein'] = detailed_food['Protein'].apply(lambda x: cast_as_int(x))\n",
    "detailed_food['Sodium'] = detailed_food['Sodium'].apply(lambda x: cast_as_int(x))\n",
    "detailed_food['Sugar'] = detailed_food['Sugar'].apply(lambda x: cast_as_int(x))"
   ]
  },
  {
   "cell_type": "code",
   "execution_count": 59,
   "metadata": {},
   "outputs": [
    {
     "data": {
      "text/html": [
       "<div>\n",
       "<style scoped>\n",
       "    .dataframe tbody tr th:only-of-type {\n",
       "        vertical-align: middle;\n",
       "    }\n",
       "\n",
       "    .dataframe tbody tr th {\n",
       "        vertical-align: top;\n",
       "    }\n",
       "\n",
       "    .dataframe thead th {\n",
       "        text-align: right;\n",
       "    }\n",
       "</style>\n",
       "<table border=\"1\" class=\"dataframe\">\n",
       "  <thead>\n",
       "    <tr style=\"text-align: right;\">\n",
       "      <th></th>\n",
       "      <th>Food Group</th>\n",
       "      <th>Carbs</th>\n",
       "      <th>Fat</th>\n",
       "      <th>Protein</th>\n",
       "      <th>Sodium</th>\n",
       "      <th>Sugar</th>\n",
       "    </tr>\n",
       "  </thead>\n",
       "  <tbody>\n",
       "    <tr>\n",
       "      <th>0</th>\n",
       "      <td>American Indian</td>\n",
       "      <td>0.073383</td>\n",
       "      <td>0.077904</td>\n",
       "      <td>0.101114</td>\n",
       "      <td>0.739767</td>\n",
       "      <td>0.007831</td>\n",
       "    </tr>\n",
       "    <tr>\n",
       "      <th>1</th>\n",
       "      <td>Baby Foods</td>\n",
       "      <td>0.217792</td>\n",
       "      <td>0.055624</td>\n",
       "      <td>0.036638</td>\n",
       "      <td>0.564041</td>\n",
       "      <td>0.125904</td>\n",
       "    </tr>\n",
       "    <tr>\n",
       "      <th>2</th>\n",
       "      <td>Baked Foods</td>\n",
       "      <td>0.087999</td>\n",
       "      <td>0.020973</td>\n",
       "      <td>0.011699</td>\n",
       "      <td>0.857947</td>\n",
       "      <td>0.021382</td>\n",
       "    </tr>\n",
       "    <tr>\n",
       "      <th>3</th>\n",
       "      <td>Beans and Lentils</td>\n",
       "      <td>0.078499</td>\n",
       "      <td>0.021581</td>\n",
       "      <td>0.041076</td>\n",
       "      <td>0.849963</td>\n",
       "      <td>0.008880</td>\n",
       "    </tr>\n",
       "    <tr>\n",
       "      <th>4</th>\n",
       "      <td>Beverages</td>\n",
       "      <td>0.190784</td>\n",
       "      <td>0.009369</td>\n",
       "      <td>0.022220</td>\n",
       "      <td>0.660326</td>\n",
       "      <td>0.117301</td>\n",
       "    </tr>\n",
       "    <tr>\n",
       "      <th>5</th>\n",
       "      <td>Breakfast Cereals</td>\n",
       "      <td>0.141584</td>\n",
       "      <td>0.008191</td>\n",
       "      <td>0.017850</td>\n",
       "      <td>0.802462</td>\n",
       "      <td>0.029913</td>\n",
       "    </tr>\n",
       "    <tr>\n",
       "      <th>6</th>\n",
       "      <td>Dairy and Egg Products</td>\n",
       "      <td>0.028992</td>\n",
       "      <td>0.024462</td>\n",
       "      <td>0.029545</td>\n",
       "      <td>0.896410</td>\n",
       "      <td>0.020590</td>\n",
       "    </tr>\n",
       "    <tr>\n",
       "      <th>7</th>\n",
       "      <td>Dairy and Egg Products</td>\n",
       "      <td>0.032853</td>\n",
       "      <td>0.025879</td>\n",
       "      <td>0.026799</td>\n",
       "      <td>0.890180</td>\n",
       "      <td>0.024289</td>\n",
       "    </tr>\n",
       "    <tr>\n",
       "      <th>8</th>\n",
       "      <td>Fast Foods</td>\n",
       "      <td>0.317459</td>\n",
       "      <td>0.003224</td>\n",
       "      <td>0.317008</td>\n",
       "      <td>0.045660</td>\n",
       "      <td>0.316650</td>\n",
       "    </tr>\n",
       "    <tr>\n",
       "      <th>9</th>\n",
       "      <td>Fats and Oils</td>\n",
       "      <td>0.013613</td>\n",
       "      <td>0.142944</td>\n",
       "      <td>0.001151</td>\n",
       "      <td>0.835298</td>\n",
       "      <td>0.006994</td>\n",
       "    </tr>\n",
       "    <tr>\n",
       "      <th>10</th>\n",
       "      <td>Fish</td>\n",
       "      <td>0.013857</td>\n",
       "      <td>0.013986</td>\n",
       "      <td>0.045017</td>\n",
       "      <td>0.925856</td>\n",
       "      <td>0.001283</td>\n",
       "    </tr>\n",
       "    <tr>\n",
       "      <th>11</th>\n",
       "      <td>Fruits</td>\n",
       "      <td>0.366052</td>\n",
       "      <td>0.018940</td>\n",
       "      <td>0.011473</td>\n",
       "      <td>0.377990</td>\n",
       "      <td>0.225545</td>\n",
       "    </tr>\n",
       "    <tr>\n",
       "      <th>12</th>\n",
       "      <td>Grains and Pasta</td>\n",
       "      <td>0.257710</td>\n",
       "      <td>0.010950</td>\n",
       "      <td>0.035349</td>\n",
       "      <td>0.693075</td>\n",
       "      <td>0.002915</td>\n",
       "    </tr>\n",
       "    <tr>\n",
       "      <th>13</th>\n",
       "      <td>Meats</td>\n",
       "      <td>0.008460</td>\n",
       "      <td>0.040484</td>\n",
       "      <td>0.075051</td>\n",
       "      <td>0.874802</td>\n",
       "      <td>0.001203</td>\n",
       "    </tr>\n",
       "    <tr>\n",
       "      <th>14</th>\n",
       "      <td>Nuts and Seeds</td>\n",
       "      <td>0.126323</td>\n",
       "      <td>0.162627</td>\n",
       "      <td>0.066863</td>\n",
       "      <td>0.627556</td>\n",
       "      <td>0.016631</td>\n",
       "    </tr>\n",
       "    <tr>\n",
       "      <th>15</th>\n",
       "      <td>Prepared Meals</td>\n",
       "      <td>0.053914</td>\n",
       "      <td>0.017701</td>\n",
       "      <td>0.018765</td>\n",
       "      <td>0.905075</td>\n",
       "      <td>0.004546</td>\n",
       "    </tr>\n",
       "    <tr>\n",
       "      <th>16</th>\n",
       "      <td>Restaurant Foods</td>\n",
       "      <td>0.036504</td>\n",
       "      <td>0.019582</td>\n",
       "      <td>0.018662</td>\n",
       "      <td>0.921471</td>\n",
       "      <td>0.003780</td>\n",
       "    </tr>\n",
       "    <tr>\n",
       "      <th>17</th>\n",
       "      <td>Snacks</td>\n",
       "      <td>0.114544</td>\n",
       "      <td>0.030532</td>\n",
       "      <td>0.016429</td>\n",
       "      <td>0.819961</td>\n",
       "      <td>0.018534</td>\n",
       "    </tr>\n",
       "    <tr>\n",
       "      <th>18</th>\n",
       "      <td>Soups and Sauces</td>\n",
       "      <td>0.015334</td>\n",
       "      <td>0.005104</td>\n",
       "      <td>0.004838</td>\n",
       "      <td>0.971720</td>\n",
       "      <td>0.003005</td>\n",
       "    </tr>\n",
       "    <tr>\n",
       "      <th>19</th>\n",
       "      <td>Spices and Herbs</td>\n",
       "      <td>0.061132</td>\n",
       "      <td>0.012033</td>\n",
       "      <td>0.013882</td>\n",
       "      <td>0.910313</td>\n",
       "      <td>0.002641</td>\n",
       "    </tr>\n",
       "    <tr>\n",
       "      <th>20</th>\n",
       "      <td>Sweets</td>\n",
       "      <td>0.144991</td>\n",
       "      <td>0.025398</td>\n",
       "      <td>0.009892</td>\n",
       "      <td>0.732523</td>\n",
       "      <td>0.087196</td>\n",
       "    </tr>\n",
       "    <tr>\n",
       "      <th>21</th>\n",
       "      <td>Vegetables</td>\n",
       "      <td>0.049280</td>\n",
       "      <td>0.007737</td>\n",
       "      <td>0.009649</td>\n",
       "      <td>0.924542</td>\n",
       "      <td>0.008792</td>\n",
       "    </tr>\n",
       "  </tbody>\n",
       "</table>\n",
       "</div>"
      ],
      "text/plain": [
       "                 Food Group     Carbs       Fat   Protein    Sodium     Sugar\n",
       "0           American Indian  0.073383  0.077904  0.101114  0.739767  0.007831\n",
       "1                Baby Foods  0.217792  0.055624  0.036638  0.564041  0.125904\n",
       "2               Baked Foods  0.087999  0.020973  0.011699  0.857947  0.021382\n",
       "3         Beans and Lentils  0.078499  0.021581  0.041076  0.849963  0.008880\n",
       "4                 Beverages  0.190784  0.009369  0.022220  0.660326  0.117301\n",
       "5         Breakfast Cereals  0.141584  0.008191  0.017850  0.802462  0.029913\n",
       "6    Dairy and Egg Products  0.028992  0.024462  0.029545  0.896410  0.020590\n",
       "7   Dairy and Egg Products   0.032853  0.025879  0.026799  0.890180  0.024289\n",
       "8                Fast Foods  0.317459  0.003224  0.317008  0.045660  0.316650\n",
       "9             Fats and Oils  0.013613  0.142944  0.001151  0.835298  0.006994\n",
       "10                     Fish  0.013857  0.013986  0.045017  0.925856  0.001283\n",
       "11                   Fruits  0.366052  0.018940  0.011473  0.377990  0.225545\n",
       "12         Grains and Pasta  0.257710  0.010950  0.035349  0.693075  0.002915\n",
       "13                    Meats  0.008460  0.040484  0.075051  0.874802  0.001203\n",
       "14           Nuts and Seeds  0.126323  0.162627  0.066863  0.627556  0.016631\n",
       "15           Prepared Meals  0.053914  0.017701  0.018765  0.905075  0.004546\n",
       "16         Restaurant Foods  0.036504  0.019582  0.018662  0.921471  0.003780\n",
       "17                   Snacks  0.114544  0.030532  0.016429  0.819961  0.018534\n",
       "18         Soups and Sauces  0.015334  0.005104  0.004838  0.971720  0.003005\n",
       "19         Spices and Herbs  0.061132  0.012033  0.013882  0.910313  0.002641\n",
       "20                   Sweets  0.144991  0.025398  0.009892  0.732523  0.087196\n",
       "21               Vegetables  0.049280  0.007737  0.009649  0.924542  0.008792"
      ]
     },
     "execution_count": 59,
     "metadata": {},
     "output_type": "execute_result"
    }
   ],
   "source": [
    "food_group_share = detailed_food[['Food Group', 'Carbs', 'Fat', 'Protein', 'Sodium', 'Sugar']]\\\n",
    "                                .groupby(['Food Group']).sum().reset_index()\n",
    "\n",
    "food_group_share['Total'] = food_group_share['Carbs']+food_group_share['Fat']+food_group_share['Protein']+\\\n",
    "                            food_group_share['Sodium']+food_group_share['Sugar']\n",
    "\n",
    "food_group_share['Carbs'] = food_group_share['Carbs']/food_group_share['Total']\n",
    "food_group_share['Fat'] = food_group_share['Fat']/food_group_share['Total']\n",
    "food_group_share['Protein'] = food_group_share['Protein']/food_group_share['Total']\n",
    "food_group_share['Sodium'] = food_group_share['Sodium']/food_group_share['Total']\n",
    "food_group_share['Sugar'] = food_group_share['Sugar']/food_group_share['Total']\n",
    "food_group_share.drop(['Total'], axis=1,inplace=True)\n",
    "\n",
    "food_group_share.head(22)"
   ]
  },
  {
   "cell_type": "code",
   "execution_count": 60,
   "metadata": {},
   "outputs": [],
   "source": [
    "def determine_user_eating_group(row):\n",
    "    global food_group_share\n",
    "    temp = food_group_share.drop(['Food Group'], axis=1)-row.values\n",
    "    temp['TotalDistance'] = temp['Carbs']**2 + temp['Fat']**2 + temp['Protein']**2 + temp['Sodium']**2 + temp['Sugar']**2\n",
    "    temp['Food Group'] = food_group_share['Food Group']\n",
    "    return temp[temp.TotalDistance == temp.TotalDistance.min()].iloc[0]['Food Group']"
   ]
  },
  {
   "cell_type": "code",
   "execution_count": 61,
   "metadata": {},
   "outputs": [],
   "source": [
    "temp = nutritional_shares.drop(['user_id'], axis=1)\n",
    "FoodGroups = []\n",
    "for i in range(0, len(temp)):\n",
    "    FoodGroups.append(determine_user_eating_group(temp.iloc[i]))\n",
    "    \n",
    "    \n",
    "nutritional_shares['FoodGroup'] = FoodGroups\n",
    "del temp, FoodGroups"
   ]
  },
  {
   "cell_type": "code",
   "execution_count": 62,
   "metadata": {},
   "outputs": [
    {
     "data": {
      "text/html": [
       "<div>\n",
       "<style scoped>\n",
       "    .dataframe tbody tr th:only-of-type {\n",
       "        vertical-align: middle;\n",
       "    }\n",
       "\n",
       "    .dataframe tbody tr th {\n",
       "        vertical-align: top;\n",
       "    }\n",
       "\n",
       "    .dataframe thead th {\n",
       "        text-align: right;\n",
       "    }\n",
       "</style>\n",
       "<table border=\"1\" class=\"dataframe\">\n",
       "  <thead>\n",
       "    <tr style=\"text-align: right;\">\n",
       "      <th></th>\n",
       "      <th>user_id</th>\n",
       "      <th>Carbs</th>\n",
       "      <th>Fat</th>\n",
       "      <th>Protein</th>\n",
       "      <th>Sodium</th>\n",
       "      <th>Sugar</th>\n",
       "      <th>FoodGroup</th>\n",
       "    </tr>\n",
       "  </thead>\n",
       "  <tbody>\n",
       "    <tr>\n",
       "      <th>0</th>\n",
       "      <td>1</td>\n",
       "      <td>0.080047</td>\n",
       "      <td>0.033719</td>\n",
       "      <td>0.055719</td>\n",
       "      <td>0.894698</td>\n",
       "      <td>0.035399</td>\n",
       "      <td>Beans and Lentils</td>\n",
       "    </tr>\n",
       "    <tr>\n",
       "      <th>1</th>\n",
       "      <td>2</td>\n",
       "      <td>0.124351</td>\n",
       "      <td>0.029017</td>\n",
       "      <td>0.029166</td>\n",
       "      <td>1.146254</td>\n",
       "      <td>0.052305</td>\n",
       "      <td>Soups and Sauces</td>\n",
       "    </tr>\n",
       "    <tr>\n",
       "      <th>2</th>\n",
       "      <td>3</td>\n",
       "      <td>0.067758</td>\n",
       "      <td>0.022308</td>\n",
       "      <td>0.026986</td>\n",
       "      <td>0.848525</td>\n",
       "      <td>0.010026</td>\n",
       "      <td>Beans and Lentils</td>\n",
       "    </tr>\n",
       "    <tr>\n",
       "      <th>3</th>\n",
       "      <td>4</td>\n",
       "      <td>0.108865</td>\n",
       "      <td>0.046801</td>\n",
       "      <td>0.040632</td>\n",
       "      <td>1.626116</td>\n",
       "      <td>0.679737</td>\n",
       "      <td>Soups and Sauces</td>\n",
       "    </tr>\n",
       "    <tr>\n",
       "      <th>4</th>\n",
       "      <td>5</td>\n",
       "      <td>0.062836</td>\n",
       "      <td>0.011749</td>\n",
       "      <td>0.040451</td>\n",
       "      <td>0.668430</td>\n",
       "      <td>0.025750</td>\n",
       "      <td>American Indian</td>\n",
       "    </tr>\n",
       "  </tbody>\n",
       "</table>\n",
       "</div>"
      ],
      "text/plain": [
       "   user_id     Carbs       Fat   Protein    Sodium     Sugar          FoodGroup\n",
       "0        1  0.080047  0.033719  0.055719  0.894698  0.035399  Beans and Lentils\n",
       "1        2  0.124351  0.029017  0.029166  1.146254  0.052305   Soups and Sauces\n",
       "2        3  0.067758  0.022308  0.026986  0.848525  0.010026  Beans and Lentils\n",
       "3        4  0.108865  0.046801  0.040632  1.626116  0.679737   Soups and Sauces\n",
       "4        5  0.062836  0.011749  0.040451  0.668430  0.025750    American Indian"
      ]
     },
     "execution_count": 62,
     "metadata": {},
     "output_type": "execute_result"
    }
   ],
   "source": [
    "nutritional_shares.head()"
   ]
  },
  {
   "cell_type": "markdown",
   "metadata": {},
   "source": [
    "# <span style=\"color:#FF7B07\"><div align=\"center\">**Data Cleaning** <a  name=\"5\"></a>"
   ]
  },
  {
   "cell_type": "markdown",
   "metadata": {},
   "source": [
    "#### <span style=\"color:#FF7B07\"> Drop applicants which have more than 3 null values "
   ]
  },
  {
   "cell_type": "code",
   "execution_count": 63,
   "metadata": {},
   "outputs": [],
   "source": [
    "cond = data.index.isin(nullColumns['index']) \n",
    "data.drop(data[cond].index, inplace = True)"
   ]
  },
  {
   "cell_type": "markdown",
   "metadata": {},
   "source": [
    "#### <span style=\"color:#FF7B07\"> Drop applicants which have 0 goal calories"
   ]
  },
  {
   "cell_type": "code",
   "execution_count": 64,
   "metadata": {},
   "outputs": [],
   "source": [
    "zeros = data[data['goal_calories']==0].index\n",
    "zeros = pd.DataFrame(zeros,columns={'index'})\n",
    "\n",
    "cond = data.index.isin(zeros['index']) \n",
    "data.drop(data[cond].index, inplace = True)"
   ]
  },
  {
   "cell_type": "code",
   "execution_count": 65,
   "metadata": {},
   "outputs": [
    {
     "name": "stdout",
     "output_type": "stream",
     "text": [
      "Examples which have zero in goal_calories :  0.0 %\n"
     ]
    }
   ],
   "source": [
    "print('Examples which have zero in goal_calories : ',(len(data[data['goal_calories']==0])/len(data))*100,'%')"
   ]
  },
  {
   "cell_type": "markdown",
   "metadata": {},
   "source": [
    "#### <span style=\"color:#FF7B07\"> Delete \"date\" \"food_ids\" and \"sequence\" columns because we no longer use them. all the information we need from them are reflected in other columns."
   ]
  },
  {
   "cell_type": "code",
   "execution_count": 66,
   "metadata": {},
   "outputs": [],
   "source": [
    "data = data.drop(columns=['date','food_ids','sequence'])"
   ]
  },
  {
   "cell_type": "code",
   "execution_count": 67,
   "metadata": {},
   "outputs": [
    {
     "data": {
      "text/html": [
       "<div>\n",
       "<style scoped>\n",
       "    .dataframe tbody tr th:only-of-type {\n",
       "        vertical-align: middle;\n",
       "    }\n",
       "\n",
       "    .dataframe tbody tr th {\n",
       "        vertical-align: top;\n",
       "    }\n",
       "\n",
       "    .dataframe thead th {\n",
       "        text-align: right;\n",
       "    }\n",
       "</style>\n",
       "<table border=\"1\" class=\"dataframe\">\n",
       "  <thead>\n",
       "    <tr style=\"text-align: right;\">\n",
       "      <th></th>\n",
       "      <th>user_id</th>\n",
       "      <th>total_calories</th>\n",
       "      <th>total_carbs</th>\n",
       "      <th>total_fat</th>\n",
       "      <th>total_protein</th>\n",
       "      <th>total_sodium</th>\n",
       "      <th>total_sugar</th>\n",
       "      <th>goal_calories</th>\n",
       "      <th>goal_carbs</th>\n",
       "      <th>goal_fat</th>\n",
       "      <th>goal_protein</th>\n",
       "      <th>goal_sodium</th>\n",
       "      <th>goal_sugar</th>\n",
       "      <th>foods_len</th>\n",
       "      <th>healtyDistrib</th>\n",
       "      <th>calories_diff</th>\n",
       "      <th>carbs_diff</th>\n",
       "      <th>fat_diff</th>\n",
       "      <th>protein_diff</th>\n",
       "      <th>sodium_diff</th>\n",
       "      <th>sugar_diff</th>\n",
       "    </tr>\n",
       "  </thead>\n",
       "  <tbody>\n",
       "    <tr>\n",
       "      <th>0</th>\n",
       "      <td>1</td>\n",
       "      <td>2430</td>\n",
       "      <td>96</td>\n",
       "      <td>37.0</td>\n",
       "      <td>50.0</td>\n",
       "      <td>855.0</td>\n",
       "      <td>63.0</td>\n",
       "      <td>1572.0</td>\n",
       "      <td>196.0</td>\n",
       "      <td>52.0</td>\n",
       "      <td>79.0</td>\n",
       "      <td>2300.0</td>\n",
       "      <td>59.0</td>\n",
       "      <td>5</td>\n",
       "      <td>0.044384</td>\n",
       "      <td>-858.0</td>\n",
       "      <td>100.0</td>\n",
       "      <td>15.0</td>\n",
       "      <td>29.0</td>\n",
       "      <td>1445.0</td>\n",
       "      <td>-4.0</td>\n",
       "    </tr>\n",
       "    <tr>\n",
       "      <th>1</th>\n",
       "      <td>1</td>\n",
       "      <td>1862</td>\n",
       "      <td>158</td>\n",
       "      <td>54.0</td>\n",
       "      <td>114.0</td>\n",
       "      <td>2215.0</td>\n",
       "      <td>100.0</td>\n",
       "      <td>1832.0</td>\n",
       "      <td>229.0</td>\n",
       "      <td>61.0</td>\n",
       "      <td>92.0</td>\n",
       "      <td>2300.0</td>\n",
       "      <td>69.0</td>\n",
       "      <td>6</td>\n",
       "      <td>0.048475</td>\n",
       "      <td>-30.0</td>\n",
       "      <td>71.0</td>\n",
       "      <td>7.0</td>\n",
       "      <td>-22.0</td>\n",
       "      <td>85.0</td>\n",
       "      <td>-31.0</td>\n",
       "    </tr>\n",
       "  </tbody>\n",
       "</table>\n",
       "</div>"
      ],
      "text/plain": [
       "   user_id  total_calories  total_carbs  total_fat  total_protein  total_sodium  total_sugar  goal_calories  goal_carbs  goal_fat  goal_protein  goal_sodium  goal_sugar  foods_len  healtyDistrib  calories_diff  carbs_diff  fat_diff  protein_diff  sodium_diff  sugar_diff\n",
       "0        1            2430           96       37.0           50.0         855.0         63.0         1572.0       196.0      52.0          79.0       2300.0        59.0          5       0.044384         -858.0       100.0      15.0          29.0       1445.0        -4.0\n",
       "1        1            1862          158       54.0          114.0        2215.0        100.0         1832.0       229.0      61.0          92.0       2300.0        69.0          6       0.048475          -30.0        71.0       7.0         -22.0         85.0       -31.0"
      ]
     },
     "execution_count": 67,
     "metadata": {},
     "output_type": "execute_result"
    }
   ],
   "source": [
    "data.head(2)"
   ]
  },
  {
   "cell_type": "code",
   "execution_count": 68,
   "metadata": {},
   "outputs": [
    {
     "data": {
      "text/html": [
       "<div>\n",
       "<style scoped>\n",
       "    .dataframe tbody tr th:only-of-type {\n",
       "        vertical-align: middle;\n",
       "    }\n",
       "\n",
       "    .dataframe tbody tr th {\n",
       "        vertical-align: top;\n",
       "    }\n",
       "\n",
       "    .dataframe thead th {\n",
       "        text-align: right;\n",
       "    }\n",
       "</style>\n",
       "<table border=\"1\" class=\"dataframe\">\n",
       "  <thead>\n",
       "    <tr style=\"text-align: right;\">\n",
       "      <th></th>\n",
       "      <th>user_id</th>\n",
       "      <th>total_calories</th>\n",
       "      <th>total_carbs</th>\n",
       "      <th>total_fat</th>\n",
       "      <th>total_protein</th>\n",
       "      <th>total_sodium</th>\n",
       "      <th>total_sugar</th>\n",
       "      <th>goal_calories</th>\n",
       "      <th>goal_carbs</th>\n",
       "      <th>goal_fat</th>\n",
       "      <th>goal_protein</th>\n",
       "      <th>goal_sodium</th>\n",
       "      <th>goal_sugar</th>\n",
       "      <th>foods_len</th>\n",
       "      <th>healtyDistrib</th>\n",
       "      <th>calories_diff</th>\n",
       "      <th>carbs_diff</th>\n",
       "      <th>fat_diff</th>\n",
       "      <th>protein_diff</th>\n",
       "      <th>sodium_diff</th>\n",
       "      <th>sugar_diff</th>\n",
       "    </tr>\n",
       "  </thead>\n",
       "  <tbody>\n",
       "    <tr>\n",
       "      <th>count</th>\n",
       "      <td>559342.000000</td>\n",
       "      <td>5.593420e+05</td>\n",
       "      <td>559342.000000</td>\n",
       "      <td>559342.000000</td>\n",
       "      <td>559342.000000</td>\n",
       "      <td>559342.000000</td>\n",
       "      <td>559342.000000</td>\n",
       "      <td>559342.000000</td>\n",
       "      <td>559342.000000</td>\n",
       "      <td>559342.000000</td>\n",
       "      <td>559337.000000</td>\n",
       "      <td>518991.000000</td>\n",
       "      <td>518721.000000</td>\n",
       "      <td>559342.000000</td>\n",
       "      <td>559342.000000</td>\n",
       "      <td>5.593420e+05</td>\n",
       "      <td>559342.000000</td>\n",
       "      <td>559342.000000</td>\n",
       "      <td>559337.000000</td>\n",
       "      <td>518991.000000</td>\n",
       "      <td>518721.000000</td>\n",
       "    </tr>\n",
       "    <tr>\n",
       "      <th>mean</th>\n",
       "      <td>4928.667091</td>\n",
       "      <td>1.422599e+03</td>\n",
       "      <td>151.995437</td>\n",
       "      <td>69.856238</td>\n",
       "      <td>92.374558</td>\n",
       "      <td>1127.923914</td>\n",
       "      <td>417.722109</td>\n",
       "      <td>1684.267588</td>\n",
       "      <td>196.849394</td>\n",
       "      <td>90.184998</td>\n",
       "      <td>157.265690</td>\n",
       "      <td>1447.188475</td>\n",
       "      <td>411.346601</td>\n",
       "      <td>11.115933</td>\n",
       "      <td>0.205344</td>\n",
       "      <td>2.616682e+02</td>\n",
       "      <td>44.853957</td>\n",
       "      <td>20.328760</td>\n",
       "      <td>64.905794</td>\n",
       "      <td>261.473945</td>\n",
       "      <td>104.938478</td>\n",
       "    </tr>\n",
       "    <tr>\n",
       "      <th>std</th>\n",
       "      <td>2848.892731</td>\n",
       "      <td>2.335828e+03</td>\n",
       "      <td>358.199193</td>\n",
       "      <td>276.120161</td>\n",
       "      <td>286.521470</td>\n",
       "      <td>2087.502459</td>\n",
       "      <td>926.315223</td>\n",
       "      <td>657.107447</td>\n",
       "      <td>356.327460</td>\n",
       "      <td>240.864632</td>\n",
       "      <td>390.084854</td>\n",
       "      <td>1166.457196</td>\n",
       "      <td>886.225766</td>\n",
       "      <td>6.295681</td>\n",
       "      <td>0.255165</td>\n",
       "      <td>2.367697e+03</td>\n",
       "      <td>440.439155</td>\n",
       "      <td>266.046059</td>\n",
       "      <td>391.353357</td>\n",
       "      <td>1454.248540</td>\n",
       "      <td>675.295769</td>\n",
       "    </tr>\n",
       "    <tr>\n",
       "      <th>min</th>\n",
       "      <td>1.000000</td>\n",
       "      <td>0.000000e+00</td>\n",
       "      <td>0.000000</td>\n",
       "      <td>0.000000</td>\n",
       "      <td>0.000000</td>\n",
       "      <td>0.000000</td>\n",
       "      <td>0.000000</td>\n",
       "      <td>1.000000</td>\n",
       "      <td>0.000000</td>\n",
       "      <td>0.000000</td>\n",
       "      <td>0.000000</td>\n",
       "      <td>0.000000</td>\n",
       "      <td>0.000000</td>\n",
       "      <td>1.000000</td>\n",
       "      <td>0.000000</td>\n",
       "      <td>-1.199500e+06</td>\n",
       "      <td>-209957.000000</td>\n",
       "      <td>-132016.000000</td>\n",
       "      <td>-114901.000000</td>\n",
       "      <td>-417776.000000</td>\n",
       "      <td>-167742.000000</td>\n",
       "    </tr>\n",
       "    <tr>\n",
       "      <th>25%</th>\n",
       "      <td>2478.000000</td>\n",
       "      <td>1.040000e+03</td>\n",
       "      <td>76.000000</td>\n",
       "      <td>29.000000</td>\n",
       "      <td>40.000000</td>\n",
       "      <td>28.000000</td>\n",
       "      <td>21.000000</td>\n",
       "      <td>1381.000000</td>\n",
       "      <td>130.000000</td>\n",
       "      <td>47.000000</td>\n",
       "      <td>70.000000</td>\n",
       "      <td>56.000000</td>\n",
       "      <td>45.000000</td>\n",
       "      <td>7.000000</td>\n",
       "      <td>0.030726</td>\n",
       "      <td>-2.800000e+01</td>\n",
       "      <td>-9.000000</td>\n",
       "      <td>-7.000000</td>\n",
       "      <td>3.000000</td>\n",
       "      <td>-10.000000</td>\n",
       "      <td>-3.000000</td>\n",
       "    </tr>\n",
       "    <tr>\n",
       "      <th>50%</th>\n",
       "      <td>4907.000000</td>\n",
       "      <td>1.403000e+03</td>\n",
       "      <td>136.000000</td>\n",
       "      <td>49.000000</td>\n",
       "      <td>66.000000</td>\n",
       "      <td>531.000000</td>\n",
       "      <td>49.000000</td>\n",
       "      <td>1658.000000</td>\n",
       "      <td>180.000000</td>\n",
       "      <td>58.000000</td>\n",
       "      <td>96.000000</td>\n",
       "      <td>2300.000000</td>\n",
       "      <td>64.000000</td>\n",
       "      <td>10.000000</td>\n",
       "      <td>0.105293</td>\n",
       "      <td>2.480000e+02</td>\n",
       "      <td>36.000000</td>\n",
       "      <td>12.000000</td>\n",
       "      <td>30.000000</td>\n",
       "      <td>31.000000</td>\n",
       "      <td>19.000000</td>\n",
       "    </tr>\n",
       "    <tr>\n",
       "      <th>75%</th>\n",
       "      <td>7412.000000</td>\n",
       "      <td>1.765000e+03</td>\n",
       "      <td>191.000000</td>\n",
       "      <td>72.000000</td>\n",
       "      <td>97.000000</td>\n",
       "      <td>1969.000000</td>\n",
       "      <td>114.000000</td>\n",
       "      <td>2000.000000</td>\n",
       "      <td>230.000000</td>\n",
       "      <td>77.000000</td>\n",
       "      <td>136.000000</td>\n",
       "      <td>2300.000000</td>\n",
       "      <td>100.000000</td>\n",
       "      <td>15.000000</td>\n",
       "      <td>0.272316</td>\n",
       "      <td>6.940000e+02</td>\n",
       "      <td>96.000000</td>\n",
       "      <td>33.000000</td>\n",
       "      <td>63.000000</td>\n",
       "      <td>817.000000</td>\n",
       "      <td>48.000000</td>\n",
       "    </tr>\n",
       "    <tr>\n",
       "      <th>max</th>\n",
       "      <td>9897.000000</td>\n",
       "      <td>1.200800e+06</td>\n",
       "      <td>210865.000000</td>\n",
       "      <td>132088.000000</td>\n",
       "      <td>114949.000000</td>\n",
       "      <td>960000.000000</td>\n",
       "      <td>168015.000000</td>\n",
       "      <td>26068.000000</td>\n",
       "      <td>154417.000000</td>\n",
       "      <td>38128.000000</td>\n",
       "      <td>102945.000000</td>\n",
       "      <td>23009.000000</td>\n",
       "      <td>35055.000000</td>\n",
       "      <td>62.000000</td>\n",
       "      <td>1.300000</td>\n",
       "      <td>2.450500e+04</td>\n",
       "      <td>154161.000000</td>\n",
       "      <td>38112.000000</td>\n",
       "      <td>102921.000000</td>\n",
       "      <td>22433.000000</td>\n",
       "      <td>34997.000000</td>\n",
       "    </tr>\n",
       "  </tbody>\n",
       "</table>\n",
       "</div>"
      ],
      "text/plain": [
       "             user_id  total_calories    total_carbs      total_fat  total_protein   total_sodium    total_sugar  goal_calories     goal_carbs       goal_fat   goal_protein    goal_sodium     goal_sugar      foods_len  healtyDistrib  calories_diff     carbs_diff       fat_diff   protein_diff    sodium_diff     sugar_diff\n",
       "count  559342.000000    5.593420e+05  559342.000000  559342.000000  559342.000000  559342.000000  559342.000000  559342.000000  559342.000000  559342.000000  559337.000000  518991.000000  518721.000000  559342.000000  559342.000000   5.593420e+05  559342.000000  559342.000000  559337.000000  518991.000000  518721.000000\n",
       "mean     4928.667091    1.422599e+03     151.995437      69.856238      92.374558    1127.923914     417.722109    1684.267588     196.849394      90.184998     157.265690    1447.188475     411.346601      11.115933       0.205344   2.616682e+02      44.853957      20.328760      64.905794     261.473945     104.938478\n",
       "std      2848.892731    2.335828e+03     358.199193     276.120161     286.521470    2087.502459     926.315223     657.107447     356.327460     240.864632     390.084854    1166.457196     886.225766       6.295681       0.255165   2.367697e+03     440.439155     266.046059     391.353357    1454.248540     675.295769\n",
       "min         1.000000    0.000000e+00       0.000000       0.000000       0.000000       0.000000       0.000000       1.000000       0.000000       0.000000       0.000000       0.000000       0.000000       1.000000       0.000000  -1.199500e+06 -209957.000000 -132016.000000 -114901.000000 -417776.000000 -167742.000000\n",
       "25%      2478.000000    1.040000e+03      76.000000      29.000000      40.000000      28.000000      21.000000    1381.000000     130.000000      47.000000      70.000000      56.000000      45.000000       7.000000       0.030726  -2.800000e+01      -9.000000      -7.000000       3.000000     -10.000000      -3.000000\n",
       "50%      4907.000000    1.403000e+03     136.000000      49.000000      66.000000     531.000000      49.000000    1658.000000     180.000000      58.000000      96.000000    2300.000000      64.000000      10.000000       0.105293   2.480000e+02      36.000000      12.000000      30.000000      31.000000      19.000000\n",
       "75%      7412.000000    1.765000e+03     191.000000      72.000000      97.000000    1969.000000     114.000000    2000.000000     230.000000      77.000000     136.000000    2300.000000     100.000000      15.000000       0.272316   6.940000e+02      96.000000      33.000000      63.000000     817.000000      48.000000\n",
       "max      9897.000000    1.200800e+06  210865.000000  132088.000000  114949.000000  960000.000000  168015.000000   26068.000000  154417.000000   38128.000000  102945.000000   23009.000000   35055.000000      62.000000       1.300000   2.450500e+04  154161.000000   38112.000000  102921.000000   22433.000000   34997.000000"
      ]
     },
     "execution_count": 68,
     "metadata": {},
     "output_type": "execute_result"
    }
   ],
   "source": [
    "data.describe()"
   ]
  },
  {
   "cell_type": "markdown",
   "metadata": {},
   "source": [
    "#### <span style=\"color:#FF7B07\"> As we mentioned before, there are outliers in our data which needs to be removed because it can mislead our analysis. To perform this, we use standard deviation method for outliers."
   ]
  },
  {
   "cell_type": "code",
   "execution_count": 69,
   "metadata": {},
   "outputs": [],
   "source": [
    "def remove_outliers_std(df, column):\n",
    "    global lower,upper\n",
    "#   calculate the mean and standard deviation of the data frame\n",
    "    data_mean, data_std = df[column].mean(), df[column].std()\n",
    "#   calculate the cutoff value\n",
    "    cut_off = data_std * 4\n",
    "#   calculate the lower and upper bound value\n",
    "    lower, upper = data_mean - cut_off, data_mean + cut_off\n",
    "#   Calculate the number of records below and above lower and above bound value respectively\n",
    "    df1 = df[df[column] > upper]\n",
    "    df2 = df[df[column] < lower]\n",
    "    df.drop(df1.index,inplace=True)"
   ]
  },
  {
   "cell_type": "code",
   "execution_count": 70,
   "metadata": {},
   "outputs": [
    {
     "name": "stdout",
     "output_type": "stream",
     "text": [
      "Percenteage of removed outliers in rows point of view 8.077526808285455\n",
      "Percenteage of removed outliers in users point of view 4.499521327518352\n"
     ]
    }
   ],
   "source": [
    "data_prev_shape = data.shape\n",
    "user_prev_shape = data['user_id'].nunique()\n",
    "\n",
    "for column in data.columns:\n",
    "    remove_outliers_std(data,column)\n",
    "    \n",
    "print(f'Percenteage of removed outliers in rows point of view {100-data.shape[0]/data_prev_shape[0]*100}')\n",
    "print(f'Percenteage of removed outliers in users point of view {100-data[\"user_id\"].nunique()/user_prev_shape*100}')"
   ]
  },
  {
   "cell_type": "markdown",
   "metadata": {},
   "source": [
    "#### <span style=\"color:#00CC00\"> removed rows percentage may appear high, but the point is that in our tasks we should concentrate on users and user's rate is acceptable."
   ]
  },
  {
   "cell_type": "markdown",
   "metadata": {},
   "source": [
    "#### <span style=\"color:#FF7B07\"> Some of the features had wide range of values so lets scale them"
   ]
  },
  {
   "cell_type": "code",
   "execution_count": 71,
   "metadata": {},
   "outputs": [],
   "source": [
    "scaler = preprocessing.MinMaxScaler()\n",
    "col_df = data.columns.drop('user_id')\n",
    "col_user_logged_df = [\"logged_frequency\",\"days_missed\"]\n",
    "\n",
    "user_logged_df[col_user_logged_df] = scaler.fit_transform(user_logged_df[col_user_logged_df])\n",
    "data[col_df] = scaler.fit_transform(data[col_df])"
   ]
  },
  {
   "cell_type": "markdown",
   "metadata": {},
   "source": [
    "#### <span style=\"color:#FF7B07\"> For now, we don't need any columns besides user_id and FoodGroup so drop them"
   ]
  },
  {
   "cell_type": "code",
   "execution_count": 72,
   "metadata": {},
   "outputs": [],
   "source": [
    "nutritional_shares = nutritional_shares.drop(columns = [\"Carbs\",\"Fat\",\"Protein\",\"Sodium\",\"Sugar\"])"
   ]
  },
  {
   "cell_type": "markdown",
   "metadata": {},
   "source": [
    "#### <span style=\"color:#FF7B07\"> FoodGroup is string type so we need to encode them"
   ]
  },
  {
   "cell_type": "code",
   "execution_count": 73,
   "metadata": {},
   "outputs": [],
   "source": [
    "def get_encoded_dict(df,lst):\n",
    "    \"\"\"\n",
    "    this function creates dictionary for encoding. Its find unique labels for each column and enumerate them\n",
    "    \n",
    "    Arguments:\n",
    "    df -- pandas dataframe\n",
    "    lst -- list of columns which we want to encode \n",
    "    \n",
    "    Returns:\n",
    "    dictionary where key is column name and value is dictionary of unique labels and encoding value\n",
    "    \"\"\"\n",
    "    encoded_dict = {}\n",
    "    for col in lst:\n",
    "        each_dict = {}\n",
    "        sorted_unique_names = df[col].dropna().unique()\n",
    "        sorted_unique_names.sort()\n",
    "        for i,val in enumerate(sorted_unique_names):\n",
    "            each_dict[val] = i\n",
    "        encoded_dict[col] = each_dict\n",
    "    return encoded_dict"
   ]
  },
  {
   "cell_type": "code",
   "execution_count": 74,
   "metadata": {},
   "outputs": [],
   "source": [
    "encoded_dict = get_encoded_dict(nutritional_shares,[\"FoodGroup\"])\n",
    "nutritional_shares = nutritional_shares.replace(encoded_dict)"
   ]
  },
  {
   "cell_type": "markdown",
   "metadata": {},
   "source": [
    "# <span style=\"color:#FF7B07\"><div align=\"center\">**Data Preparation** <a  name=\"6\"></a>"
   ]
  },
  {
   "cell_type": "markdown",
   "metadata": {},
   "source": [
    "#### <span style=\"color:#FF7B07\"> As we have seen all users have a different number of records and we want each user to have one characteristic in one row.<br>For this we will take a 5 day record from all users and then we will flatten it. <br> From users who had more than 5 data we will leave the last 5 days. And those who had less than 5 will be filled with -1s "
   ]
  },
  {
   "cell_type": "code",
   "execution_count": 75,
   "metadata": {},
   "outputs": [],
   "source": [
    "def row_padding(x,num_row):\n",
    "    # get last row because I need same format and same id, others columns replaced by -1\n",
    "    last_row = x.iloc[-1] \n",
    "    last_row[1:] = [-1]*len(last_row[1:])\n",
    "    \n",
    "    if np.shape(x)[0] < num_row:\n",
    "        new_x = pd.DataFrame(x)\n",
    "        for i in range(np.shape(x)[0],num_row):\n",
    "            new_x = pd.DataFrame(new_x.append(last_row))\n",
    "        return new_x\n",
    "    else:\n",
    "        return x.tail(num_row)"
   ]
  },
  {
   "cell_type": "code",
   "execution_count": 76,
   "metadata": {},
   "outputs": [],
   "source": [
    "# this function flattens all rows for each user which we padded already \n",
    "# so creates one vector because we need one input for each user\n",
    "def flatten_rows(x,cols):\n",
    "    for i in range(1,x.shape[0]):\n",
    "        for j in range(1,len(cols)):\n",
    "            temp_row = x.iloc[i]\n",
    "            x[cols[j]+\"_\"+str(i)] = temp_row[j]\n",
    "    return x.head(1)"
   ]
  },
  {
   "cell_type": "code",
   "execution_count": 77,
   "metadata": {},
   "outputs": [],
   "source": [
    "# It may take 5 minutes \n",
    "data = data.groupby('user_id').apply(row_padding,5).reset_index(drop=True)\n",
    "\n",
    "cols = data.columns\n",
    "data = data.groupby('user_id').apply(flatten_rows,cols).reset_index(drop=True)"
   ]
  },
  {
   "cell_type": "code",
   "execution_count": 78,
   "metadata": {},
   "outputs": [
    {
     "data": {
      "text/html": [
       "<div>\n",
       "<style scoped>\n",
       "    .dataframe tbody tr th:only-of-type {\n",
       "        vertical-align: middle;\n",
       "    }\n",
       "\n",
       "    .dataframe tbody tr th {\n",
       "        vertical-align: top;\n",
       "    }\n",
       "\n",
       "    .dataframe thead th {\n",
       "        text-align: right;\n",
       "    }\n",
       "</style>\n",
       "<table border=\"1\" class=\"dataframe\">\n",
       "  <thead>\n",
       "    <tr style=\"text-align: right;\">\n",
       "      <th></th>\n",
       "      <th>user_id</th>\n",
       "      <th>total_calories</th>\n",
       "      <th>total_carbs</th>\n",
       "      <th>total_fat</th>\n",
       "      <th>total_protein</th>\n",
       "      <th>total_sodium</th>\n",
       "      <th>total_sugar</th>\n",
       "      <th>goal_calories</th>\n",
       "      <th>goal_carbs</th>\n",
       "      <th>goal_fat</th>\n",
       "      <th>goal_protein</th>\n",
       "      <th>goal_sodium</th>\n",
       "      <th>goal_sugar</th>\n",
       "      <th>foods_len</th>\n",
       "      <th>healtyDistrib</th>\n",
       "      <th>calories_diff</th>\n",
       "      <th>carbs_diff</th>\n",
       "      <th>fat_diff</th>\n",
       "      <th>protein_diff</th>\n",
       "      <th>sodium_diff</th>\n",
       "      <th>sugar_diff</th>\n",
       "      <th>total_calories_1</th>\n",
       "      <th>total_carbs_1</th>\n",
       "      <th>total_fat_1</th>\n",
       "      <th>total_protein_1</th>\n",
       "      <th>total_sodium_1</th>\n",
       "      <th>total_sugar_1</th>\n",
       "      <th>goal_calories_1</th>\n",
       "      <th>goal_carbs_1</th>\n",
       "      <th>goal_fat_1</th>\n",
       "      <th>goal_protein_1</th>\n",
       "      <th>goal_sodium_1</th>\n",
       "      <th>goal_sugar_1</th>\n",
       "      <th>foods_len_1</th>\n",
       "      <th>healtyDistrib_1</th>\n",
       "      <th>calories_diff_1</th>\n",
       "      <th>carbs_diff_1</th>\n",
       "      <th>fat_diff_1</th>\n",
       "      <th>protein_diff_1</th>\n",
       "      <th>sodium_diff_1</th>\n",
       "      <th>sugar_diff_1</th>\n",
       "      <th>total_calories_2</th>\n",
       "      <th>total_carbs_2</th>\n",
       "      <th>total_fat_2</th>\n",
       "      <th>total_protein_2</th>\n",
       "      <th>total_sodium_2</th>\n",
       "      <th>total_sugar_2</th>\n",
       "      <th>goal_calories_2</th>\n",
       "      <th>goal_carbs_2</th>\n",
       "      <th>goal_fat_2</th>\n",
       "      <th>goal_protein_2</th>\n",
       "      <th>goal_sodium_2</th>\n",
       "      <th>goal_sugar_2</th>\n",
       "      <th>foods_len_2</th>\n",
       "      <th>healtyDistrib_2</th>\n",
       "      <th>calories_diff_2</th>\n",
       "      <th>carbs_diff_2</th>\n",
       "      <th>fat_diff_2</th>\n",
       "      <th>protein_diff_2</th>\n",
       "      <th>sodium_diff_2</th>\n",
       "      <th>sugar_diff_2</th>\n",
       "      <th>total_calories_3</th>\n",
       "      <th>total_carbs_3</th>\n",
       "      <th>total_fat_3</th>\n",
       "      <th>total_protein_3</th>\n",
       "      <th>total_sodium_3</th>\n",
       "      <th>total_sugar_3</th>\n",
       "      <th>goal_calories_3</th>\n",
       "      <th>goal_carbs_3</th>\n",
       "      <th>goal_fat_3</th>\n",
       "      <th>goal_protein_3</th>\n",
       "      <th>goal_sodium_3</th>\n",
       "      <th>goal_sugar_3</th>\n",
       "      <th>foods_len_3</th>\n",
       "      <th>healtyDistrib_3</th>\n",
       "      <th>calories_diff_3</th>\n",
       "      <th>carbs_diff_3</th>\n",
       "      <th>fat_diff_3</th>\n",
       "      <th>protein_diff_3</th>\n",
       "      <th>sodium_diff_3</th>\n",
       "      <th>sugar_diff_3</th>\n",
       "      <th>total_calories_4</th>\n",
       "      <th>total_carbs_4</th>\n",
       "      <th>total_fat_4</th>\n",
       "      <th>total_protein_4</th>\n",
       "      <th>total_sodium_4</th>\n",
       "      <th>total_sugar_4</th>\n",
       "      <th>goal_calories_4</th>\n",
       "      <th>goal_carbs_4</th>\n",
       "      <th>goal_fat_4</th>\n",
       "      <th>goal_protein_4</th>\n",
       "      <th>goal_sodium_4</th>\n",
       "      <th>goal_sugar_4</th>\n",
       "      <th>foods_len_4</th>\n",
       "      <th>healtyDistrib_4</th>\n",
       "      <th>calories_diff_4</th>\n",
       "      <th>carbs_diff_4</th>\n",
       "      <th>fat_diff_4</th>\n",
       "      <th>protein_diff_4</th>\n",
       "      <th>sodium_diff_4</th>\n",
       "      <th>sugar_diff_4</th>\n",
       "    </tr>\n",
       "  </thead>\n",
       "  <tbody>\n",
       "    <tr>\n",
       "      <th>0</th>\n",
       "      <td>1.0</td>\n",
       "      <td>0.272150</td>\n",
       "      <td>0.321656</td>\n",
       "      <td>0.165279</td>\n",
       "      <td>0.138307</td>\n",
       "      <td>0.528234</td>\n",
       "      <td>0.014137</td>\n",
       "      <td>0.629767</td>\n",
       "      <td>0.487770</td>\n",
       "      <td>0.164835</td>\n",
       "      <td>0.225000</td>\n",
       "      <td>0.383333</td>\n",
       "      <td>0.026842</td>\n",
       "      <td>0.314286</td>\n",
       "      <td>0.102834</td>\n",
       "      <td>0.745173</td>\n",
       "      <td>0.704839</td>\n",
       "      <td>0.764211</td>\n",
       "      <td>0.786765</td>\n",
       "      <td>0.445042</td>\n",
       "      <td>0.618412</td>\n",
       "      <td>0.281215</td>\n",
       "      <td>0.239915</td>\n",
       "      <td>0.104637</td>\n",
       "      <td>0.062028</td>\n",
       "      <td>0.428512</td>\n",
       "      <td>0.015377</td>\n",
       "      <td>0.661395</td>\n",
       "      <td>0.512230</td>\n",
       "      <td>0.173993</td>\n",
       "      <td>0.236667</td>\n",
       "      <td>0.383333</td>\n",
       "      <td>0.028158</td>\n",
       "      <td>0.285714</td>\n",
       "      <td>0.090500</td>\n",
       "      <td>0.748047</td>\n",
       "      <td>0.780645</td>\n",
       "      <td>0.823158</td>\n",
       "      <td>0.858824</td>\n",
       "      <td>0.513872</td>\n",
       "      <td>0.618412</td>\n",
       "      <td>0.227290</td>\n",
       "      <td>0.273885</td>\n",
       "      <td>0.129608</td>\n",
       "      <td>0.078793</td>\n",
       "      <td>0.447010</td>\n",
       "      <td>0.018353</td>\n",
       "      <td>0.422791</td>\n",
       "      <td>0.326619</td>\n",
       "      <td>0.111722</td>\n",
       "      <td>0.151667</td>\n",
       "      <td>0.383333</td>\n",
       "      <td>0.017895</td>\n",
       "      <td>0.285714</td>\n",
       "      <td>0.110857</td>\n",
       "      <td>0.714959</td>\n",
       "      <td>0.650806</td>\n",
       "      <td>0.765263</td>\n",
       "      <td>0.806618</td>\n",
       "      <td>0.501104</td>\n",
       "      <td>0.609206</td>\n",
       "      <td>0.213084</td>\n",
       "      <td>0.181529</td>\n",
       "      <td>0.102259</td>\n",
       "      <td>0.179380</td>\n",
       "      <td>0.222392</td>\n",
       "      <td>0.024802</td>\n",
       "      <td>0.528372</td>\n",
       "      <td>0.408633</td>\n",
       "      <td>0.139194</td>\n",
       "      <td>0.19</td>\n",
       "      <td>0.383333</td>\n",
       "      <td>0.022368</td>\n",
       "      <td>0.257143</td>\n",
       "      <td>0.159369</td>\n",
       "      <td>0.759617</td>\n",
       "      <td>0.766935</td>\n",
       "      <td>0.805263</td>\n",
       "      <td>0.735294</td>\n",
       "      <td>0.656139</td>\n",
       "      <td>0.607581</td>\n",
       "      <td>0.112897</td>\n",
       "      <td>0.122081</td>\n",
       "      <td>0.052319</td>\n",
       "      <td>0.082146</td>\n",
       "      <td>0.158275</td>\n",
       "      <td>0.015129</td>\n",
       "      <td>0.541395</td>\n",
       "      <td>0.418705</td>\n",
       "      <td>0.142857</td>\n",
       "      <td>0.193333</td>\n",
       "      <td>0.383333</td>\n",
       "      <td>0.022895</td>\n",
       "      <td>0.142857</td>\n",
       "      <td>0.074424</td>\n",
       "      <td>0.842741</td>\n",
       "      <td>0.817742</td>\n",
       "      <td>0.851579</td>\n",
       "      <td>0.822059</td>\n",
       "      <td>0.700394</td>\n",
       "      <td>0.614982</td>\n",
       "    </tr>\n",
       "    <tr>\n",
       "      <th>1</th>\n",
       "      <td>2.0</td>\n",
       "      <td>0.144673</td>\n",
       "      <td>0.162420</td>\n",
       "      <td>0.061831</td>\n",
       "      <td>0.036882</td>\n",
       "      <td>0.243672</td>\n",
       "      <td>0.024802</td>\n",
       "      <td>0.306744</td>\n",
       "      <td>0.237410</td>\n",
       "      <td>0.080586</td>\n",
       "      <td>0.110000</td>\n",
       "      <td>0.383333</td>\n",
       "      <td>0.013158</td>\n",
       "      <td>0.371429</td>\n",
       "      <td>0.075405</td>\n",
       "      <td>0.743331</td>\n",
       "      <td>0.685484</td>\n",
       "      <td>0.807368</td>\n",
       "      <td>0.825000</td>\n",
       "      <td>0.641451</td>\n",
       "      <td>0.601264</td>\n",
       "      <td>0.156355</td>\n",
       "      <td>0.263270</td>\n",
       "      <td>0.061831</td>\n",
       "      <td>0.041073</td>\n",
       "      <td>0.183171</td>\n",
       "      <td>0.022817</td>\n",
       "      <td>0.306744</td>\n",
       "      <td>0.237410</td>\n",
       "      <td>0.080586</td>\n",
       "      <td>0.110000</td>\n",
       "      <td>0.383333</td>\n",
       "      <td>0.013158</td>\n",
       "      <td>0.371429</td>\n",
       "      <td>0.074636</td>\n",
       "      <td>0.734119</td>\n",
       "      <td>0.608871</td>\n",
       "      <td>0.807368</td>\n",
       "      <td>0.821324</td>\n",
       "      <td>0.683210</td>\n",
       "      <td>0.602708</td>\n",
       "      <td>0.133084</td>\n",
       "      <td>0.205945</td>\n",
       "      <td>0.053508</td>\n",
       "      <td>0.025985</td>\n",
       "      <td>0.057997</td>\n",
       "      <td>0.019345</td>\n",
       "      <td>0.306744</td>\n",
       "      <td>0.237410</td>\n",
       "      <td>0.080586</td>\n",
       "      <td>0.110000</td>\n",
       "      <td>0.383333</td>\n",
       "      <td>0.013158</td>\n",
       "      <td>0.342857</td>\n",
       "      <td>0.095972</td>\n",
       "      <td>0.752469</td>\n",
       "      <td>0.652419</td>\n",
       "      <td>0.814737</td>\n",
       "      <td>0.834559</td>\n",
       "      <td>0.769607</td>\n",
       "      <td>0.605235</td>\n",
       "      <td>0.134953</td>\n",
       "      <td>0.235669</td>\n",
       "      <td>0.042806</td>\n",
       "      <td>0.056161</td>\n",
       "      <td>0.177469</td>\n",
       "      <td>0.016369</td>\n",
       "      <td>0.306744</td>\n",
       "      <td>0.237410</td>\n",
       "      <td>0.080586</td>\n",
       "      <td>0.11</td>\n",
       "      <td>0.383333</td>\n",
       "      <td>0.013158</td>\n",
       "      <td>0.457143</td>\n",
       "      <td>0.017295</td>\n",
       "      <td>0.750995</td>\n",
       "      <td>0.629839</td>\n",
       "      <td>0.824211</td>\n",
       "      <td>0.808088</td>\n",
       "      <td>0.687146</td>\n",
       "      <td>0.607401</td>\n",
       "      <td>0.005234</td>\n",
       "      <td>0.011677</td>\n",
       "      <td>0.001189</td>\n",
       "      <td>0.005868</td>\n",
       "      <td>0.014882</td>\n",
       "      <td>0.002480</td>\n",
       "      <td>0.306744</td>\n",
       "      <td>0.237410</td>\n",
       "      <td>0.080586</td>\n",
       "      <td>0.110000</td>\n",
       "      <td>0.383333</td>\n",
       "      <td>0.013158</td>\n",
       "      <td>0.028571</td>\n",
       "      <td>0.000000</td>\n",
       "      <td>0.853279</td>\n",
       "      <td>0.800000</td>\n",
       "      <td>0.861053</td>\n",
       "      <td>0.852206</td>\n",
       "      <td>0.799366</td>\n",
       "      <td>0.617509</td>\n",
       "    </tr>\n",
       "    <tr>\n",
       "      <th>2</th>\n",
       "      <td>3.0</td>\n",
       "      <td>0.137196</td>\n",
       "      <td>0.167728</td>\n",
       "      <td>0.048751</td>\n",
       "      <td>0.046102</td>\n",
       "      <td>0.220862</td>\n",
       "      <td>0.003720</td>\n",
       "      <td>0.345349</td>\n",
       "      <td>0.266187</td>\n",
       "      <td>0.089744</td>\n",
       "      <td>0.123333</td>\n",
       "      <td>0.383333</td>\n",
       "      <td>0.008158</td>\n",
       "      <td>0.285714</td>\n",
       "      <td>0.018119</td>\n",
       "      <td>0.761459</td>\n",
       "      <td>0.697581</td>\n",
       "      <td>0.824211</td>\n",
       "      <td>0.822794</td>\n",
       "      <td>0.657195</td>\n",
       "      <td>0.613177</td>\n",
       "      <td>0.131308</td>\n",
       "      <td>0.184713</td>\n",
       "      <td>0.057075</td>\n",
       "      <td>0.052808</td>\n",
       "      <td>0.300000</td>\n",
       "      <td>0.003968</td>\n",
       "      <td>0.345581</td>\n",
       "      <td>0.267626</td>\n",
       "      <td>0.089744</td>\n",
       "      <td>0.123333</td>\n",
       "      <td>0.383333</td>\n",
       "      <td>0.008158</td>\n",
       "      <td>0.200000</td>\n",
       "      <td>0.015899</td>\n",
       "      <td>0.766175</td>\n",
       "      <td>0.685484</td>\n",
       "      <td>0.816842</td>\n",
       "      <td>0.816912</td>\n",
       "      <td>0.602573</td>\n",
       "      <td>0.612996</td>\n",
       "      <td>0.167290</td>\n",
       "      <td>0.147558</td>\n",
       "      <td>0.085612</td>\n",
       "      <td>0.066220</td>\n",
       "      <td>0.324061</td>\n",
       "      <td>0.011161</td>\n",
       "      <td>0.345581</td>\n",
       "      <td>0.267626</td>\n",
       "      <td>0.089744</td>\n",
       "      <td>0.123333</td>\n",
       "      <td>0.383333</td>\n",
       "      <td>0.008158</td>\n",
       "      <td>0.228571</td>\n",
       "      <td>0.146750</td>\n",
       "      <td>0.737804</td>\n",
       "      <td>0.713710</td>\n",
       "      <td>0.791579</td>\n",
       "      <td>0.805147</td>\n",
       "      <td>0.585965</td>\n",
       "      <td>0.607762</td>\n",
       "      <td>0.205607</td>\n",
       "      <td>0.000000</td>\n",
       "      <td>0.000000</td>\n",
       "      <td>0.000000</td>\n",
       "      <td>0.000000</td>\n",
       "      <td>0.000000</td>\n",
       "      <td>0.281163</td>\n",
       "      <td>0.217266</td>\n",
       "      <td>0.073260</td>\n",
       "      <td>0.10</td>\n",
       "      <td>0.383333</td>\n",
       "      <td>0.006579</td>\n",
       "      <td>0.000000</td>\n",
       "      <td>0.685636</td>\n",
       "      <td>0.687178</td>\n",
       "      <td>0.797581</td>\n",
       "      <td>0.857895</td>\n",
       "      <td>0.852941</td>\n",
       "      <td>0.809638</td>\n",
       "      <td>0.614801</td>\n",
       "      <td>0.112897</td>\n",
       "      <td>0.183652</td>\n",
       "      <td>0.035672</td>\n",
       "      <td>0.028500</td>\n",
       "      <td>0.237413</td>\n",
       "      <td>0.002728</td>\n",
       "      <td>0.281163</td>\n",
       "      <td>0.217266</td>\n",
       "      <td>0.073260</td>\n",
       "      <td>0.100000</td>\n",
       "      <td>0.383333</td>\n",
       "      <td>0.006579</td>\n",
       "      <td>0.142857</td>\n",
       "      <td>0.069604</td>\n",
       "      <td>0.760280</td>\n",
       "      <td>0.658065</td>\n",
       "      <td>0.826316</td>\n",
       "      <td>0.827941</td>\n",
       "      <td>0.645771</td>\n",
       "      <td>0.612816</td>\n",
       "    </tr>\n",
       "  </tbody>\n",
       "</table>\n",
       "</div>"
      ],
      "text/plain": [
       "   user_id  total_calories  total_carbs  total_fat  total_protein  total_sodium  total_sugar  goal_calories  goal_carbs  goal_fat  goal_protein  goal_sodium  goal_sugar  foods_len  healtyDistrib  calories_diff  carbs_diff  fat_diff  protein_diff  sodium_diff  sugar_diff  total_calories_1  total_carbs_1  total_fat_1  total_protein_1  total_sodium_1  total_sugar_1  goal_calories_1  goal_carbs_1  goal_fat_1  goal_protein_1  goal_sodium_1  goal_sugar_1  foods_len_1  healtyDistrib_1  calories_diff_1  carbs_diff_1  fat_diff_1  protein_diff_1  sodium_diff_1  sugar_diff_1  total_calories_2  total_carbs_2  total_fat_2  total_protein_2  total_sodium_2  total_sugar_2  goal_calories_2  goal_carbs_2  goal_fat_2  goal_protein_2  goal_sodium_2  goal_sugar_2  foods_len_2  healtyDistrib_2  calories_diff_2  carbs_diff_2  fat_diff_2  protein_diff_2  sodium_diff_2  sugar_diff_2  total_calories_3  total_carbs_3  total_fat_3  total_protein_3  total_sodium_3  total_sugar_3  goal_calories_3  goal_carbs_3  \\\n",
       "0      1.0        0.272150     0.321656   0.165279       0.138307      0.528234     0.014137       0.629767    0.487770  0.164835      0.225000     0.383333    0.026842   0.314286       0.102834       0.745173    0.704839  0.764211      0.786765     0.445042    0.618412          0.281215       0.239915     0.104637         0.062028        0.428512       0.015377         0.661395      0.512230    0.173993        0.236667       0.383333      0.028158     0.285714         0.090500         0.748047      0.780645    0.823158        0.858824       0.513872      0.618412          0.227290       0.273885     0.129608         0.078793        0.447010       0.018353         0.422791      0.326619    0.111722        0.151667       0.383333      0.017895     0.285714         0.110857         0.714959      0.650806    0.765263        0.806618       0.501104      0.609206          0.213084       0.181529     0.102259         0.179380        0.222392       0.024802         0.528372      0.408633   \n",
       "1      2.0        0.144673     0.162420   0.061831       0.036882      0.243672     0.024802       0.306744    0.237410  0.080586      0.110000     0.383333    0.013158   0.371429       0.075405       0.743331    0.685484  0.807368      0.825000     0.641451    0.601264          0.156355       0.263270     0.061831         0.041073        0.183171       0.022817         0.306744      0.237410    0.080586        0.110000       0.383333      0.013158     0.371429         0.074636         0.734119      0.608871    0.807368        0.821324       0.683210      0.602708          0.133084       0.205945     0.053508         0.025985        0.057997       0.019345         0.306744      0.237410    0.080586        0.110000       0.383333      0.013158     0.342857         0.095972         0.752469      0.652419    0.814737        0.834559       0.769607      0.605235          0.134953       0.235669     0.042806         0.056161        0.177469       0.016369         0.306744      0.237410   \n",
       "2      3.0        0.137196     0.167728   0.048751       0.046102      0.220862     0.003720       0.345349    0.266187  0.089744      0.123333     0.383333    0.008158   0.285714       0.018119       0.761459    0.697581  0.824211      0.822794     0.657195    0.613177          0.131308       0.184713     0.057075         0.052808        0.300000       0.003968         0.345581      0.267626    0.089744        0.123333       0.383333      0.008158     0.200000         0.015899         0.766175      0.685484    0.816842        0.816912       0.602573      0.612996          0.167290       0.147558     0.085612         0.066220        0.324061       0.011161         0.345581      0.267626    0.089744        0.123333       0.383333      0.008158     0.228571         0.146750         0.737804      0.713710    0.791579        0.805147       0.585965      0.607762          0.205607       0.000000     0.000000         0.000000        0.000000       0.000000         0.281163      0.217266   \n",
       "\n",
       "   goal_fat_3  goal_protein_3  goal_sodium_3  goal_sugar_3  foods_len_3  healtyDistrib_3  calories_diff_3  carbs_diff_3  fat_diff_3  protein_diff_3  sodium_diff_3  sugar_diff_3  total_calories_4  total_carbs_4  total_fat_4  total_protein_4  total_sodium_4  total_sugar_4  goal_calories_4  goal_carbs_4  goal_fat_4  goal_protein_4  goal_sodium_4  goal_sugar_4  foods_len_4  healtyDistrib_4  calories_diff_4  carbs_diff_4  fat_diff_4  protein_diff_4  sodium_diff_4  sugar_diff_4  \n",
       "0    0.139194            0.19       0.383333      0.022368     0.257143         0.159369         0.759617      0.766935    0.805263        0.735294       0.656139      0.607581          0.112897       0.122081     0.052319         0.082146        0.158275       0.015129         0.541395      0.418705    0.142857        0.193333       0.383333      0.022895     0.142857         0.074424         0.842741      0.817742    0.851579        0.822059       0.700394      0.614982  \n",
       "1    0.080586            0.11       0.383333      0.013158     0.457143         0.017295         0.750995      0.629839    0.824211        0.808088       0.687146      0.607401          0.005234       0.011677     0.001189         0.005868        0.014882       0.002480         0.306744      0.237410    0.080586        0.110000       0.383333      0.013158     0.028571         0.000000         0.853279      0.800000    0.861053        0.852206       0.799366      0.617509  \n",
       "2    0.073260            0.10       0.383333      0.006579     0.000000         0.685636         0.687178      0.797581    0.857895        0.852941       0.809638      0.614801          0.112897       0.183652     0.035672         0.028500        0.237413       0.002728         0.281163      0.217266    0.073260        0.100000       0.383333      0.006579     0.142857         0.069604         0.760280      0.658065    0.826316        0.827941       0.645771      0.612816  "
      ]
     },
     "execution_count": 78,
     "metadata": {},
     "output_type": "execute_result"
    }
   ],
   "source": [
    "data.head(3)"
   ]
  },
  {
   "cell_type": "markdown",
   "metadata": {},
   "source": [
    "#### <span style=\"color:#FF7B07\"> merge dataframe with features which we already create "
   ]
  },
  {
   "cell_type": "code",
   "execution_count": 79,
   "metadata": {},
   "outputs": [],
   "source": [
    "data = pd.merge(data, user_logged_df, on=['user_id'])"
   ]
  },
  {
   "cell_type": "code",
   "execution_count": 80,
   "metadata": {},
   "outputs": [],
   "source": [
    "data = pd.merge(data, nutritional_shares, on=['user_id'])"
   ]
  },
  {
   "cell_type": "markdown",
   "metadata": {},
   "source": [
    "#### <span style=\"color:#FF7B07\"> Handle missing data with KNNImputer"
   ]
  },
  {
   "cell_type": "code",
   "execution_count": 113,
   "metadata": {},
   "outputs": [],
   "source": [
    "imputer = KNNImputer()\n",
    "data[data.columns] = pd.DataFrame(imputer.fit_transform(data))"
   ]
  },
  {
   "cell_type": "code",
   "execution_count": 116,
   "metadata": {},
   "outputs": [
    {
     "data": {
      "text/html": [
       "<div>\n",
       "<style scoped>\n",
       "    .dataframe tbody tr th:only-of-type {\n",
       "        vertical-align: middle;\n",
       "    }\n",
       "\n",
       "    .dataframe tbody tr th {\n",
       "        vertical-align: top;\n",
       "    }\n",
       "\n",
       "    .dataframe thead th {\n",
       "        text-align: right;\n",
       "    }\n",
       "</style>\n",
       "<table border=\"1\" class=\"dataframe\">\n",
       "  <thead>\n",
       "    <tr style=\"text-align: right;\">\n",
       "      <th></th>\n",
       "      <th>user_id</th>\n",
       "      <th>total_calories</th>\n",
       "      <th>total_carbs</th>\n",
       "      <th>total_fat</th>\n",
       "      <th>total_protein</th>\n",
       "      <th>total_sodium</th>\n",
       "      <th>total_sugar</th>\n",
       "      <th>goal_calories</th>\n",
       "      <th>goal_carbs</th>\n",
       "      <th>goal_fat</th>\n",
       "      <th>goal_protein</th>\n",
       "      <th>goal_sodium</th>\n",
       "      <th>goal_sugar</th>\n",
       "      <th>foods_len</th>\n",
       "      <th>healtyDistrib</th>\n",
       "      <th>calories_diff</th>\n",
       "      <th>carbs_diff</th>\n",
       "      <th>fat_diff</th>\n",
       "      <th>protein_diff</th>\n",
       "      <th>sodium_diff</th>\n",
       "      <th>sugar_diff</th>\n",
       "      <th>total_calories_1</th>\n",
       "      <th>total_carbs_1</th>\n",
       "      <th>total_fat_1</th>\n",
       "      <th>total_protein_1</th>\n",
       "      <th>total_sodium_1</th>\n",
       "      <th>total_sugar_1</th>\n",
       "      <th>goal_calories_1</th>\n",
       "      <th>goal_carbs_1</th>\n",
       "      <th>goal_fat_1</th>\n",
       "      <th>goal_protein_1</th>\n",
       "      <th>goal_sodium_1</th>\n",
       "      <th>goal_sugar_1</th>\n",
       "      <th>foods_len_1</th>\n",
       "      <th>healtyDistrib_1</th>\n",
       "      <th>calories_diff_1</th>\n",
       "      <th>carbs_diff_1</th>\n",
       "      <th>fat_diff_1</th>\n",
       "      <th>protein_diff_1</th>\n",
       "      <th>sodium_diff_1</th>\n",
       "      <th>sugar_diff_1</th>\n",
       "      <th>total_calories_2</th>\n",
       "      <th>total_carbs_2</th>\n",
       "      <th>total_fat_2</th>\n",
       "      <th>total_protein_2</th>\n",
       "      <th>total_sodium_2</th>\n",
       "      <th>total_sugar_2</th>\n",
       "      <th>goal_calories_2</th>\n",
       "      <th>goal_carbs_2</th>\n",
       "      <th>goal_fat_2</th>\n",
       "      <th>goal_protein_2</th>\n",
       "      <th>goal_sodium_2</th>\n",
       "      <th>goal_sugar_2</th>\n",
       "      <th>foods_len_2</th>\n",
       "      <th>healtyDistrib_2</th>\n",
       "      <th>calories_diff_2</th>\n",
       "      <th>carbs_diff_2</th>\n",
       "      <th>fat_diff_2</th>\n",
       "      <th>protein_diff_2</th>\n",
       "      <th>sodium_diff_2</th>\n",
       "      <th>sugar_diff_2</th>\n",
       "      <th>total_calories_3</th>\n",
       "      <th>total_carbs_3</th>\n",
       "      <th>total_fat_3</th>\n",
       "      <th>total_protein_3</th>\n",
       "      <th>total_sodium_3</th>\n",
       "      <th>total_sugar_3</th>\n",
       "      <th>goal_calories_3</th>\n",
       "      <th>goal_carbs_3</th>\n",
       "      <th>goal_fat_3</th>\n",
       "      <th>goal_protein_3</th>\n",
       "      <th>goal_sodium_3</th>\n",
       "      <th>goal_sugar_3</th>\n",
       "      <th>foods_len_3</th>\n",
       "      <th>healtyDistrib_3</th>\n",
       "      <th>calories_diff_3</th>\n",
       "      <th>carbs_diff_3</th>\n",
       "      <th>fat_diff_3</th>\n",
       "      <th>protein_diff_3</th>\n",
       "      <th>sodium_diff_3</th>\n",
       "      <th>sugar_diff_3</th>\n",
       "      <th>total_calories_4</th>\n",
       "      <th>total_carbs_4</th>\n",
       "      <th>total_fat_4</th>\n",
       "      <th>total_protein_4</th>\n",
       "      <th>total_sodium_4</th>\n",
       "      <th>total_sugar_4</th>\n",
       "      <th>goal_calories_4</th>\n",
       "      <th>goal_carbs_4</th>\n",
       "      <th>goal_fat_4</th>\n",
       "      <th>goal_protein_4</th>\n",
       "      <th>goal_sodium_4</th>\n",
       "      <th>goal_sugar_4</th>\n",
       "      <th>foods_len_4</th>\n",
       "      <th>healtyDistrib_4</th>\n",
       "      <th>calories_diff_4</th>\n",
       "      <th>carbs_diff_4</th>\n",
       "      <th>fat_diff_4</th>\n",
       "      <th>protein_diff_4</th>\n",
       "      <th>sodium_diff_4</th>\n",
       "      <th>sugar_diff_4</th>\n",
       "      <th>logged_frequency</th>\n",
       "      <th>days_missed</th>\n",
       "      <th>reach_goal</th>\n",
       "      <th>FoodGroup</th>\n",
       "    </tr>\n",
       "  </thead>\n",
       "  <tbody>\n",
       "    <tr>\n",
       "      <th>Null Frequency</th>\n",
       "      <td>0</td>\n",
       "      <td>0</td>\n",
       "      <td>0</td>\n",
       "      <td>0</td>\n",
       "      <td>0</td>\n",
       "      <td>0</td>\n",
       "      <td>0</td>\n",
       "      <td>0</td>\n",
       "      <td>0</td>\n",
       "      <td>0</td>\n",
       "      <td>0</td>\n",
       "      <td>0</td>\n",
       "      <td>0</td>\n",
       "      <td>0</td>\n",
       "      <td>0</td>\n",
       "      <td>0</td>\n",
       "      <td>0</td>\n",
       "      <td>0</td>\n",
       "      <td>0</td>\n",
       "      <td>0</td>\n",
       "      <td>0</td>\n",
       "      <td>0</td>\n",
       "      <td>0</td>\n",
       "      <td>0</td>\n",
       "      <td>0</td>\n",
       "      <td>0</td>\n",
       "      <td>0</td>\n",
       "      <td>0</td>\n",
       "      <td>0</td>\n",
       "      <td>0</td>\n",
       "      <td>0</td>\n",
       "      <td>0</td>\n",
       "      <td>0</td>\n",
       "      <td>0</td>\n",
       "      <td>0</td>\n",
       "      <td>0</td>\n",
       "      <td>0</td>\n",
       "      <td>0</td>\n",
       "      <td>0</td>\n",
       "      <td>0</td>\n",
       "      <td>0</td>\n",
       "      <td>0</td>\n",
       "      <td>0</td>\n",
       "      <td>0</td>\n",
       "      <td>0</td>\n",
       "      <td>0</td>\n",
       "      <td>0</td>\n",
       "      <td>0</td>\n",
       "      <td>0</td>\n",
       "      <td>0</td>\n",
       "      <td>0</td>\n",
       "      <td>0</td>\n",
       "      <td>0</td>\n",
       "      <td>0</td>\n",
       "      <td>0</td>\n",
       "      <td>0</td>\n",
       "      <td>0</td>\n",
       "      <td>0</td>\n",
       "      <td>0</td>\n",
       "      <td>0</td>\n",
       "      <td>0</td>\n",
       "      <td>0</td>\n",
       "      <td>0</td>\n",
       "      <td>0</td>\n",
       "      <td>0</td>\n",
       "      <td>0</td>\n",
       "      <td>0</td>\n",
       "      <td>0</td>\n",
       "      <td>0</td>\n",
       "      <td>0</td>\n",
       "      <td>0</td>\n",
       "      <td>0</td>\n",
       "      <td>0</td>\n",
       "      <td>0</td>\n",
       "      <td>0</td>\n",
       "      <td>0</td>\n",
       "      <td>0</td>\n",
       "      <td>0</td>\n",
       "      <td>0</td>\n",
       "      <td>0</td>\n",
       "      <td>0</td>\n",
       "      <td>0</td>\n",
       "      <td>0</td>\n",
       "      <td>0</td>\n",
       "      <td>0</td>\n",
       "      <td>0</td>\n",
       "      <td>0</td>\n",
       "      <td>0</td>\n",
       "      <td>0</td>\n",
       "      <td>0</td>\n",
       "      <td>0</td>\n",
       "      <td>0</td>\n",
       "      <td>0</td>\n",
       "      <td>0</td>\n",
       "      <td>0</td>\n",
       "      <td>0</td>\n",
       "      <td>0</td>\n",
       "      <td>0</td>\n",
       "      <td>0</td>\n",
       "      <td>0</td>\n",
       "      <td>0</td>\n",
       "      <td>0</td>\n",
       "      <td>0</td>\n",
       "      <td>0</td>\n",
       "      <td>0</td>\n",
       "    </tr>\n",
       "  </tbody>\n",
       "</table>\n",
       "</div>"
      ],
      "text/plain": [
       "                user_id  total_calories  total_carbs  total_fat  total_protein  total_sodium  total_sugar  goal_calories  goal_carbs  goal_fat  goal_protein  goal_sodium  goal_sugar  foods_len  healtyDistrib  calories_diff  carbs_diff  fat_diff  protein_diff  sodium_diff  sugar_diff  total_calories_1  total_carbs_1  total_fat_1  total_protein_1  total_sodium_1  total_sugar_1  goal_calories_1  goal_carbs_1  goal_fat_1  goal_protein_1  goal_sodium_1  goal_sugar_1  foods_len_1  healtyDistrib_1  calories_diff_1  carbs_diff_1  fat_diff_1  protein_diff_1  sodium_diff_1  sugar_diff_1  total_calories_2  total_carbs_2  total_fat_2  total_protein_2  total_sodium_2  total_sugar_2  goal_calories_2  goal_carbs_2  goal_fat_2  goal_protein_2  goal_sodium_2  goal_sugar_2  foods_len_2  healtyDistrib_2  calories_diff_2  carbs_diff_2  fat_diff_2  protein_diff_2  sodium_diff_2  sugar_diff_2  total_calories_3  total_carbs_3  total_fat_3  total_protein_3  total_sodium_3  total_sugar_3  goal_calories_3  \\\n",
       "Null Frequency        0               0            0          0              0             0            0              0           0         0             0            0           0          0              0              0           0         0             0            0           0                 0              0            0                0               0              0                0             0           0               0              0             0            0                0                0             0           0               0              0             0                 0              0            0                0               0              0                0             0           0               0              0             0            0                0                0             0           0               0              0             0                 0              0            0                0               0              0                0   \n",
       "\n",
       "                goal_carbs_3  goal_fat_3  goal_protein_3  goal_sodium_3  goal_sugar_3  foods_len_3  healtyDistrib_3  calories_diff_3  carbs_diff_3  fat_diff_3  protein_diff_3  sodium_diff_3  sugar_diff_3  total_calories_4  total_carbs_4  total_fat_4  total_protein_4  total_sodium_4  total_sugar_4  goal_calories_4  goal_carbs_4  goal_fat_4  goal_protein_4  goal_sodium_4  goal_sugar_4  foods_len_4  healtyDistrib_4  calories_diff_4  carbs_diff_4  fat_diff_4  protein_diff_4  sodium_diff_4  sugar_diff_4  logged_frequency  days_missed  reach_goal  FoodGroup  \n",
       "Null Frequency             0           0               0              0             0            0                0                0             0           0               0              0             0                 0              0            0                0               0              0                0             0           0               0              0             0            0                0                0             0           0               0              0             0                 0            0           0          0  "
      ]
     },
     "execution_count": 116,
     "metadata": {},
     "output_type": "execute_result"
    }
   ],
   "source": [
    "null_df = pd.DataFrame(data.isna().sum())\n",
    "null_df.columns = [\"Null Frequency\"]\n",
    "null_df.T"
   ]
  },
  {
   "cell_type": "markdown",
   "metadata": {},
   "source": [
    "#### <span style=\"color:#00CC00\"> As you see we don't have null values "
   ]
  },
  {
   "cell_type": "markdown",
   "metadata": {},
   "source": [
    "# <span style=\"color:#FF7B07\"> update dataframe"
   ]
  },
  {
   "cell_type": "code",
   "execution_count": 117,
   "metadata": {},
   "outputs": [],
   "source": [
    "data.to_csv(r'myFitnessPal_parsed.csv',index = False)"
   ]
  },
  {
   "cell_type": "code",
   "execution_count": null,
   "metadata": {},
   "outputs": [],
   "source": []
  }
 ],
 "metadata": {
  "kernelspec": {
   "display_name": "Python 3",
   "language": "python",
   "name": "python3"
  },
  "language_info": {
   "codemirror_mode": {
    "name": "ipython",
    "version": 3
   },
   "file_extension": ".py",
   "mimetype": "text/x-python",
   "name": "python",
   "nbconvert_exporter": "python",
   "pygments_lexer": "ipython3",
   "version": "3.8.5"
  }
 },
 "nbformat": 4,
 "nbformat_minor": 4
}
