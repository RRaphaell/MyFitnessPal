{
 "cells": [
  {
   "cell_type": "markdown",
   "metadata": {},
   "source": [
    "#### <span style=\"color:#AD07FF\"> In this notebook you can see data cleaning, visualization, hypothesis testing,  <br> adding new features and preparing data so that we can run a model."
   ]
  },
  {
   "cell_type": "markdown",
   "metadata": {},
   "source": [
    "# <span style=\"color:#FF7B07\"><div align=\"center\">**Table Of Contents**\n",
    "[<span style=\"color:#FF7B07\">**1. Introduction**](#1)<br>\n",
    "[<span style=\"color:#FF7B07\">**2. Import Libraries and Load Data**](#2)<br>\n",
    "[<span style=\"color:#FF7B07\">**3. Data Analysis**](#3)<br>\n",
    "[<span style=\"color:#FF7B07\">**4. Create Features**](#4)<br> \n",
    "[<span style=\"color:#FF7B07\">**5. Data Cleaning**](#5)<br>\n",
    "[<span style=\"color:#FF7B07\">**6. Data Preparation**](#6)<br> "
   ]
  },
  {
   "cell_type": "markdown",
   "metadata": {},
   "source": [
    "# <span style=\"color:#FF7B07\"><div align=\"center\">**Introduction** <a  name=\"1\"></a>"
   ]
  },
  {
   "cell_type": "markdown",
   "metadata": {},
   "source": [
    "Nowadays, a healthy lifestyle is becoming a valuable characteristic of a modern society. <br>\n",
    "More and more people try to enhance their health by doing regularly different sports and put emphasis on their food habits. <br>\n",
    "In order to satisfy the specific needs of every individual, conclusions gained out of the users’ data are from high importance. <br>\n",
    "Companies such as MyFitnessPal operate in the lucrative business field of health data. <br>\n",
    "The healthcare industry is booming, especially when it comes to the analysis of health-related data. <br>\n",
    "This report will show how the analysis of data will improve the life of the users, <br>\n",
    "but also highlight the potential for companies active in the business. <br>\n",
    "#### <span style=\"color:#FF7B07\">  **Source** https://www.kaggle.com/vetrirah/customer?select=Train.csv"
   ]
  },
  {
   "cell_type": "markdown",
   "metadata": {},
   "source": [
    "# <span style=\"color:#FF7B07\"><div align=\"center\">**Import Libraries and Load Data** <a  name=\"2\"></a>"
   ]
  },
  {
   "cell_type": "code",
   "execution_count": 1,
   "metadata": {},
   "outputs": [],
   "source": [
    "from datetime import datetime\n",
    "import json\n",
    "import matplotlib.pyplot as plt\n",
    "import numpy as np\n",
    "import pandas as pd\n",
    "from plotly.subplots import make_subplots\n",
    "import plotly.graph_objects as go\n",
    "import seaborn as sns\n",
    "from sklearn.impute import KNNImputer\n",
    "from sklearn import preprocessing"
   ]
  },
  {
   "cell_type": "code",
   "execution_count": 2,
   "metadata": {},
   "outputs": [],
   "source": [
    "# The data is large and this command will help us to see the whole result \n",
    "pd.set_option('display.max_rows', 500)\n",
    "pd.set_option('display.max_columns', 500)\n",
    "pd.set_option('display.width', 1000)"
   ]
  },
  {
   "cell_type": "code",
   "execution_count": 3,
   "metadata": {},
   "outputs": [],
   "source": [
    "data = pd.read_csv('myFitnessPal_parsed.csv')"
   ]
  },
  {
   "cell_type": "code",
   "execution_count": 4,
   "metadata": {},
   "outputs": [],
   "source": [
    "# with open('foods.json') as json_file:\n",
    "#      foods = json.load(json_file)"
   ]
  },
  {
   "cell_type": "markdown",
   "metadata": {},
   "source": [
    "# <span style=\"color:#FF7B07\"><div align=\"center\">**Data Analysis** <a  name=\"3\"></a>"
   ]
  },
  {
   "cell_type": "markdown",
   "metadata": {},
   "source": [
    "#### <span style=\"color:#FF7B07\">Let us first review the general information of the data "
   ]
  },
  {
   "cell_type": "code",
   "execution_count": 5,
   "metadata": {},
   "outputs": [
    {
     "name": "stdout",
     "output_type": "stream",
     "text": [
      "\n",
      " Data shape - (587186, 16) \n",
      " Unique users - 9896 \n",
      "\n"
     ]
    },
    {
     "data": {
      "text/html": [
       "<div>\n",
       "<style scoped>\n",
       "    .dataframe tbody tr th:only-of-type {\n",
       "        vertical-align: middle;\n",
       "    }\n",
       "\n",
       "    .dataframe tbody tr th {\n",
       "        vertical-align: top;\n",
       "    }\n",
       "\n",
       "    .dataframe thead th {\n",
       "        text-align: right;\n",
       "    }\n",
       "</style>\n",
       "<table border=\"1\" class=\"dataframe\">\n",
       "  <thead>\n",
       "    <tr style=\"text-align: right;\">\n",
       "      <th></th>\n",
       "      <th>user_id</th>\n",
       "      <th>date</th>\n",
       "      <th>sequence</th>\n",
       "      <th>food_ids</th>\n",
       "      <th>total_calories</th>\n",
       "      <th>total_carbs</th>\n",
       "      <th>total_fat</th>\n",
       "      <th>total_protein</th>\n",
       "      <th>total_sodium</th>\n",
       "      <th>total_sugar</th>\n",
       "      <th>goal_calories</th>\n",
       "      <th>goal_carbs</th>\n",
       "      <th>goal_fat</th>\n",
       "      <th>goal_protein</th>\n",
       "      <th>goal_sodium</th>\n",
       "      <th>goal_sugar</th>\n",
       "    </tr>\n",
       "  </thead>\n",
       "  <tbody>\n",
       "    <tr>\n",
       "      <th>0</th>\n",
       "      <td>1</td>\n",
       "      <td>2014-09-15</td>\n",
       "      <td>1</td>\n",
       "      <td>[1, 2, 3, 4, 4]</td>\n",
       "      <td>2430</td>\n",
       "      <td>96</td>\n",
       "      <td>37.0</td>\n",
       "      <td>50.0</td>\n",
       "      <td>855.0</td>\n",
       "      <td>63.0</td>\n",
       "      <td>1572.0</td>\n",
       "      <td>196.0</td>\n",
       "      <td>52.0</td>\n",
       "      <td>79.0</td>\n",
       "      <td>2300.0</td>\n",
       "      <td>59.0</td>\n",
       "    </tr>\n",
       "    <tr>\n",
       "      <th>1</th>\n",
       "      <td>1</td>\n",
       "      <td>2014-09-16</td>\n",
       "      <td>1</td>\n",
       "      <td>[5, 1, 2, 3, 6, 7]</td>\n",
       "      <td>1862</td>\n",
       "      <td>158</td>\n",
       "      <td>54.0</td>\n",
       "      <td>114.0</td>\n",
       "      <td>2215.0</td>\n",
       "      <td>100.0</td>\n",
       "      <td>1832.0</td>\n",
       "      <td>229.0</td>\n",
       "      <td>61.0</td>\n",
       "      <td>92.0</td>\n",
       "      <td>2300.0</td>\n",
       "      <td>69.0</td>\n",
       "    </tr>\n",
       "    <tr>\n",
       "      <th>2</th>\n",
       "      <td>1</td>\n",
       "      <td>2014-09-17</td>\n",
       "      <td>1</td>\n",
       "      <td>[1, 2, 3, 6, 8, 9, 10]</td>\n",
       "      <td>2251</td>\n",
       "      <td>187</td>\n",
       "      <td>60.0</td>\n",
       "      <td>98.0</td>\n",
       "      <td>1765.0</td>\n",
       "      <td>105.0</td>\n",
       "      <td>1685.0</td>\n",
       "      <td>210.0</td>\n",
       "      <td>56.0</td>\n",
       "      <td>85.0</td>\n",
       "      <td>2300.0</td>\n",
       "      <td>63.0</td>\n",
       "    </tr>\n",
       "  </tbody>\n",
       "</table>\n",
       "</div>"
      ],
      "text/plain": [
       "   user_id        date  sequence                food_ids  total_calories  total_carbs  total_fat  total_protein  total_sodium  total_sugar  goal_calories  goal_carbs  goal_fat  goal_protein  goal_sodium  goal_sugar\n",
       "0        1  2014-09-15         1         [1, 2, 3, 4, 4]            2430           96       37.0           50.0         855.0         63.0         1572.0       196.0      52.0          79.0       2300.0        59.0\n",
       "1        1  2014-09-16         1      [5, 1, 2, 3, 6, 7]            1862          158       54.0          114.0        2215.0        100.0         1832.0       229.0      61.0          92.0       2300.0        69.0\n",
       "2        1  2014-09-17         1  [1, 2, 3, 6, 8, 9, 10]            2251          187       60.0           98.0        1765.0        105.0         1685.0       210.0      56.0          85.0       2300.0        63.0"
      ]
     },
     "execution_count": 5,
     "metadata": {},
     "output_type": "execute_result"
    }
   ],
   "source": [
    "print(f'\\n Data shape - {data.shape} ')\n",
    "print(f' Unique users - {data[\"user_id\"].nunique()} \\n')\n",
    "data.head(3)\n"
   ]
  },
  {
   "cell_type": "code",
   "execution_count": 6,
   "metadata": {},
   "outputs": [
    {
     "name": "stdout",
     "output_type": "stream",
     "text": [
      "<class 'pandas.core.frame.DataFrame'>\n",
      "RangeIndex: 587186 entries, 0 to 587185\n",
      "Data columns (total 16 columns):\n",
      " #   Column          Non-Null Count   Dtype  \n",
      "---  ------          --------------   -----  \n",
      " 0   user_id         587186 non-null  int64  \n",
      " 1   date            587186 non-null  object \n",
      " 2   sequence        587186 non-null  int64  \n",
      " 3   food_ids        587186 non-null  object \n",
      " 4   total_calories  587186 non-null  int64  \n",
      " 5   total_carbs     587186 non-null  int64  \n",
      " 6   total_fat       586309 non-null  float64\n",
      " 7   total_protein   586309 non-null  float64\n",
      " 8   total_sodium    585881 non-null  float64\n",
      " 9   total_sugar     585879 non-null  float64\n",
      " 10  goal_calories   585264 non-null  float64\n",
      " 11  goal_carbs      585261 non-null  float64\n",
      " 12  goal_fat        559873 non-null  float64\n",
      " 13  goal_protein    559868 non-null  float64\n",
      " 14  goal_sodium     519466 non-null  float64\n",
      " 15  goal_sugar      519196 non-null  float64\n",
      "dtypes: float64(10), int64(4), object(2)\n",
      "memory usage: 71.7+ MB\n"
     ]
    }
   ],
   "source": [
    "data.info()"
   ]
  },
  {
   "cell_type": "markdown",
   "metadata": {},
   "source": [
    "#### <span style=\"color:#00CC00\"> As you can see most of the feature's type is number so we don't need to convert them <br>  except \"date\" and \"food_ids\" which needs to converted."
   ]
  },
  {
   "cell_type": "code",
   "execution_count": 7,
   "metadata": {},
   "outputs": [
    {
     "data": {
      "text/html": [
       "<div>\n",
       "<style scoped>\n",
       "    .dataframe tbody tr th:only-of-type {\n",
       "        vertical-align: middle;\n",
       "    }\n",
       "\n",
       "    .dataframe tbody tr th {\n",
       "        vertical-align: top;\n",
       "    }\n",
       "\n",
       "    .dataframe thead th {\n",
       "        text-align: right;\n",
       "    }\n",
       "</style>\n",
       "<table border=\"1\" class=\"dataframe\">\n",
       "  <thead>\n",
       "    <tr style=\"text-align: right;\">\n",
       "      <th></th>\n",
       "      <th>user_id</th>\n",
       "      <th>sequence</th>\n",
       "      <th>total_calories</th>\n",
       "      <th>total_carbs</th>\n",
       "      <th>total_fat</th>\n",
       "      <th>total_protein</th>\n",
       "      <th>total_sodium</th>\n",
       "      <th>total_sugar</th>\n",
       "      <th>goal_calories</th>\n",
       "      <th>goal_carbs</th>\n",
       "      <th>goal_fat</th>\n",
       "      <th>goal_protein</th>\n",
       "      <th>goal_sodium</th>\n",
       "      <th>goal_sugar</th>\n",
       "    </tr>\n",
       "  </thead>\n",
       "  <tbody>\n",
       "    <tr>\n",
       "      <th>count</th>\n",
       "      <td>587186.000000</td>\n",
       "      <td>587186.000000</td>\n",
       "      <td>5.871860e+05</td>\n",
       "      <td>587186.000000</td>\n",
       "      <td>586309.000000</td>\n",
       "      <td>586309.000000</td>\n",
       "      <td>585881.000000</td>\n",
       "      <td>585879.000000</td>\n",
       "      <td>585264.000000</td>\n",
       "      <td>585261.000000</td>\n",
       "      <td>559873.000000</td>\n",
       "      <td>559868.000000</td>\n",
       "      <td>519466.000000</td>\n",
       "      <td>519196.000000</td>\n",
       "    </tr>\n",
       "    <tr>\n",
       "      <th>mean</th>\n",
       "      <td>4946.928031</td>\n",
       "      <td>4.004532</td>\n",
       "      <td>1.421923e+03</td>\n",
       "      <td>153.679057</td>\n",
       "      <td>71.235077</td>\n",
       "      <td>93.821524</td>\n",
       "      <td>1157.984207</td>\n",
       "      <td>407.563147</td>\n",
       "      <td>1613.422573</td>\n",
       "      <td>194.222680</td>\n",
       "      <td>90.101536</td>\n",
       "      <td>157.212782</td>\n",
       "      <td>1446.919333</td>\n",
       "      <td>411.366736</td>\n",
       "    </tr>\n",
       "    <tr>\n",
       "      <th>std</th>\n",
       "      <td>2844.719822</td>\n",
       "      <td>1.341577</td>\n",
       "      <td>2.284502e+03</td>\n",
       "      <td>355.777029</td>\n",
       "      <td>277.018504</td>\n",
       "      <td>289.062514</td>\n",
       "      <td>2049.176072</td>\n",
       "      <td>907.108966</td>\n",
       "      <td>722.874981</td>\n",
       "      <td>352.425203</td>\n",
       "      <td>240.765991</td>\n",
       "      <td>390.169810</td>\n",
       "      <td>1166.553691</td>\n",
       "      <td>886.227384</td>\n",
       "    </tr>\n",
       "    <tr>\n",
       "      <th>min</th>\n",
       "      <td>1.000000</td>\n",
       "      <td>1.000000</td>\n",
       "      <td>0.000000e+00</td>\n",
       "      <td>0.000000</td>\n",
       "      <td>0.000000</td>\n",
       "      <td>0.000000</td>\n",
       "      <td>0.000000</td>\n",
       "      <td>0.000000</td>\n",
       "      <td>0.000000</td>\n",
       "      <td>0.000000</td>\n",
       "      <td>0.000000</td>\n",
       "      <td>0.000000</td>\n",
       "      <td>0.000000</td>\n",
       "      <td>0.000000</td>\n",
       "    </tr>\n",
       "    <tr>\n",
       "      <th>25%</th>\n",
       "      <td>2513.000000</td>\n",
       "      <td>3.000000</td>\n",
       "      <td>1.038000e+03</td>\n",
       "      <td>76.000000</td>\n",
       "      <td>29.000000</td>\n",
       "      <td>40.000000</td>\n",
       "      <td>30.000000</td>\n",
       "      <td>22.000000</td>\n",
       "      <td>1314.000000</td>\n",
       "      <td>122.000000</td>\n",
       "      <td>46.000000</td>\n",
       "      <td>70.000000</td>\n",
       "      <td>56.000000</td>\n",
       "      <td>45.000000</td>\n",
       "    </tr>\n",
       "    <tr>\n",
       "      <th>50%</th>\n",
       "      <td>4928.000000</td>\n",
       "      <td>4.000000</td>\n",
       "      <td>1.403000e+03</td>\n",
       "      <td>135.000000</td>\n",
       "      <td>49.000000</td>\n",
       "      <td>66.000000</td>\n",
       "      <td>690.000000</td>\n",
       "      <td>51.000000</td>\n",
       "      <td>1630.000000</td>\n",
       "      <td>178.000000</td>\n",
       "      <td>58.000000</td>\n",
       "      <td>96.000000</td>\n",
       "      <td>2300.000000</td>\n",
       "      <td>64.000000</td>\n",
       "    </tr>\n",
       "    <tr>\n",
       "      <th>75%</th>\n",
       "      <td>7427.000000</td>\n",
       "      <td>5.000000</td>\n",
       "      <td>1.766000e+03</td>\n",
       "      <td>191.000000</td>\n",
       "      <td>72.000000</td>\n",
       "      <td>98.000000</td>\n",
       "      <td>1982.000000</td>\n",
       "      <td>139.000000</td>\n",
       "      <td>1991.000000</td>\n",
       "      <td>227.000000</td>\n",
       "      <td>77.000000</td>\n",
       "      <td>135.000000</td>\n",
       "      <td>2300.000000</td>\n",
       "      <td>100.000000</td>\n",
       "    </tr>\n",
       "    <tr>\n",
       "      <th>max</th>\n",
       "      <td>9897.000000</td>\n",
       "      <td>6.000000</td>\n",
       "      <td>1.200800e+06</td>\n",
       "      <td>210865.000000</td>\n",
       "      <td>132088.000000</td>\n",
       "      <td>114949.000000</td>\n",
       "      <td>960000.000000</td>\n",
       "      <td>168015.000000</td>\n",
       "      <td>26068.000000</td>\n",
       "      <td>154417.000000</td>\n",
       "      <td>38128.000000</td>\n",
       "      <td>102945.000000</td>\n",
       "      <td>23009.000000</td>\n",
       "      <td>35055.000000</td>\n",
       "    </tr>\n",
       "  </tbody>\n",
       "</table>\n",
       "</div>"
      ],
      "text/plain": [
       "             user_id       sequence  total_calories    total_carbs      total_fat  total_protein   total_sodium    total_sugar  goal_calories     goal_carbs       goal_fat   goal_protein    goal_sodium     goal_sugar\n",
       "count  587186.000000  587186.000000    5.871860e+05  587186.000000  586309.000000  586309.000000  585881.000000  585879.000000  585264.000000  585261.000000  559873.000000  559868.000000  519466.000000  519196.000000\n",
       "mean     4946.928031       4.004532    1.421923e+03     153.679057      71.235077      93.821524    1157.984207     407.563147    1613.422573     194.222680      90.101536     157.212782    1446.919333     411.366736\n",
       "std      2844.719822       1.341577    2.284502e+03     355.777029     277.018504     289.062514    2049.176072     907.108966     722.874981     352.425203     240.765991     390.169810    1166.553691     886.227384\n",
       "min         1.000000       1.000000    0.000000e+00       0.000000       0.000000       0.000000       0.000000       0.000000       0.000000       0.000000       0.000000       0.000000       0.000000       0.000000\n",
       "25%      2513.000000       3.000000    1.038000e+03      76.000000      29.000000      40.000000      30.000000      22.000000    1314.000000     122.000000      46.000000      70.000000      56.000000      45.000000\n",
       "50%      4928.000000       4.000000    1.403000e+03     135.000000      49.000000      66.000000     690.000000      51.000000    1630.000000     178.000000      58.000000      96.000000    2300.000000      64.000000\n",
       "75%      7427.000000       5.000000    1.766000e+03     191.000000      72.000000      98.000000    1982.000000     139.000000    1991.000000     227.000000      77.000000     135.000000    2300.000000     100.000000\n",
       "max      9897.000000       6.000000    1.200800e+06  210865.000000  132088.000000  114949.000000  960000.000000  168015.000000   26068.000000  154417.000000   38128.000000  102945.000000   23009.000000   35055.000000"
      ]
     },
     "execution_count": 7,
     "metadata": {},
     "output_type": "execute_result"
    }
   ],
   "source": [
    "data.describe()"
   ]
  },
  {
   "cell_type": "markdown",
   "metadata": {},
   "source": [
    "#### <span style=\"color:#00CC00\"> At first glance we would probably see that data needs to be normalized and maybe we have some outliers too"
   ]
  },
  {
   "cell_type": "markdown",
   "metadata": {},
   "source": [
    "#### <span style=\"color:#FF7B07\"> As we know we have a different number of records for each user in the data "
   ]
  },
  {
   "cell_type": "code",
   "execution_count": 8,
   "metadata": {},
   "outputs": [
    {
     "name": "stdout",
     "output_type": "stream",
     "text": [
      "user_id 1 has 173 records\n",
      "user_id 2 has 60 records\n"
     ]
    }
   ],
   "source": [
    "print(f'user_id 1 has {len(data[data[\"user_id\"]==1])} records')\n",
    "print(f'user_id 2 has {len(data[data[\"user_id\"]==2])} records')"
   ]
  },
  {
   "cell_type": "markdown",
   "metadata": {},
   "source": [
    "#### <span style=\"color:#FF7B07\"> User may also have missed information between the first and final days of the record"
   ]
  },
  {
   "cell_type": "code",
   "execution_count": 9,
   "metadata": {},
   "outputs": [
    {
     "data": {
      "text/html": [
       "<div>\n",
       "<style scoped>\n",
       "    .dataframe tbody tr th:only-of-type {\n",
       "        vertical-align: middle;\n",
       "    }\n",
       "\n",
       "    .dataframe tbody tr th {\n",
       "        vertical-align: top;\n",
       "    }\n",
       "\n",
       "    .dataframe thead th {\n",
       "        text-align: right;\n",
       "    }\n",
       "</style>\n",
       "<table border=\"1\" class=\"dataframe\">\n",
       "  <thead>\n",
       "    <tr style=\"text-align: right;\">\n",
       "      <th></th>\n",
       "      <th>user_id</th>\n",
       "      <th>date</th>\n",
       "      <th>sequence</th>\n",
       "      <th>food_ids</th>\n",
       "      <th>total_calories</th>\n",
       "      <th>total_carbs</th>\n",
       "      <th>total_fat</th>\n",
       "      <th>total_protein</th>\n",
       "      <th>total_sodium</th>\n",
       "      <th>total_sugar</th>\n",
       "      <th>goal_calories</th>\n",
       "      <th>goal_carbs</th>\n",
       "      <th>goal_fat</th>\n",
       "      <th>goal_protein</th>\n",
       "      <th>goal_sodium</th>\n",
       "      <th>goal_sugar</th>\n",
       "    </tr>\n",
       "  </thead>\n",
       "  <tbody>\n",
       "    <tr>\n",
       "      <th>561</th>\n",
       "      <td>7</td>\n",
       "      <td>2014-10-06</td>\n",
       "      <td>1</td>\n",
       "      <td>[980, 981]</td>\n",
       "      <td>360</td>\n",
       "      <td>45</td>\n",
       "      <td>14.0</td>\n",
       "      <td>15.0</td>\n",
       "      <td>2.0</td>\n",
       "      <td>5.0</td>\n",
       "      <td>1400.0</td>\n",
       "      <td>140.0</td>\n",
       "      <td>31.0</td>\n",
       "      <td>140.0</td>\n",
       "      <td>25.0</td>\n",
       "      <td>102.0</td>\n",
       "    </tr>\n",
       "    <tr>\n",
       "      <th>562</th>\n",
       "      <td>7</td>\n",
       "      <td>2014-10-15</td>\n",
       "      <td>1</td>\n",
       "      <td>[982]</td>\n",
       "      <td>140</td>\n",
       "      <td>2</td>\n",
       "      <td>9.0</td>\n",
       "      <td>12.0</td>\n",
       "      <td>0.0</td>\n",
       "      <td>1.0</td>\n",
       "      <td>1400.0</td>\n",
       "      <td>140.0</td>\n",
       "      <td>31.0</td>\n",
       "      <td>140.0</td>\n",
       "      <td>25.0</td>\n",
       "      <td>102.0</td>\n",
       "    </tr>\n",
       "  </tbody>\n",
       "</table>\n",
       "</div>"
      ],
      "text/plain": [
       "     user_id        date  sequence    food_ids  total_calories  total_carbs  total_fat  total_protein  total_sodium  total_sugar  goal_calories  goal_carbs  goal_fat  goal_protein  goal_sodium  goal_sugar\n",
       "561        7  2014-10-06         1  [980, 981]             360           45       14.0           15.0           2.0          5.0         1400.0       140.0      31.0         140.0         25.0       102.0\n",
       "562        7  2014-10-15         1       [982]             140            2        9.0           12.0           0.0          1.0         1400.0       140.0      31.0         140.0         25.0       102.0"
      ]
     },
     "execution_count": 9,
     "metadata": {},
     "output_type": "execute_result"
    }
   ],
   "source": [
    "data[data[\"user_id\"]==7].head(2)"
   ]
  },
  {
   "cell_type": "markdown",
   "metadata": {},
   "source": [
    "#### <span style=\"color:#00CC00\"> As we can see, User whose ID is 7, made the first record in 2014-10-06 and the second in 2014-10-15. <br> We will need to reflect this information as new feature"
   ]
  },
  {
   "cell_type": "markdown",
   "metadata": {},
   "source": [
    "#### <span style=\"color:#FF7B07\"> Check for null values in the data"
   ]
  },
  {
   "cell_type": "code",
   "execution_count": 10,
   "metadata": {},
   "outputs": [
    {
     "data": {
      "text/html": [
       "<div>\n",
       "<style scoped>\n",
       "    .dataframe tbody tr th:only-of-type {\n",
       "        vertical-align: middle;\n",
       "    }\n",
       "\n",
       "    .dataframe tbody tr th {\n",
       "        vertical-align: top;\n",
       "    }\n",
       "\n",
       "    .dataframe thead th {\n",
       "        text-align: right;\n",
       "    }\n",
       "</style>\n",
       "<table border=\"1\" class=\"dataframe\">\n",
       "  <thead>\n",
       "    <tr style=\"text-align: right;\">\n",
       "      <th></th>\n",
       "      <th>user_id</th>\n",
       "      <th>date</th>\n",
       "      <th>sequence</th>\n",
       "      <th>food_ids</th>\n",
       "      <th>total_calories</th>\n",
       "      <th>total_carbs</th>\n",
       "      <th>total_fat</th>\n",
       "      <th>total_protein</th>\n",
       "      <th>total_sodium</th>\n",
       "      <th>total_sugar</th>\n",
       "      <th>goal_calories</th>\n",
       "      <th>goal_carbs</th>\n",
       "      <th>goal_fat</th>\n",
       "      <th>goal_protein</th>\n",
       "      <th>goal_sodium</th>\n",
       "      <th>goal_sugar</th>\n",
       "    </tr>\n",
       "  </thead>\n",
       "  <tbody>\n",
       "    <tr>\n",
       "      <th>Null Frequency</th>\n",
       "      <td>0</td>\n",
       "      <td>0</td>\n",
       "      <td>0</td>\n",
       "      <td>0</td>\n",
       "      <td>0</td>\n",
       "      <td>0</td>\n",
       "      <td>877</td>\n",
       "      <td>877</td>\n",
       "      <td>1305</td>\n",
       "      <td>1307</td>\n",
       "      <td>1922</td>\n",
       "      <td>1925</td>\n",
       "      <td>27313</td>\n",
       "      <td>27318</td>\n",
       "      <td>67720</td>\n",
       "      <td>67990</td>\n",
       "    </tr>\n",
       "  </tbody>\n",
       "</table>\n",
       "</div>"
      ],
      "text/plain": [
       "                user_id  date  sequence  food_ids  total_calories  total_carbs  total_fat  total_protein  total_sodium  total_sugar  goal_calories  goal_carbs  goal_fat  goal_protein  goal_sodium  goal_sugar\n",
       "Null Frequency        0     0         0         0               0            0        877            877          1305         1307           1922        1925     27313         27318        67720       67990"
      ]
     },
     "execution_count": 10,
     "metadata": {},
     "output_type": "execute_result"
    }
   ],
   "source": [
    "null_df = pd.DataFrame(data.isna().sum())\n",
    "null_df.columns = [\"Null Frequency\"]\n",
    "null_df.T"
   ]
  },
  {
   "cell_type": "markdown",
   "metadata": {},
   "source": [
    "#### <span style=\"color:#00CC00\"> As we saw there are 10 columns which have sometimes null values <br> User can have a maximum of 10 columns with null value <br> So I think we should throw away a user who has 4 or more Null values, <br> Because otherwise it would turn out that we have filled more than 25 percent of the user information"
   ]
  },
  {
   "cell_type": "code",
   "execution_count": 11,
   "metadata": {},
   "outputs": [
    {
     "name": "stdout",
     "output_type": "stream",
     "text": [
      "Users which have null in more than 3 columns :  4.6515073588266755 %\n"
     ]
    }
   ],
   "source": [
    "print('Users which have null in more than 3 columns : ',(len(data.loc[data.isnull().sum(axis=1)>3])/len(data))*100,'%')\n",
    "nullColumns = data.loc[data.isnull().sum(axis=1)>3].index\n",
    "nullColumns = pd.DataFrame(nullColumns,columns={'index'})"
   ]
  },
  {
   "cell_type": "markdown",
   "metadata": {},
   "source": [
    "#### <span style=\"color:#00CC00\"> It seems that the number of such people is about 4.6 percent. <br> Due to the fact that the data is not so little and at the same time filling 4 null feature is not so accurate we can throw them "
   ]
  },
  {
   "cell_type": "markdown",
   "metadata": {},
   "source": [
    "#### <span style=\"color:#FF7B07\"> There can still be a problem with the values and such a situation is when the goal calories are 0 <br>and the mentioned situation does not make sense <br> because the main purpose of the app is to select a goal and get closer to it."
   ]
  },
  {
   "cell_type": "code",
   "execution_count": 12,
   "metadata": {},
   "outputs": [
    {
     "name": "stdout",
     "output_type": "stream",
     "text": [
      "Users which have zero in goal_calories :  0.11767991743672362 %\n"
     ]
    }
   ],
   "source": [
    "print('Users which have zero in goal_calories : ',(len(data[data['goal_calories']==0])/len(data))*100,'%')"
   ]
  },
  {
   "cell_type": "markdown",
   "metadata": {},
   "source": [
    "#### <span style=\"color:#00CC00\"> It seems that the number of such people is about 0.1 percent. So we can throw them away "
   ]
  },
  {
   "cell_type": "code",
   "execution_count": 13,
   "metadata": {},
   "outputs": [],
   "source": [
    "def createPlot(data, col:str, ttext:str, xtext:str, ytext:str) ->None:\n",
    "    \"\"\"\n",
    "    this function creates histogram and boxplot by pyplot library and also count skewness\n",
    "    \n",
    "    Arguments:\n",
    "    data -- pandas dataframe\n",
    "    col -- column name which we want to plot\n",
    "    ttext -- string which we want to write on top of the graph\n",
    "    xtext -- string which we want to write on x axis\n",
    "    ytext -- string which we want to write on y axis\n",
    "    \n",
    "    Returns:\n",
    "    None\n",
    "    \"\"\"\n",
    "    fig = make_subplots(rows=1, cols=2)\n",
    "    fig.add_trace(go.Histogram(x=data[col],marker_color='#6a6fff'),row=1,col=1)\n",
    "    fig.add_trace(go.Box(x=data[col]),row=1,col=2)\n",
    "    \n",
    "    fig.update_layout(\n",
    "        title_text=ttext,\n",
    "        xaxis_title_text=xtext,\n",
    "        yaxis_title_text=ytext, \n",
    "        bargap=0.05, \n",
    "        template = 'plotly_dark',\n",
    "        width=900, height=600\n",
    "    )\n",
    "    fig.add_annotation(dict(font=dict(color='yellow',size=15),\n",
    "                                        x=0.35,\n",
    "                                        y=1.1,\n",
    "                                        showarrow=False,\n",
    "                                        text=\"Skewness = \"+str(data[col].skew()),\n",
    "                                        textangle=0,\n",
    "                                        xanchor='left',\n",
    "                                        xref=\"paper\",\n",
    "                                        yref=\"paper\"))\n",
    "    \n",
    "    fig.show()\n",
    "#createPlot(data,\"goal_calories\",\"Time Distribution\",\"Time (days)\",\"count\")"
   ]
  },
  {
   "cell_type": "code",
   "execution_count": 14,
   "metadata": {},
   "outputs": [],
   "source": [
    "# groups = ['Low','Medium','High']\n",
    "# dfForPlot = df.copy();\n",
    "# def get_categories(x):\n",
    "#     if x < q1:\n",
    "#         return groups[0]\n",
    "#     elif x < q3:\n",
    "#         return groups[1]\n",
    "#     else:\n",
    "#         return groups[2]    \n",
    "\n",
    "# for col in numVariable:\n",
    "#     q1 = df[col].quantile(q=0.25)\n",
    "#     q3 = df[col].quantile(q=0.75)\n",
    "#     dfForPlot[col] = df[col].apply(get_categories)"
   ]
  },
  {
   "cell_type": "markdown",
   "metadata": {},
   "source": [
    "#### <span style=\"color:#FF7B07\"> There are many spreaded hypothesis about diet, healthy lifestyle and also about habits too. Now let's check their validity with our data"
   ]
  },
  {
   "cell_type": "markdown",
   "metadata": {},
   "source": [
    "#### <span style=\"color:#FF7B07\">  1. People more likely start diet and healthy lifestyle on mondays"
   ]
  },
  {
   "cell_type": "code",
   "execution_count": 15,
   "metadata": {},
   "outputs": [],
   "source": [
    "daysCount=[0,0,0,0,0,0,0]\n",
    "for ID in data['user_id'].unique():\n",
    "    date = data[data[\"user_id\"]==ID].head(1)['date'].values[0]\n",
    "    d=datetime.strptime(str(date), \"%Y-%m-%d\")\n",
    "    daysCount[d.weekday()]+=1"
   ]
  },
  {
   "cell_type": "code",
   "execution_count": 16,
   "metadata": {},
   "outputs": [
    {
     "data": {
      "text/plain": [
       "<AxesSubplot:xlabel='days', ylabel='quantities'>"
      ]
     },
     "execution_count": 16,
     "metadata": {},
     "output_type": "execute_result"
    },
    {
     "data": {
      "image/png": "[encoded data removed]",
      "text/plain": [
       "<Figure size 720x432 with 1 Axes>"
      ]
     },
     "metadata": {
      "needs_background": "light"
     },
     "output_type": "display_data"
    }
   ],
   "source": [
    "fig, ax = plt.subplots(figsize=(10,6))\n",
    "df=pd.DataFrame({'days':['Monday','Tuesday','Wednesday','Thursday','Friday','Saturday','Sunday'],'quantities': daysCount})\n",
    "sns.barplot(x='days',y='quantities',data=df,palette='magma',ax=ax)"
   ]
  },
  {
   "cell_type": "markdown",
   "metadata": {},
   "source": [
    "#### <span style=\"color:#00CC00\"> The results show that hypothesis were right: <br>  people more likely start diet on mondays and the graph also proves that wednesday is really lazy day to start something. "
   ]
  },
  {
   "cell_type": "markdown",
   "metadata": {},
   "source": [
    "#### <span style=\"color:#FF7B07\">  2. People frequently cheat diet on weekends"
   ]
  },
  {
   "cell_type": "code",
   "execution_count": 113,
   "metadata": {},
   "outputs": [],
   "source": [
    "daysCount=[0,0,0,0,0,0,0]\n",
    "daysLogged=[0,0,0,0,0,0,0]\n",
    "for i,row in data.iterrows():\n",
    "    date = row['date']\n",
    "    goal_calories=row['goal_calories']\n",
    "    total_calories=row['total_calories']\n",
    "    if total_calories > (goal_calories+goal_calories*15) :  # actually total_calories more than approx. 5 hamburgers  😂 \n",
    "        d=datetime.strptime(str(date), \"%Y-%m-%d\")\n",
    "        daysCount[d.weekday()]+=1\n",
    "    daysLogged[d.weekday()]+=1"
   ]
  },
  {
   "cell_type": "code",
   "execution_count": 114,
   "metadata": {},
   "outputs": [],
   "source": [
    "res = [i / j for i, j in zip(daysCount,daysLogged)]\n",
    "res = [i / np.sum(res) for i in res]*100"
   ]
  },
  {
   "cell_type": "code",
   "execution_count": 115,
   "metadata": {},
   "outputs": [
    {
     "data": {
      "text/plain": [
       "<AxesSubplot:xlabel='days', ylabel='quantities'>"
      ]
     },
     "execution_count": 115,
     "metadata": {},
     "output_type": "execute_result"
    },
    {
     "data": {
      "image/png": "[encoded data removed]",
      "text/plain": [
       "<Figure size 720x432 with 1 Axes>"
      ]
     },
     "metadata": {
      "needs_background": "light"
     },
     "output_type": "display_data"
    }
   ],
   "source": [
    "fig, ax = plt.subplots(figsize=(10,6))\n",
    "df=pd.DataFrame({'days':['Monday','Tuesday','Wednesday','Thursday','Friday','Saturday','Sunday'],'quantities': an_array})\n",
    "sns.barplot(x='days',y='quantities',data=df,palette='magma',ax=ax)"
   ]
  },
  {
   "cell_type": "markdown",
   "metadata": {},
   "source": [
    "#### <span style=\"color:#00CC00\"> Looks like people use to cheat on fridays and saturdays more, they took much more calories on these days. Our hypothesis partially justified"
   ]
  },
  {
   "cell_type": "markdown",
   "metadata": {},
   "source": [
    "# <span style=\"color:#FF7B07\"><div align=\"center\">**Create Features** <a  name=\"4\"></a>"
   ]
  },
  {
   "cell_type": "code",
   "execution_count": null,
   "metadata": {},
   "outputs": [],
   "source": [
    "data.head(3)"
   ]
  },
  {
   "cell_type": "markdown",
   "metadata": {},
   "source": [
    "#### <span style=\"color:#00CC00\"> As we see one feature which needs to be remaked is food_ids <br> So, we will extract most of the information from the given feature and create a new one <br> so that we can lose as few information as possible.<br> Firstly, we'll create a new attribute based on the size of food_ids . "
   ]
  },
  {
   "cell_type": "code",
   "execution_count": 17,
   "metadata": {},
   "outputs": [],
   "source": [
    "data['foods_len'] = data[\"food_ids\"].apply(lambda x: len(x[1:-1].split(',')))"
   ]
  },
  {
   "cell_type": "code",
   "execution_count": null,
   "metadata": {},
   "outputs": [],
   "source": [
    "# createPlot(data,\"foods_len\",\"Foods len Dist\",\"Foods length\",\"count\")"
   ]
  },
  {
   "cell_type": "markdown",
   "metadata": {},
   "source": [
    "✔️ Foods_len is right skewed (0.8). <br>\n",
    "❌ There are a few outliers in the distribution. <br>\n",
    "✔️ Most of the applicant's foods_len is near 10 <br> \n",
    "❌ Max number of foods in one day is 62 <br>\n",
    "✔️ Min number of foods in one day is 1"
   ]
  },
  {
   "cell_type": "markdown",
   "metadata": {},
   "source": [
    "#### <span style=\"color:#FF7B07\"> For each user we may have several rows. <br> Our goal is to transform the data so that we have one characteristic or one row for each person. <br> So let's take a separate feature of how many records we have for each person. <br> It will also help us to store information and according to the algorithm we can select people who for example have less than 10 records"
   ]
  },
  {
   "cell_type": "markdown",
   "metadata": {},
   "source": [
    "#### <span style=\"color:#FF7B07\"> To do this,we create temporary dataframe where we will have unique user IDs and the corresponding number of logs<br>  so that we do not want the values to be repeated and data manipulation to become difficult. <br> Finally after we prepare the data we will add it and we will have all the columns together so do not be confused "
   ]
  },
  {
   "cell_type": "code",
   "execution_count": 18,
   "metadata": {},
   "outputs": [],
   "source": [
    "# add new feature which shows how many days are logged by each applicants\n",
    "user_logged_freq = data[\"user_id\"].value_counts()\n",
    "user_logged_df = pd.DataFrame(data[\"user_id\"].unique(),columns = ['user_id'])\n",
    "user_logged_df[\"logged_frequency\"] = user_logged_df[\"user_id\"].apply(lambda _id: user_logged_freq[_id])"
   ]
  },
  {
   "cell_type": "code",
   "execution_count": 19,
   "metadata": {},
   "outputs": [],
   "source": [
    "# createPlot(user_logged_df,\"logged_frequency\",\"logged Distribution\",\"logged\",\"count\")"
   ]
  },
  {
   "cell_type": "markdown",
   "metadata": {},
   "source": [
    "✔️ logged frequency is right skewed (0.8). <br>\n",
    "✔️ There are no outliers in the distribution. <br>\n",
    "✔️ Most of the logged frequency is near 42 <br> \n",
    "✔️ Max number of logs is 187 <br>\n",
    "❌ Max number of logs is 1"
   ]
  },
  {
   "cell_type": "markdown",
   "metadata": {},
   "source": [
    "#### <span style=\"color:#00CC00\"> It seems that there are people who have 187 records and also people with 1 record"
   ]
  },
  {
   "cell_type": "markdown",
   "metadata": {},
   "source": [
    "#### <span style=\"color:#FF7B07\"> As we saw, users may have missed data between start and end date, <br> so let's do a separate feature to show that <br> This will help us retain as much information as possible about our customers"
   ]
  },
  {
   "cell_type": "code",
   "execution_count": 20,
   "metadata": {},
   "outputs": [],
   "source": [
    "# this function counts whole days between start and end date and calculates missed days for new feature\n",
    "def days_missed(d1, d2,loggedDays):\n",
    "    d1 = datetime.strptime(str(d1), \"%Y-%m-%d\")\n",
    "    d2 = datetime.strptime(str(d2), \"%Y-%m-%d\")\n",
    "    return abs(abs((d2 - d1).days)-loggedDays)"
   ]
  },
  {
   "cell_type": "code",
   "execution_count": 21,
   "metadata": {},
   "outputs": [],
   "source": [
    "# this function calls days_missed regarding last and first records\n",
    "def get_missed_days(df,userID,logged_frequency):\n",
    "    tail = df[df[\"user_id\"]==userID].tail(1)['date'].values[0]\n",
    "    head = df[df[\"user_id\"]==userID].head(1)['date'].values[0]\n",
    "    return days_missed(tail,head,logged_frequency)   "
   ]
  },
  {
   "cell_type": "code",
   "execution_count": 22,
   "metadata": {},
   "outputs": [],
   "source": [
    "# add new feature based on how many days are missed for each user\n",
    "user_logged_df['days_missed'] = user_logged_df[['user_id','logged_frequency']].apply(lambda x: get_missed_days(data,x.user_id,x.logged_frequency),axis=1)"
   ]
  },
  {
   "cell_type": "code",
   "execution_count": 23,
   "metadata": {},
   "outputs": [],
   "source": [
    "# createPlot(user_logged_df,\"days_missed\",\"Missing days Distribution\",\"Missing days\",\"count\")"
   ]
  },
  {
   "cell_type": "markdown",
   "metadata": {},
   "source": [
    "✔️ Missing days is right skewed (0.4). <br>\n",
    "✔️ There are no outliers in the distribution. <br>\n",
    "❌ Most of the Missing frequency is near 48 <br> \n",
    "❌ Max number of logs is 174 <br>\n",
    "✔️ Max number of logs is 1"
   ]
  },
  {
   "cell_type": "markdown",
   "metadata": {},
   "source": [
    "#### <span style=\"color:#FF7B07\"> Since the data relates to nutrition, health and exercise, <br>we need to have a separate variable for each row <br> that shows user's nutritions ratio satisfies the known dependence. If it's in accepted norm, we call it healthy distributed."
   ]
  },
  {
   "cell_type": "code",
   "execution_count": 24,
   "metadata": {},
   "outputs": [],
   "source": [
    "def getHealtyDistributedValues(value,lower,upper):\n",
    "    if(value <= lower):\n",
    "        return lower-value # the difference person lacked \n",
    "    if(value >= upper):\n",
    "        return value-upper # the difference person exceed \n",
    "    return 0 # method returns 0 for the values in range"
   ]
  },
  {
   "cell_type": "code",
   "execution_count": 25,
   "metadata": {},
   "outputs": [],
   "source": [
    "# There is known that for healthy eating, daily carbs should be between 45-65% out of callories, fats between 10-35% and proteins 20-35%\n",
    "# So this method counts daily norm distribution of person\n",
    "# 0 for the people in persmissible range\n",
    "# max value may be 1.3 (when person only took fats)\n",
    "\n",
    "def healthyDistributed(carbs,fat,protein):\n",
    "    totalCalories = fat*9+ carbs*4 + protein*4 # convert to calories (1g fat = 9 calories and etc..) and sum\n",
    "    sum =  getHealtyDistributedValues ( carbs*4 / (totalCalories+0.00000001),0.45,0.65)\n",
    "    sum += getHealtyDistributedValues ( protein*4 / (totalCalories+0.00000001),0.2,0.35)\n",
    "    sum += getHealtyDistributedValues ( fat*9 / (totalCalories+0.00000001),0.1,0.35)\n",
    "    return sum"
   ]
  },
  {
   "cell_type": "code",
   "execution_count": 26,
   "metadata": {},
   "outputs": [],
   "source": [
    "data['healtyDistrib'] = data[['total_carbs','total_fat','total_protein']].apply(lambda x: healthyDistributed(x.total_carbs,x.total_fat,x.total_protein),axis=1)"
   ]
  },
  {
   "cell_type": "code",
   "execution_count": 27,
   "metadata": {},
   "outputs": [],
   "source": [
    "# createPlot(data,\"healtyDistrib\",\"healthy Distribution\",\"value\",\"count\")"
   ]
  },
  {
   "cell_type": "markdown",
   "metadata": {},
   "source": [
    "✔️ Healthy distribution is right skewed (0.4). <br>\n",
    "❌ There are many outliers in the distribution. <br>\n",
    "✔️ Median is near a range of 0.1 <br> \n",
    "❌ Max number of values is 1.3 <br>\n",
    "✔️ Min number of values is 0"
   ]
  },
  {
   "cell_type": "markdown",
   "metadata": {},
   "source": [
    "#### <span style=\"color:#FF7B07\"> One of the algorithms which we'll implement is to predict whether each user approaches the goal in the future or not <br>so we need a variable that describes this. "
   ]
  },
  {
   "cell_type": "code",
   "execution_count": 28,
   "metadata": {},
   "outputs": [],
   "source": [
    "# this function gets all nutrition values with goals and checks if calories difference is less than percentage of goals\n",
    "# TODO:\n",
    "def check_bounds(total_calories, total_carbs, total_fat, total_protein, total_sodium, total_sugar, \n",
    "               goal_calories, goal_carbs, goal_fat, goal_protein, goal_sodium, goal_sugar,percent):\n",
    "    \n",
    "    return (abs(goal_calories - total_calories) < goal_calories * percent / 100)"
   ]
  },
  {
   "cell_type": "code",
   "execution_count": 29,
   "metadata": {},
   "outputs": [],
   "source": [
    "# this function checks last days for user and counts number of days when his nutrient was in goal range\n",
    "def reach_goal(df,user_id,num_days):\n",
    "    allowed_difference_percentage = 15\n",
    "    tails = df[df[\"user_id\"]==user_id].tail(num_days)\n",
    "    tails[\"reach_goal\"] = tails.apply(lambda row: check_bounds(*(row.values[4:16]),allowed_difference_percentage),axis=1)\n",
    "    return tails[\"reach_goal\"].sum()"
   ]
  },
  {
   "cell_type": "code",
   "execution_count": 30,
   "metadata": {},
   "outputs": [],
   "source": [
    "# create new feature which shows if user reaches goals in last days \n",
    "# and return 1 if the number of days when user reached goal is greater than threshold else 0\n",
    "# TODO:\n",
    "\n",
    "number_of_last_days = 5\n",
    "threshold = 2\n",
    "user_logged_df[\"reach_goal\"] = user_logged_df['user_id'].apply(lambda x: reach_goal(data,x,number_of_last_days))\n",
    "user_logged_df[\"reach_goal\"] = user_logged_df[\"reach_goal\"].apply(lambda x: 1 if x>=threshold else 0)"
   ]
  },
  {
   "cell_type": "code",
   "execution_count": 31,
   "metadata": {},
   "outputs": [],
   "source": [
    "# f, ax  = plt.subplots(1,2,figsize = (18,6))\n",
    "# sns.countplot(x=user_logged_df['reach_goal'],ax=ax[0],palette = 'bright',alpha=0.7)\n",
    "\n",
    "# count = user_logged_df['reach_goal'].value_counts(normalize=True)\n",
    "# count.plot.pie(autopct=\"%.2f%%\",explode = [0,0.2],ax=ax[1])\n",
    "# plt.show()"
   ]
  },
  {
   "cell_type": "markdown",
   "metadata": {},
   "source": [
    "#### <span style=\"color:#00CC00\"> As we see it, the reach_goal is twice as low, so we will need to treat the imbalance. which we can with two ways: <br> 1. Preproccess data <br> 2. Come up with appropriate metric"
   ]
  },
  {
   "cell_type": "markdown",
   "metadata": {},
   "source": [
    "#### <span style=\"color:#FF7B07\"> Each user has its goal and real received nutrient columns <br> so it is important to know the deviation between them and bring them out as a separate feature"
   ]
  },
  {
   "cell_type": "code",
   "execution_count": 32,
   "metadata": {},
   "outputs": [],
   "source": [
    "data[\"calories_diff\"] = data[\"goal_calories\"]-data[\"total_calories\"]\n",
    "data[\"carbs_diff\"] = data[\"goal_carbs\"]-data[\"total_carbs\"]\n",
    "data[\"fat_diff\"] = data[\"goal_fat\"]-data[\"total_fat\"]\n",
    "data[\"protein_diff\"] = data[\"goal_protein\"]-data[\"total_protein\"]\n",
    "data[\"sodium_diff\"] = data[\"goal_sodium\"]-data[\"total_sodium\"]\n",
    "data[\"sugar_diff\"] = data[\"goal_sugar\"]-data[\"total_sugar\"]"
   ]
  },
  {
   "cell_type": "code",
   "execution_count": 33,
   "metadata": {},
   "outputs": [
    {
     "data": {
      "text/html": [
       "<div>\n",
       "<style scoped>\n",
       "    .dataframe tbody tr th:only-of-type {\n",
       "        vertical-align: middle;\n",
       "    }\n",
       "\n",
       "    .dataframe tbody tr th {\n",
       "        vertical-align: top;\n",
       "    }\n",
       "\n",
       "    .dataframe thead th {\n",
       "        text-align: right;\n",
       "    }\n",
       "</style>\n",
       "<table border=\"1\" class=\"dataframe\">\n",
       "  <thead>\n",
       "    <tr style=\"text-align: right;\">\n",
       "      <th></th>\n",
       "      <th>col</th>\n",
       "      <th>maximum difference</th>\n",
       "    </tr>\n",
       "  </thead>\n",
       "  <tbody>\n",
       "    <tr>\n",
       "      <th>0</th>\n",
       "      <td>calories_diff</td>\n",
       "      <td>24505.0</td>\n",
       "    </tr>\n",
       "    <tr>\n",
       "      <th>1</th>\n",
       "      <td>carbs_diff</td>\n",
       "      <td>154161.0</td>\n",
       "    </tr>\n",
       "    <tr>\n",
       "      <th>2</th>\n",
       "      <td>fat_diff</td>\n",
       "      <td>38112.0</td>\n",
       "    </tr>\n",
       "    <tr>\n",
       "      <th>3</th>\n",
       "      <td>protein_diff</td>\n",
       "      <td>102921.0</td>\n",
       "    </tr>\n",
       "    <tr>\n",
       "      <th>4</th>\n",
       "      <td>sodium_diff</td>\n",
       "      <td>22433.0</td>\n",
       "    </tr>\n",
       "    <tr>\n",
       "      <th>5</th>\n",
       "      <td>sugar_diff</td>\n",
       "      <td>34997.0</td>\n",
       "    </tr>\n",
       "  </tbody>\n",
       "</table>\n",
       "</div>"
      ],
      "text/plain": [
       "             col  maximum difference\n",
       "0  calories_diff             24505.0\n",
       "1     carbs_diff            154161.0\n",
       "2       fat_diff             38112.0\n",
       "3   protein_diff            102921.0\n",
       "4    sodium_diff             22433.0\n",
       "5     sugar_diff             34997.0"
      ]
     },
     "execution_count": 33,
     "metadata": {},
     "output_type": "execute_result"
    }
   ],
   "source": [
    "pd.DataFrame([[col,data[col].max()] for col in data.columns[-6:]], columns = ['col','maximum difference'])"
   ]
  },
  {
   "cell_type": "markdown",
   "metadata": {},
   "source": [
    "# <span style=\"color:#FF7B07\"><div align=\"center\">**Data Cleaning** <a  name=\"5\"></a>"
   ]
  },
  {
   "cell_type": "markdown",
   "metadata": {},
   "source": [
    "#### <span style=\"color:#FF7B07\"> Drop applicants which have more than 3 null values "
   ]
  },
  {
   "cell_type": "code",
   "execution_count": 34,
   "metadata": {},
   "outputs": [],
   "source": [
    "cond = data.index.isin(nullColumns['index']) \n",
    "data.drop(data[cond].index, inplace = True)"
   ]
  },
  {
   "cell_type": "markdown",
   "metadata": {},
   "source": [
    "#### <span style=\"color:#FF7B07\"> Drop applicants which have 0 goal calories"
   ]
  },
  {
   "cell_type": "code",
   "execution_count": 35,
   "metadata": {},
   "outputs": [],
   "source": [
    "zeros = data[data['goal_calories']==0].index\n",
    "zeros = pd.DataFrame(zeros,columns={'index'})\n",
    "\n",
    "cond = data.index.isin(zeros['index']) \n",
    "data.drop(data[cond].index, inplace = True)"
   ]
  },
  {
   "cell_type": "code",
   "execution_count": 36,
   "metadata": {},
   "outputs": [
    {
     "name": "stdout",
     "output_type": "stream",
     "text": [
      "Examples which have zero in goal_calories :  0.0 %\n"
     ]
    }
   ],
   "source": [
    "print('Examples which have zero in goal_calories : ',(len(data[data['goal_calories']==0])/len(data))*100,'%')"
   ]
  },
  {
   "cell_type": "markdown",
   "metadata": {},
   "source": [
    "#### <span style=\"color:#FF7B07\"> Delete \"date\" \"food_ids\" and \"sequence\" columns because we no longer use them. all the information we need from them are reflected in other columns."
   ]
  },
  {
   "cell_type": "code",
   "execution_count": 37,
   "metadata": {},
   "outputs": [],
   "source": [
    "data = data.drop(columns=['date','food_ids','sequence'])"
   ]
  },
  {
   "cell_type": "code",
   "execution_count": 38,
   "metadata": {},
   "outputs": [
    {
     "data": {
      "text/html": [
       "<div>\n",
       "<style scoped>\n",
       "    .dataframe tbody tr th:only-of-type {\n",
       "        vertical-align: middle;\n",
       "    }\n",
       "\n",
       "    .dataframe tbody tr th {\n",
       "        vertical-align: top;\n",
       "    }\n",
       "\n",
       "    .dataframe thead th {\n",
       "        text-align: right;\n",
       "    }\n",
       "</style>\n",
       "<table border=\"1\" class=\"dataframe\">\n",
       "  <thead>\n",
       "    <tr style=\"text-align: right;\">\n",
       "      <th></th>\n",
       "      <th>user_id</th>\n",
       "      <th>total_calories</th>\n",
       "      <th>total_carbs</th>\n",
       "      <th>total_fat</th>\n",
       "      <th>total_protein</th>\n",
       "      <th>total_sodium</th>\n",
       "      <th>total_sugar</th>\n",
       "      <th>goal_calories</th>\n",
       "      <th>goal_carbs</th>\n",
       "      <th>goal_fat</th>\n",
       "      <th>goal_protein</th>\n",
       "      <th>goal_sodium</th>\n",
       "      <th>goal_sugar</th>\n",
       "      <th>foods_len</th>\n",
       "      <th>healtyDistrib</th>\n",
       "      <th>calories_diff</th>\n",
       "      <th>carbs_diff</th>\n",
       "      <th>fat_diff</th>\n",
       "      <th>protein_diff</th>\n",
       "      <th>sodium_diff</th>\n",
       "      <th>sugar_diff</th>\n",
       "    </tr>\n",
       "  </thead>\n",
       "  <tbody>\n",
       "    <tr>\n",
       "      <th>0</th>\n",
       "      <td>1</td>\n",
       "      <td>2430</td>\n",
       "      <td>96</td>\n",
       "      <td>37.0</td>\n",
       "      <td>50.0</td>\n",
       "      <td>855.0</td>\n",
       "      <td>63.0</td>\n",
       "      <td>1572.0</td>\n",
       "      <td>196.0</td>\n",
       "      <td>52.0</td>\n",
       "      <td>79.0</td>\n",
       "      <td>2300.0</td>\n",
       "      <td>59.0</td>\n",
       "      <td>5</td>\n",
       "      <td>0.044384</td>\n",
       "      <td>-858.0</td>\n",
       "      <td>100.0</td>\n",
       "      <td>15.0</td>\n",
       "      <td>29.0</td>\n",
       "      <td>1445.0</td>\n",
       "      <td>-4.0</td>\n",
       "    </tr>\n",
       "    <tr>\n",
       "      <th>1</th>\n",
       "      <td>1</td>\n",
       "      <td>1862</td>\n",
       "      <td>158</td>\n",
       "      <td>54.0</td>\n",
       "      <td>114.0</td>\n",
       "      <td>2215.0</td>\n",
       "      <td>100.0</td>\n",
       "      <td>1832.0</td>\n",
       "      <td>229.0</td>\n",
       "      <td>61.0</td>\n",
       "      <td>92.0</td>\n",
       "      <td>2300.0</td>\n",
       "      <td>69.0</td>\n",
       "      <td>6</td>\n",
       "      <td>0.048475</td>\n",
       "      <td>-30.0</td>\n",
       "      <td>71.0</td>\n",
       "      <td>7.0</td>\n",
       "      <td>-22.0</td>\n",
       "      <td>85.0</td>\n",
       "      <td>-31.0</td>\n",
       "    </tr>\n",
       "  </tbody>\n",
       "</table>\n",
       "</div>"
      ],
      "text/plain": [
       "   user_id  total_calories  total_carbs  total_fat  total_protein  total_sodium  total_sugar  goal_calories  goal_carbs  goal_fat  goal_protein  goal_sodium  goal_sugar  foods_len  healtyDistrib  calories_diff  carbs_diff  fat_diff  protein_diff  sodium_diff  sugar_diff\n",
       "0        1            2430           96       37.0           50.0         855.0         63.0         1572.0       196.0      52.0          79.0       2300.0        59.0          5       0.044384         -858.0       100.0      15.0          29.0       1445.0        -4.0\n",
       "1        1            1862          158       54.0          114.0        2215.0        100.0         1832.0       229.0      61.0          92.0       2300.0        69.0          6       0.048475          -30.0        71.0       7.0         -22.0         85.0       -31.0"
      ]
     },
     "execution_count": 38,
     "metadata": {},
     "output_type": "execute_result"
    }
   ],
   "source": [
    "data.head(2)"
   ]
  },
  {
   "cell_type": "code",
   "execution_count": 39,
   "metadata": {},
   "outputs": [
    {
     "data": {
      "text/html": [
       "<div>\n",
       "<style scoped>\n",
       "    .dataframe tbody tr th:only-of-type {\n",
       "        vertical-align: middle;\n",
       "    }\n",
       "\n",
       "    .dataframe tbody tr th {\n",
       "        vertical-align: top;\n",
       "    }\n",
       "\n",
       "    .dataframe thead th {\n",
       "        text-align: right;\n",
       "    }\n",
       "</style>\n",
       "<table border=\"1\" class=\"dataframe\">\n",
       "  <thead>\n",
       "    <tr style=\"text-align: right;\">\n",
       "      <th></th>\n",
       "      <th>user_id</th>\n",
       "      <th>total_calories</th>\n",
       "      <th>total_carbs</th>\n",
       "      <th>total_fat</th>\n",
       "      <th>total_protein</th>\n",
       "      <th>total_sodium</th>\n",
       "      <th>total_sugar</th>\n",
       "      <th>goal_calories</th>\n",
       "      <th>goal_carbs</th>\n",
       "      <th>goal_fat</th>\n",
       "      <th>goal_protein</th>\n",
       "      <th>goal_sodium</th>\n",
       "      <th>goal_sugar</th>\n",
       "      <th>foods_len</th>\n",
       "      <th>healtyDistrib</th>\n",
       "      <th>calories_diff</th>\n",
       "      <th>carbs_diff</th>\n",
       "      <th>fat_diff</th>\n",
       "      <th>protein_diff</th>\n",
       "      <th>sodium_diff</th>\n",
       "      <th>sugar_diff</th>\n",
       "    </tr>\n",
       "  </thead>\n",
       "  <tbody>\n",
       "    <tr>\n",
       "      <th>count</th>\n",
       "      <td>559342.000000</td>\n",
       "      <td>5.593420e+05</td>\n",
       "      <td>559342.000000</td>\n",
       "      <td>559342.000000</td>\n",
       "      <td>559342.000000</td>\n",
       "      <td>559342.000000</td>\n",
       "      <td>559342.000000</td>\n",
       "      <td>559342.000000</td>\n",
       "      <td>559342.000000</td>\n",
       "      <td>559342.000000</td>\n",
       "      <td>559337.000000</td>\n",
       "      <td>518991.000000</td>\n",
       "      <td>518721.000000</td>\n",
       "      <td>559342.000000</td>\n",
       "      <td>559342.000000</td>\n",
       "      <td>5.593420e+05</td>\n",
       "      <td>559342.000000</td>\n",
       "      <td>559342.000000</td>\n",
       "      <td>559337.000000</td>\n",
       "      <td>518991.000000</td>\n",
       "      <td>518721.000000</td>\n",
       "    </tr>\n",
       "    <tr>\n",
       "      <th>mean</th>\n",
       "      <td>4928.667091</td>\n",
       "      <td>1.422599e+03</td>\n",
       "      <td>151.995437</td>\n",
       "      <td>69.856238</td>\n",
       "      <td>92.374558</td>\n",
       "      <td>1127.923914</td>\n",
       "      <td>417.722109</td>\n",
       "      <td>1684.267588</td>\n",
       "      <td>196.849394</td>\n",
       "      <td>90.184998</td>\n",
       "      <td>157.265690</td>\n",
       "      <td>1447.188475</td>\n",
       "      <td>411.346601</td>\n",
       "      <td>11.115933</td>\n",
       "      <td>0.205344</td>\n",
       "      <td>2.616682e+02</td>\n",
       "      <td>44.853957</td>\n",
       "      <td>20.328760</td>\n",
       "      <td>64.905794</td>\n",
       "      <td>261.473945</td>\n",
       "      <td>104.938478</td>\n",
       "    </tr>\n",
       "    <tr>\n",
       "      <th>std</th>\n",
       "      <td>2848.892731</td>\n",
       "      <td>2.335828e+03</td>\n",
       "      <td>358.199193</td>\n",
       "      <td>276.120161</td>\n",
       "      <td>286.521470</td>\n",
       "      <td>2087.502459</td>\n",
       "      <td>926.315223</td>\n",
       "      <td>657.107447</td>\n",
       "      <td>356.327460</td>\n",
       "      <td>240.864632</td>\n",
       "      <td>390.084854</td>\n",
       "      <td>1166.457196</td>\n",
       "      <td>886.225766</td>\n",
       "      <td>6.295681</td>\n",
       "      <td>0.255165</td>\n",
       "      <td>2.367697e+03</td>\n",
       "      <td>440.439155</td>\n",
       "      <td>266.046059</td>\n",
       "      <td>391.353357</td>\n",
       "      <td>1454.248540</td>\n",
       "      <td>675.295769</td>\n",
       "    </tr>\n",
       "    <tr>\n",
       "      <th>min</th>\n",
       "      <td>1.000000</td>\n",
       "      <td>0.000000e+00</td>\n",
       "      <td>0.000000</td>\n",
       "      <td>0.000000</td>\n",
       "      <td>0.000000</td>\n",
       "      <td>0.000000</td>\n",
       "      <td>0.000000</td>\n",
       "      <td>1.000000</td>\n",
       "      <td>0.000000</td>\n",
       "      <td>0.000000</td>\n",
       "      <td>0.000000</td>\n",
       "      <td>0.000000</td>\n",
       "      <td>0.000000</td>\n",
       "      <td>1.000000</td>\n",
       "      <td>0.000000</td>\n",
       "      <td>-1.199500e+06</td>\n",
       "      <td>-209957.000000</td>\n",
       "      <td>-132016.000000</td>\n",
       "      <td>-114901.000000</td>\n",
       "      <td>-417776.000000</td>\n",
       "      <td>-167742.000000</td>\n",
       "    </tr>\n",
       "    <tr>\n",
       "      <th>25%</th>\n",
       "      <td>2478.000000</td>\n",
       "      <td>1.040000e+03</td>\n",
       "      <td>76.000000</td>\n",
       "      <td>29.000000</td>\n",
       "      <td>40.000000</td>\n",
       "      <td>28.000000</td>\n",
       "      <td>21.000000</td>\n",
       "      <td>1381.000000</td>\n",
       "      <td>130.000000</td>\n",
       "      <td>47.000000</td>\n",
       "      <td>70.000000</td>\n",
       "      <td>56.000000</td>\n",
       "      <td>45.000000</td>\n",
       "      <td>7.000000</td>\n",
       "      <td>0.030726</td>\n",
       "      <td>-2.800000e+01</td>\n",
       "      <td>-9.000000</td>\n",
       "      <td>-7.000000</td>\n",
       "      <td>3.000000</td>\n",
       "      <td>-10.000000</td>\n",
       "      <td>-3.000000</td>\n",
       "    </tr>\n",
       "    <tr>\n",
       "      <th>50%</th>\n",
       "      <td>4907.000000</td>\n",
       "      <td>1.403000e+03</td>\n",
       "      <td>136.000000</td>\n",
       "      <td>49.000000</td>\n",
       "      <td>66.000000</td>\n",
       "      <td>531.000000</td>\n",
       "      <td>49.000000</td>\n",
       "      <td>1658.000000</td>\n",
       "      <td>180.000000</td>\n",
       "      <td>58.000000</td>\n",
       "      <td>96.000000</td>\n",
       "      <td>2300.000000</td>\n",
       "      <td>64.000000</td>\n",
       "      <td>10.000000</td>\n",
       "      <td>0.105293</td>\n",
       "      <td>2.480000e+02</td>\n",
       "      <td>36.000000</td>\n",
       "      <td>12.000000</td>\n",
       "      <td>30.000000</td>\n",
       "      <td>31.000000</td>\n",
       "      <td>19.000000</td>\n",
       "    </tr>\n",
       "    <tr>\n",
       "      <th>75%</th>\n",
       "      <td>7412.000000</td>\n",
       "      <td>1.765000e+03</td>\n",
       "      <td>191.000000</td>\n",
       "      <td>72.000000</td>\n",
       "      <td>97.000000</td>\n",
       "      <td>1969.000000</td>\n",
       "      <td>114.000000</td>\n",
       "      <td>2000.000000</td>\n",
       "      <td>230.000000</td>\n",
       "      <td>77.000000</td>\n",
       "      <td>136.000000</td>\n",
       "      <td>2300.000000</td>\n",
       "      <td>100.000000</td>\n",
       "      <td>15.000000</td>\n",
       "      <td>0.272316</td>\n",
       "      <td>6.940000e+02</td>\n",
       "      <td>96.000000</td>\n",
       "      <td>33.000000</td>\n",
       "      <td>63.000000</td>\n",
       "      <td>817.000000</td>\n",
       "      <td>48.000000</td>\n",
       "    </tr>\n",
       "    <tr>\n",
       "      <th>max</th>\n",
       "      <td>9897.000000</td>\n",
       "      <td>1.200800e+06</td>\n",
       "      <td>210865.000000</td>\n",
       "      <td>132088.000000</td>\n",
       "      <td>114949.000000</td>\n",
       "      <td>960000.000000</td>\n",
       "      <td>168015.000000</td>\n",
       "      <td>26068.000000</td>\n",
       "      <td>154417.000000</td>\n",
       "      <td>38128.000000</td>\n",
       "      <td>102945.000000</td>\n",
       "      <td>23009.000000</td>\n",
       "      <td>35055.000000</td>\n",
       "      <td>62.000000</td>\n",
       "      <td>1.300000</td>\n",
       "      <td>2.450500e+04</td>\n",
       "      <td>154161.000000</td>\n",
       "      <td>38112.000000</td>\n",
       "      <td>102921.000000</td>\n",
       "      <td>22433.000000</td>\n",
       "      <td>34997.000000</td>\n",
       "    </tr>\n",
       "  </tbody>\n",
       "</table>\n",
       "</div>"
      ],
      "text/plain": [
       "             user_id  total_calories    total_carbs      total_fat  total_protein   total_sodium    total_sugar  goal_calories     goal_carbs       goal_fat   goal_protein    goal_sodium     goal_sugar      foods_len  healtyDistrib  calories_diff     carbs_diff       fat_diff   protein_diff    sodium_diff     sugar_diff\n",
       "count  559342.000000    5.593420e+05  559342.000000  559342.000000  559342.000000  559342.000000  559342.000000  559342.000000  559342.000000  559342.000000  559337.000000  518991.000000  518721.000000  559342.000000  559342.000000   5.593420e+05  559342.000000  559342.000000  559337.000000  518991.000000  518721.000000\n",
       "mean     4928.667091    1.422599e+03     151.995437      69.856238      92.374558    1127.923914     417.722109    1684.267588     196.849394      90.184998     157.265690    1447.188475     411.346601      11.115933       0.205344   2.616682e+02      44.853957      20.328760      64.905794     261.473945     104.938478\n",
       "std      2848.892731    2.335828e+03     358.199193     276.120161     286.521470    2087.502459     926.315223     657.107447     356.327460     240.864632     390.084854    1166.457196     886.225766       6.295681       0.255165   2.367697e+03     440.439155     266.046059     391.353357    1454.248540     675.295769\n",
       "min         1.000000    0.000000e+00       0.000000       0.000000       0.000000       0.000000       0.000000       1.000000       0.000000       0.000000       0.000000       0.000000       0.000000       1.000000       0.000000  -1.199500e+06 -209957.000000 -132016.000000 -114901.000000 -417776.000000 -167742.000000\n",
       "25%      2478.000000    1.040000e+03      76.000000      29.000000      40.000000      28.000000      21.000000    1381.000000     130.000000      47.000000      70.000000      56.000000      45.000000       7.000000       0.030726  -2.800000e+01      -9.000000      -7.000000       3.000000     -10.000000      -3.000000\n",
       "50%      4907.000000    1.403000e+03     136.000000      49.000000      66.000000     531.000000      49.000000    1658.000000     180.000000      58.000000      96.000000    2300.000000      64.000000      10.000000       0.105293   2.480000e+02      36.000000      12.000000      30.000000      31.000000      19.000000\n",
       "75%      7412.000000    1.765000e+03     191.000000      72.000000      97.000000    1969.000000     114.000000    2000.000000     230.000000      77.000000     136.000000    2300.000000     100.000000      15.000000       0.272316   6.940000e+02      96.000000      33.000000      63.000000     817.000000      48.000000\n",
       "max      9897.000000    1.200800e+06  210865.000000  132088.000000  114949.000000  960000.000000  168015.000000   26068.000000  154417.000000   38128.000000  102945.000000   23009.000000   35055.000000      62.000000       1.300000   2.450500e+04  154161.000000   38112.000000  102921.000000   22433.000000   34997.000000"
      ]
     },
     "execution_count": 39,
     "metadata": {},
     "output_type": "execute_result"
    }
   ],
   "source": [
    "data.describe()"
   ]
  },
  {
   "cell_type": "markdown",
   "metadata": {},
   "source": [
    "#### <span style=\"color:#FF7B07\"> As we mentioned before, there are outliers in our data which needs to be removed because it can mislead our analysis. To perform this, we use standard deviation method for outliers."
   ]
  },
  {
   "cell_type": "code",
   "execution_count": 40,
   "metadata": {},
   "outputs": [],
   "source": [
    "def remove_outliers_std(df, column):\n",
    "    global lower,upper\n",
    "#   calculate the mean and standard deviation of the data frame\n",
    "    data_mean, data_std = df[column].mean(), df[column].std()\n",
    "#   calculate the cutoff value\n",
    "    cut_off = data_std * 4\n",
    "#   calculate the lower and upper bound value\n",
    "    lower, upper = data_mean - cut_off, data_mean + cut_off\n",
    "#   Calculate the number of records below and above lower and above bound value respectively\n",
    "    df1 = df[df[column] > upper]\n",
    "    df2 = df[df[column] < lower]\n",
    "    df.drop(df1.index,inplace=True)"
   ]
  },
  {
   "cell_type": "code",
   "execution_count": 41,
   "metadata": {},
   "outputs": [
    {
     "name": "stdout",
     "output_type": "stream",
     "text": [
      "Percenteage of removed outliers in rows point of view 8.077526808285455\n",
      "Percenteage of removed outliers in users point of view 4.499521327518352\n"
     ]
    }
   ],
   "source": [
    "data_prev_shape = data.shape\n",
    "user_prev_shape = data['user_id'].nunique()\n",
    "\n",
    "for column in data.columns:\n",
    "    remove_outliers_std(data,column)\n",
    "    \n",
    "print(f'Percenteage of removed outliers in rows point of view {100-data.shape[0]/data_prev_shape[0]*100}')\n",
    "print(f'Percenteage of removed outliers in users point of view {100-data[\"user_id\"].nunique()/user_prev_shape*100}')"
   ]
  },
  {
   "cell_type": "markdown",
   "metadata": {},
   "source": [
    "#### <span style=\"color:#00CC00\"> removed rows percentage may appear high, but the point is that in our tasks we should concentrate on users and user's rate is acceptable."
   ]
  },
  {
   "cell_type": "markdown",
   "metadata": {},
   "source": [
    "#### <span style=\"color:#FF7B07\"> Some of the features had wide range of values so lets scale them"
   ]
  },
  {
   "cell_type": "code",
   "execution_count": null,
   "metadata": {},
   "outputs": [],
   "source": [
    "scaler = preprocessing.MinMaxScaler()\n",
    "col_df = data.columns.drop('user_id')\n",
    "col_user_logged_df = [\"logged_frequency\",\"days_missed\"]\n",
    "\n",
    "user_logged_df[col_user_logged_df] = scaler.fit_transform(user_logged_df[col_user_logged_df])\n",
    "data[col_df] = scaler.fit_transform(data[col_df])"
   ]
  },
  {
   "cell_type": "markdown",
   "metadata": {},
   "source": [
    "# <span style=\"color:#FF7B07\"><div align=\"center\">**Data Preparation** <a  name=\"6\"></a>"
   ]
  },
  {
   "cell_type": "markdown",
   "metadata": {},
   "source": [
    "#### <span style=\"color:#FF7B07\"> As we have seen all users have a different number of records and we want each user to have one characteristic in one row.<br>For this we will take a 5 day record from all users and then we will flatten it. <br> From users who had more than 5 data we will leave the last 5 days. And those who had less than 5 will be filled with -1s "
   ]
  },
  {
   "cell_type": "code",
   "execution_count": null,
   "metadata": {},
   "outputs": [],
   "source": [
    "def row_padding(x,num_row):\n",
    "    # get last row because I need same format and same id, others columns replaced by -1\n",
    "    last_row = x.iloc[-1] \n",
    "    last_row[1:] = [-1]*len(last_row[1:])\n",
    "    \n",
    "    if np.shape(x)[0] < num_row:\n",
    "        new_x = pd.DataFrame(x)\n",
    "        for i in range(np.shape(x)[0],num_row):\n",
    "            new_x = pd.DataFrame(new_x.append(last_row))\n",
    "        return new_x\n",
    "    else:\n",
    "        return x.tail(num_row)"
   ]
  },
  {
   "cell_type": "code",
   "execution_count": null,
   "metadata": {},
   "outputs": [],
   "source": [
    "# this function flattens all rows for each user which we padded already \n",
    "# so creates one vector because we need one input for each user\n",
    "def flatten_rows(x,cols):\n",
    "    for i in range(1,x.shape[0]):\n",
    "        for j in range(1,len(cols)):\n",
    "            temp_row = x.iloc[i]\n",
    "            x[cols[j]+\"_\"+str(i)] = temp_row[j]\n",
    "    return x.head(1)"
   ]
  },
  {
   "cell_type": "code",
   "execution_count": null,
   "metadata": {},
   "outputs": [],
   "source": [
    "# It may take 5 minutes \n",
    "data = data.groupby('user_id').apply(row_padding,5).reset_index(drop=True)\n",
    "\n",
    "cols = data.columns\n",
    "data = data.groupby('user_id').apply(flatten_rows,cols).reset_index(drop=True)"
   ]
  },
  {
   "cell_type": "code",
   "execution_count": null,
   "metadata": {},
   "outputs": [],
   "source": [
    "data.head(3)"
   ]
  },
  {
   "cell_type": "markdown",
   "metadata": {},
   "source": [
    "#### <span style=\"color:#FF7B07\"> merge dataframe with features which we already create "
   ]
  },
  {
   "cell_type": "code",
   "execution_count": null,
   "metadata": {},
   "outputs": [],
   "source": [
    "data = pd.merge(data, user_logged_df, on=['user_id'])"
   ]
  },
  {
   "cell_type": "markdown",
   "metadata": {},
   "source": [
    "#### <span style=\"color:#FF7B07\"> Handle missing data with KNNImputer"
   ]
  },
  {
   "cell_type": "code",
   "execution_count": null,
   "metadata": {},
   "outputs": [],
   "source": [
    "imputer = KNNImputer()\n",
    "data[data.columns] = np.round(imputer.fit_transform(data))\n",
    "data[data.columns] = np.round(imputer.fit_transform(data))"
   ]
  },
  {
   "cell_type": "code",
   "execution_count": null,
   "metadata": {},
   "outputs": [],
   "source": [
    "null_df = pd.DataFrame(data.isna().sum())\n",
    "null_df.columns = [\"Null Frequency\"]\n",
    "null_df.T"
   ]
  },
  {
   "cell_type": "markdown",
   "metadata": {},
   "source": [
    "#### <span style=\"color:#00CC00\"> As you see we don't have null values "
   ]
  },
  {
   "cell_type": "markdown",
   "metadata": {},
   "source": [
    "# <span style=\"color:#FF7B07\"> data for prediction if user reach goals"
   ]
  },
  {
   "cell_type": "code",
   "execution_count": null,
   "metadata": {},
   "outputs": [],
   "source": [
    "# choosing users which have more logs than number_of_logs\n",
    "number_of_logs = 60\n",
    "data_2 = data[data[\"logged_frequency\"]>number_of_logs]"
   ]
  },
  {
   "cell_type": "markdown",
   "metadata": {},
   "source": [
    "# <span style=\"color:#FF7B07\"> update dataframe"
   ]
  },
  {
   "cell_type": "code",
   "execution_count": null,
   "metadata": {},
   "outputs": [],
   "source": [
    "data.to_csv(r'myFitnessPal_parsed.csv',index = False)"
   ]
  },
  {
   "cell_type": "code",
   "execution_count": null,
   "metadata": {},
   "outputs": [],
   "source": []
  }
 ],
 "metadata": {
  "kernelspec": {
   "display_name": "Python 3",
   "language": "python",
   "name": "python3"
  },
  "language_info": {
   "codemirror_mode": {
    "name": "ipython",
    "version": 3
   },
   "file_extension": ".py",
   "mimetype": "text/x-python",
   "name": "python",
   "nbconvert_exporter": "python",
   "pygments_lexer": "ipython3",
   "version": "3.8.5"
  }
 },
 "nbformat": 4,
 "nbformat_minor": 4
}
