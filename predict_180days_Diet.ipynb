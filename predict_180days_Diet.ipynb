{
 "cells": [
  {
   "cell_type": "markdown",
   "metadata": {
    "id": "jxsbMqBx7wy9"
   },
   "source": [
    "#### <span style=\"color:#AD07FF\"> This notebook creates prediction about is user on 180 days program or not. It's important becouse we can detect people who is going to use app at least 180 days and it's really great information"
   ]
  },
  {
   "cell_type": "code",
   "execution_count": 1,
   "metadata": {
    "colab": {
     "base_uri": "https://localhost:8080/"
    },
    "id": "XEiabK-yVL_C",
    "outputId": "2ddd6665-055a-4faa-ec05-5d7294c808e9"
   },
   "outputs": [],
   "source": [
    "from imblearn.over_sampling import SMOTE\n",
    "import matplotlib.pyplot as plt\n",
    "import numpy as np\n",
    "import pandas as pd\n",
    "from plotly.subplots import make_subplots\n",
    "import seaborn as sns\n",
    "from sklearn.model_selection import train_test_split, KFold\n",
    "from sklearn.linear_model import LinearRegression\n",
    "from sklearn.metrics import f1_score,precision_score,recall_score,accuracy_score,mean_squared_error, r2_score\n",
    "from sklearn.metrics import classification_report,confusion_matrix\n",
    "from sklearn.tree import DecisionTreeClassifier,DecisionTreeRegressor\n",
    "\n",
    "%matplotlib inline"
   ]
  },
  {
   "cell_type": "code",
   "execution_count": 2,
   "metadata": {
    "id": "K0BA_3DWVL_D"
   },
   "outputs": [],
   "source": [
    "# The data is large and this command will help us to see the whole result \n",
    "pd.set_option('display.max_rows', 500)\n",
    "pd.set_option('display.max_columns', 500)\n",
    "pd.set_option('display.width', 1000)"
   ]
  },
  {
   "cell_type": "code",
   "execution_count": 3,
   "metadata": {
    "id": "xh5fPED8VL_D"
   },
   "outputs": [],
   "source": [
    "data = pd.read_csv('../data/data_for_predict_180days_diet.csv')"
   ]
  },
  {
   "cell_type": "code",
   "execution_count": 4,
   "metadata": {
    "colab": {
     "base_uri": "https://localhost:8080/"
    },
    "id": "vAoLuhwIF-oY",
    "outputId": "a03a6d04-f282-479b-ccbc-68876c654b2f"
   },
   "outputs": [
    {
     "data": {
      "text/plain": [
       "0.0    2219\n",
       "1.0    1524\n",
       "Name: is_180_diet, dtype: int64"
      ]
     },
     "execution_count": 4,
     "metadata": {},
     "output_type": "execute_result"
    }
   ],
   "source": [
    "data[\"is_180_diet\"].value_counts()"
   ]
  },
  {
   "cell_type": "markdown",
   "metadata": {
    "id": "OLAnbrwZEJ8r"
   },
   "source": [
    "#### <span style=\"color:#00CC00\"> As you can see, the people who were on 180 day program are twice less than the people who were not."
   ]
  },
  {
   "cell_type": "markdown",
   "metadata": {
    "id": "aMbOOXWbEew8"
   },
   "source": [
    "#### <span style=\"color:#FF7B07\"> Let's drop unused columns becouse if we won't do this, there will be approximately 200 features ! :) <br>  First of all, our new features containing \"diff\" consists both \"goal\" and \"total \" becouse it's their difference and I think in my algorithm differences between total and goal are more important then these columns itself. So I'm gonna drop them ."
   ]
  },
  {
   "cell_type": "code",
   "execution_count": 5,
   "metadata": {
    "id": "KnhDrbZbVL_E"
   },
   "outputs": [],
   "source": [
    "col1 = list(filter(lambda x:   (\"goal\" in x) or (\"total\" in x)  or (\"sugar\" in x), data.columns))\n",
    "X = data.drop(columns=['is_180_diet','logged_frequency','user_id','days_missed'])\n",
    "X = X.drop(columns=col1)\n",
    "y = data['is_180_diet']"
   ]
  },
  {
   "cell_type": "markdown",
   "metadata": {
    "id": "cDwPzhVaEm-k"
   },
   "source": [
    "#### <span style=\"color:#00CC00\"> Look's Like our data needs to be balanced . <br>So let's do this with smote"
   ]
  },
  {
   "cell_type": "code",
   "execution_count": 6,
   "metadata": {
    "id": "h2RAAHJaU1uB"
   },
   "outputs": [],
   "source": [
    "def prepare_data(X,y,columnsTobeDropped):\n",
    "    if(columnsTobeDropped):\n",
    "        X = X.drop(columns=columnsTobeDropped)\n",
    "    X_train, X_test,y_train,y_test = train_test_split(X, y, test_size=0.2, random_state = 42)\n",
    "    sm = SMOTE(random_state=42)\n",
    "    X_train_s,y_train_s =sm.fit_sample(X_train,y_train)\n",
    "    X_test_s,y_test_s =sm.fit_sample(X_test,y_test)\n",
    "    return X_train_s, y_train_s, X_test_s,y_test_s"
   ]
  },
  {
   "cell_type": "code",
   "execution_count": 7,
   "metadata": {
    "id": "w6An5dUkVL_H"
   },
   "outputs": [],
   "source": [
    "def classification_metrics(yTrueTrain,yPredictTrain,yTrueTest,yPredictTest,heatmap=False)->None:\n",
    "    \"\"\"\n",
    "    this function prints accuracy, precision, recall, F1 scre \n",
    "    and create confusion matrix  heatmap for both train and test sets\n",
    "    \n",
    "    Arguments:\n",
    "    yTrueTrain -- the true value of prediction from the train set\n",
    "    yPredictTrain -- predicted value from the train set\n",
    "    yTrueTest -- he true value of prediction from the test set\n",
    "    yPredictTest -- predicted value from the test set\n",
    "    heatmap -- boolean which tells us if plot heatmap or not\n",
    "    \n",
    "    Returns:\n",
    "    None\n",
    "    \"\"\"\n",
    "    print(\"train data:\\t  \"+ \"\\t\"*6+ \"test data:\\t\\n\")\n",
    "    print((\"accuracy:\\t {0} \"+ \"\\t\"*6+ \"accuracy:\\t {1}\").format(accuracy_score(yTrueTrain, yPredictTrain).round(2), \n",
    "                                                                 accuracy_score(yTrueTest, yPredictTest).round(2)))\n",
    "          \n",
    "    print((\"precision:\\t {0} \"+ \"\\t\"*6+ \"precision:\\t {1}\").format(precision_score(yTrueTrain, yPredictTrain).round(2), \n",
    "                                                                   precision_score(yTrueTest, yPredictTest).round(2)))\n",
    "    \n",
    "    print((\"recall:\\t\\t {0} \"+ \"\\t\"*6+ \"recall:\\t\\t {1}\").format(recall_score(yTrueTrain, yPredictTrain).round(2), \n",
    "                                                                 recall_score(yTrueTest, yPredictTest).round(2)))\n",
    "    \n",
    "    print((\"F1:\\t\\t {0} \"+ \"\\t\"*6+ \"F1:\\t\\t {1}\").format(f1_score(yTrueTrain, yPredictTrain).round(2), \n",
    "                                                         f1_score(yTrueTest, yPredictTest).round(2)))\n",
    "    if(heatmap):\n",
    "        f, ax  = plt.subplots(1,2,figsize = (18,6))\n",
    "        sns.heatmap(confusion_matrix(yTrueTrain,yPredictTrain),cmap='coolwarm',annot=True,ax=ax[0])\n",
    "        sns.heatmap(confusion_matrix(yTrueTest,yPredictTest),cmap='coolwarm',annot=True,ax=ax[1])\n",
    "        plt.tight_layout(rect=[0, 0.03, 1, 0.95])\n",
    "        plt.show()"
   ]
  },
  {
   "cell_type": "code",
   "execution_count": 8,
   "metadata": {
    "id": "OnIIBQ1Kq0di"
   },
   "outputs": [],
   "source": [
    "def depthChecker(columnsTobeDropped,X,y):\n",
    "    X_train, y_train, X_test,y_test =prepare_data(X,y,columnsTobeDropped);\n",
    "    cv = KFold(n_splits=10,shuffle = True,random_state=42)\n",
    "    accuracies = list()\n",
    "    depth_range = range(1, 10)\n",
    "    # Testing max_depths from 1 to 10\n",
    "    for depth in depth_range:\n",
    "        fold_accuracy = []\n",
    "        tree_model = DecisionTreeClassifier(max_depth = depth,random_state = 42)\n",
    "        for train_fold, valid_fold in cv.split(X_train):\n",
    "            f_train_x = X_train[train_fold] \n",
    "            f_train_y = y_train[train_fold]\n",
    "          \n",
    "            f_valid_x = X_train[valid_fold]\n",
    "            f_valid_y = y_train[valid_fold]\n",
    "\n",
    "            model = tree_model.fit(X = f_train_x,y = f_train_y) # We fit the model with the fold train data\n",
    "            valid_acc = model.score(X = f_valid_x,y = f_valid_y) # We calculate accuracy with the fold validation data\n",
    "            fold_accuracy.append(valid_acc)\n",
    "        avg = sum(fold_accuracy)/len(fold_accuracy)\n",
    "        accuracies.append(avg)\n",
    "      \n",
    "    # Just to show results conveniently\n",
    "    df = pd.DataFrame({\"Max Depth\": depth_range, \"Average Accuracy\": accuracies})\n",
    "    df = df[[\"Max Depth\", \"Average Accuracy\"]]\n",
    "    print(df.to_string(index=False))"
   ]
  },
  {
   "cell_type": "code",
   "execution_count": 9,
   "metadata": {
    "colab": {
     "base_uri": "https://localhost:8080/",
     "height": 601
    },
    "id": "vZE-io92qvWx",
    "outputId": "0c981443-3a38-4a66-e083-06654b37597e"
   },
   "outputs": [
    {
     "name": "stdout",
     "output_type": "stream",
     "text": [
      "train data:\t  \t\t\t\t\t\ttest data:\t\n",
      "\n",
      "accuracy:\t 0.68 \t\t\t\t\t\taccuracy:\t 0.67\n",
      "precision:\t 0.67 \t\t\t\t\t\tprecision:\t 0.66\n",
      "recall:\t\t 0.73 \t\t\t\t\t\trecall:\t\t 0.71\n",
      "F1:\t\t 0.7 \t\t\t\t\t\tF1:\t\t 0.68\n"
     ]
    },
    {
     "data": {
      "image/png": "[encoded data removed]",
      "text/plain": [
       "<Figure size 1296x432 with 4 Axes>"
      ]
     },
     "metadata": {
      "needs_background": "light"
     },
     "output_type": "display_data"
    }
   ],
   "source": [
    "X_train, y_train, X_test,y_test =prepare_data(X,y,{})\n",
    "decision_tree = DecisionTreeClassifier(max_depth=3,random_state=42)\n",
    "decision_tree.fit(X_train, y_train)\n",
    "\n",
    "# Predicting results for test dataset\n",
    "y_pred_train = decision_tree.predict(X_train)\n",
    "y_pred_test = decision_tree.predict(X_test)\n",
    "classification_metrics(y_train,y_pred_train,y_test,y_pred_test,True)"
   ]
  },
  {
   "cell_type": "markdown",
   "metadata": {
    "id": "zdu6qSYuBKa5"
   },
   "source": [
    "#### <span style=\"color:#FF7B07\"> In the previous algorithm (predict reach goal) we saw with pca that the perfect quantity of columns is approximateli 10-15.<br> So I'm gonna follow this idea and I'm gonna drop some days and let's see if we'll improve our acc"
   ]
  },
  {
   "cell_type": "code",
   "execution_count": 10,
   "metadata": {
    "colab": {
     "base_uri": "https://localhost:8080/",
     "height": 601
    },
    "id": "KBeBxnBlCA4b",
    "outputId": "25923899-876b-4e8f-9ee9-8e63c805c961"
   },
   "outputs": [
    {
     "name": "stdout",
     "output_type": "stream",
     "text": [
      "train data:\t  \t\t\t\t\t\ttest data:\t\n",
      "\n",
      "accuracy:\t 0.67 \t\t\t\t\t\taccuracy:\t 0.7\n",
      "precision:\t 0.68 \t\t\t\t\t\tprecision:\t 0.7\n",
      "recall:\t\t 0.67 \t\t\t\t\t\trecall:\t\t 0.72\n",
      "F1:\t\t 0.67 \t\t\t\t\t\tF1:\t\t 0.71\n"
     ]
    },
    {
     "data": {
      "image/png": "[encoded data removed]",
      "text/plain": [
       "<Figure size 1296x432 with 4 Axes>"
      ]
     },
     "metadata": {
      "needs_background": "light"
     },
     "output_type": "display_data"
    }
   ],
   "source": [
    "col2= list(filter(lambda x:   (\"_2\" in x ) or (\"_3\" in x) or (\"_4\" in x) or (\"_5\" in x) or (\"_6\" in x) or (\"_7\" in x) or (\"_8\" in x) ,X.columns))\n",
    "X_train, y_train, X_test,y_test =prepare_data(X,y,col2)\n",
    "decision_tree = DecisionTreeClassifier(max_depth=3,random_state=42)\n",
    "decision_tree.fit(X_train, y_train)\n",
    "\n",
    "# Predicting results for test dataset\n",
    "y_pred_train = decision_tree.predict(X_train)\n",
    "y_pred_test = decision_tree.predict(X_test)\n",
    "classification_metrics(y_train,y_pred_train,y_test,y_pred_test,True)"
   ]
  },
  {
   "cell_type": "code",
   "execution_count": 11,
   "metadata": {
    "colab": {
     "base_uri": "https://localhost:8080/"
    },
    "id": "ReaiZfvCpCSg",
    "outputId": "c1abd56b-63fe-4501-be2f-6cd5acc366b9"
   },
   "outputs": [
    {
     "data": {
      "text/html": [
       "<div>\n",
       "<style scoped>\n",
       "    .dataframe tbody tr th:only-of-type {\n",
       "        vertical-align: middle;\n",
       "    }\n",
       "\n",
       "    .dataframe tbody tr th {\n",
       "        vertical-align: top;\n",
       "    }\n",
       "\n",
       "    .dataframe thead th {\n",
       "        text-align: right;\n",
       "    }\n",
       "</style>\n",
       "<table border=\"1\" class=\"dataframe\">\n",
       "  <thead>\n",
       "    <tr style=\"text-align: right;\">\n",
       "      <th></th>\n",
       "      <th>feature</th>\n",
       "      <th>importance</th>\n",
       "    </tr>\n",
       "  </thead>\n",
       "  <tbody>\n",
       "    <tr>\n",
       "      <th>14</th>\n",
       "      <td>foods_len_9</td>\n",
       "      <td>0.126784</td>\n",
       "    </tr>\n",
       "    <tr>\n",
       "      <th>1</th>\n",
       "      <td>healtyDistrib</td>\n",
       "      <td>0.069655</td>\n",
       "    </tr>\n",
       "    <tr>\n",
       "      <th>3</th>\n",
       "      <td>carbs_diff</td>\n",
       "      <td>0.068995</td>\n",
       "    </tr>\n",
       "    <tr>\n",
       "      <th>2</th>\n",
       "      <td>calories_diff</td>\n",
       "      <td>0.065760</td>\n",
       "    </tr>\n",
       "    <tr>\n",
       "      <th>6</th>\n",
       "      <td>sodium_diff</td>\n",
       "      <td>0.061724</td>\n",
       "    </tr>\n",
       "    <tr>\n",
       "      <th>4</th>\n",
       "      <td>fat_diff</td>\n",
       "      <td>0.061650</td>\n",
       "    </tr>\n",
       "    <tr>\n",
       "      <th>5</th>\n",
       "      <td>protein_diff</td>\n",
       "      <td>0.051339</td>\n",
       "    </tr>\n",
       "    <tr>\n",
       "      <th>0</th>\n",
       "      <td>foods_len</td>\n",
       "      <td>0.047744</td>\n",
       "    </tr>\n",
       "    <tr>\n",
       "      <th>20</th>\n",
       "      <td>sodium_diff_9</td>\n",
       "      <td>0.045123</td>\n",
       "    </tr>\n",
       "    <tr>\n",
       "      <th>7</th>\n",
       "      <td>foods_len_1</td>\n",
       "      <td>0.042863</td>\n",
       "    </tr>\n",
       "    <tr>\n",
       "      <th>11</th>\n",
       "      <td>fat_diff_1</td>\n",
       "      <td>0.039409</td>\n",
       "    </tr>\n",
       "    <tr>\n",
       "      <th>17</th>\n",
       "      <td>carbs_diff_9</td>\n",
       "      <td>0.038629</td>\n",
       "    </tr>\n",
       "    <tr>\n",
       "      <th>8</th>\n",
       "      <td>healtyDistrib_1</td>\n",
       "      <td>0.036967</td>\n",
       "    </tr>\n",
       "    <tr>\n",
       "      <th>12</th>\n",
       "      <td>protein_diff_1</td>\n",
       "      <td>0.035688</td>\n",
       "    </tr>\n",
       "    <tr>\n",
       "      <th>10</th>\n",
       "      <td>carbs_diff_1</td>\n",
       "      <td>0.031636</td>\n",
       "    </tr>\n",
       "    <tr>\n",
       "      <th>13</th>\n",
       "      <td>sodium_diff_1</td>\n",
       "      <td>0.030746</td>\n",
       "    </tr>\n",
       "    <tr>\n",
       "      <th>16</th>\n",
       "      <td>calories_diff_9</td>\n",
       "      <td>0.026692</td>\n",
       "    </tr>\n",
       "    <tr>\n",
       "      <th>15</th>\n",
       "      <td>healtyDistrib_9</td>\n",
       "      <td>0.026580</td>\n",
       "    </tr>\n",
       "    <tr>\n",
       "      <th>21</th>\n",
       "      <td>start_date</td>\n",
       "      <td>0.024649</td>\n",
       "    </tr>\n",
       "    <tr>\n",
       "      <th>9</th>\n",
       "      <td>calories_diff_1</td>\n",
       "      <td>0.022632</td>\n",
       "    </tr>\n",
       "    <tr>\n",
       "      <th>18</th>\n",
       "      <td>fat_diff_9</td>\n",
       "      <td>0.022383</td>\n",
       "    </tr>\n",
       "    <tr>\n",
       "      <th>19</th>\n",
       "      <td>protein_diff_9</td>\n",
       "      <td>0.012583</td>\n",
       "    </tr>\n",
       "    <tr>\n",
       "      <th>22</th>\n",
       "      <td>FoodGroup</td>\n",
       "      <td>0.009769</td>\n",
       "    </tr>\n",
       "  </tbody>\n",
       "</table>\n",
       "</div>"
      ],
      "text/plain": [
       "            feature  importance\n",
       "14      foods_len_9    0.126784\n",
       "1     healtyDistrib    0.069655\n",
       "3        carbs_diff    0.068995\n",
       "2     calories_diff    0.065760\n",
       "6       sodium_diff    0.061724\n",
       "4          fat_diff    0.061650\n",
       "5      protein_diff    0.051339\n",
       "0         foods_len    0.047744\n",
       "20    sodium_diff_9    0.045123\n",
       "7       foods_len_1    0.042863\n",
       "11       fat_diff_1    0.039409\n",
       "17     carbs_diff_9    0.038629\n",
       "8   healtyDistrib_1    0.036967\n",
       "12   protein_diff_1    0.035688\n",
       "10     carbs_diff_1    0.031636\n",
       "13    sodium_diff_1    0.030746\n",
       "16  calories_diff_9    0.026692\n",
       "15  healtyDistrib_9    0.026580\n",
       "21       start_date    0.024649\n",
       "9   calories_diff_1    0.022632\n",
       "18       fat_diff_9    0.022383\n",
       "19   protein_diff_9    0.012583\n",
       "22        FoodGroup    0.009769"
      ]
     },
     "execution_count": 11,
     "metadata": {},
     "output_type": "execute_result"
    }
   ],
   "source": [
    "model = DecisionTreeRegressor()\n",
    "col2= list(filter(lambda x:   (\"_2\" in x ) or (\"_3\" in x) or (\"_4\" in x) or (\"_5\" in x) or (\"_6\" in x) or (\"_7\" in x) or (\"_8\" in x) ,X.columns))\n",
    "X_train, y_train, X_test,y_test =prepare_data(X,y,col2)\n",
    "model.fit(X_train, y_train)\n",
    "importance = model.feature_importances_\n",
    "importance_df = pd.DataFrame(columns=['feature','importance'])\n",
    "importance_df['feature'] = X.drop(columns=col2).columns\n",
    "importance_df['importance'] = importance\n",
    "importance_df.sort_values(by=['importance'],ascending = False)"
   ]
  },
  {
   "cell_type": "code",
   "execution_count": 12,
   "metadata": {
    "colab": {
     "base_uri": "https://localhost:8080/",
     "height": 634
    },
    "id": "4_tAw3cHkkkA",
    "outputId": "af035c01-bd4f-4c31-e1fc-1f8e90e65ba2"
   },
   "outputs": [
    {
     "name": "stderr",
     "output_type": "stream",
     "text": [
      "C:\\Users\\Raffael Kalandadze\\anaconda3\\lib\\site-packages\\sklearn\\linear_model\\_logistic.py:762: ConvergenceWarning: lbfgs failed to converge (status=1):\n",
      "STOP: TOTAL NO. of ITERATIONS REACHED LIMIT.\n",
      "\n",
      "Increase the number of iterations (max_iter) or scale the data as shown in:\n",
      "    https://scikit-learn.org/stable/modules/preprocessing.html\n",
      "Please also refer to the documentation for alternative solver options:\n",
      "    https://scikit-learn.org/stable/modules/linear_model.html#logistic-regression\n",
      "  n_iter_i = _check_optimize_result(\n"
     ]
    },
    {
     "name": "stdout",
     "output_type": "stream",
     "text": [
      "train data:\t  \t\t\t\t\t\ttest data:\t\n",
      "\n",
      "accuracy:\t 0.66 \t\t\t\t\t\taccuracy:\t 0.69\n",
      "precision:\t 0.66 \t\t\t\t\t\tprecision:\t 0.68\n",
      "recall:\t\t 0.68 \t\t\t\t\t\trecall:\t\t 0.72\n",
      "F1:\t\t 0.67 \t\t\t\t\t\tF1:\t\t 0.7\n"
     ]
    },
    {
     "data": {
      "image/png": "[encoded data removed]",
      "text/plain": [
       "<Figure size 1296x432 with 4 Axes>"
      ]
     },
     "metadata": {
      "needs_background": "light"
     },
     "output_type": "display_data"
    }
   ],
   "source": [
    "from sklearn.linear_model import LogisticRegression\n",
    "clf = LogisticRegression(random_state=0).fit(X_train, y_train)\n",
    "classification_metrics(y_train,clf.predict(X_train),y_test,clf.predict(X_test),True)"
   ]
  },
  {
   "cell_type": "markdown",
   "metadata": {
    "id": "5J2HvF0pCcSb"
   },
   "source": [
    "#### <span style=\"color:#00CC00\"> As we see without unused days, we improved our accuracy !<br>Let's check how another algorithms behave with our data :) "
   ]
  },
  {
   "cell_type": "code",
   "execution_count": 14,
   "metadata": {
    "colab": {
     "base_uri": "https://localhost:8080/"
    },
    "id": "Rs7l9Hywn_Vb",
    "outputId": "17608648-51be-44e4-a1ca-648d1b66a6c6"
   },
   "outputs": [
    {
     "data": {
      "text/plain": [
       "SVC()"
      ]
     },
     "execution_count": 14,
     "metadata": {},
     "output_type": "execute_result"
    }
   ],
   "source": [
    "from sklearn.svm import SVC\n",
    "svclassifier = SVC(kernel='rbf')\n",
    "svclassifier.fit(X_train, y_train)"
   ]
  },
  {
   "cell_type": "code",
   "execution_count": 15,
   "metadata": {
    "colab": {
     "base_uri": "https://localhost:8080/",
     "height": 466
    },
    "id": "hootvWJ0mOgC",
    "outputId": "e5dbc7b7-0a32-474b-9c78-504cfaed6641"
   },
   "outputs": [
    {
     "name": "stdout",
     "output_type": "stream",
     "text": [
      "train data:\t  \t\t\t\t\t\ttest data:\t\n",
      "\n",
      "accuracy:\t 0.65 \t\t\t\t\t\taccuracy:\t 0.7\n",
      "precision:\t 0.65 \t\t\t\t\t\tprecision:\t 0.69\n",
      "recall:\t\t 0.67 \t\t\t\t\t\trecall:\t\t 0.73\n",
      "F1:\t\t 0.66 \t\t\t\t\t\tF1:\t\t 0.71\n"
     ]
    },
    {
     "data": {
      "image/png": "[encoded data removed]",
      "text/plain": [
       "<Figure size 1296x432 with 4 Axes>"
      ]
     },
     "metadata": {
      "needs_background": "light"
     },
     "output_type": "display_data"
    }
   ],
   "source": [
    "classification_metrics(y_train,svclassifier.predict(X_train),y_test,svclassifier.predict(X_test),True)"
   ]
  },
  {
   "cell_type": "markdown",
   "metadata": {
    "id": "v3UNucbSy4Md"
   },
   "source": [
    "#### <span style=\"color:#FF7B07\"> Let's see which params to use for SVM"
   ]
  },
  {
   "cell_type": "code",
   "execution_count": 16,
   "metadata": {
    "id": "CxTLioaoolpI"
   },
   "outputs": [
    {
     "name": "stdout",
     "output_type": "stream",
     "text": [
      "Fitting 5 folds for each of 6 candidates, totalling 30 fits\n",
      "[CV] C=10, gamma=1, kernel=linear ....................................\n"
     ]
    },
    {
     "name": "stderr",
     "output_type": "stream",
     "text": [
      "[Parallel(n_jobs=1)]: Using backend SequentialBackend with 1 concurrent workers.\n"
     ]
    },
    {
     "name": "stdout",
     "output_type": "stream",
     "text": [
      "[CV] ........ C=10, gamma=1, kernel=linear, score=0.643, total=   2.6s\n",
      "[CV] C=10, gamma=1, kernel=linear ....................................\n"
     ]
    },
    {
     "name": "stderr",
     "output_type": "stream",
     "text": [
      "[Parallel(n_jobs=1)]: Done   1 out of   1 | elapsed:    2.5s remaining:    0.0s\n"
     ]
    },
    {
     "name": "stdout",
     "output_type": "stream",
     "text": [
      "[CV] ........ C=10, gamma=1, kernel=linear, score=0.660, total=   1.4s\n",
      "[CV] C=10, gamma=1, kernel=linear ....................................\n"
     ]
    },
    {
     "name": "stderr",
     "output_type": "stream",
     "text": [
      "[Parallel(n_jobs=1)]: Done   2 out of   2 | elapsed:    3.9s remaining:    0.0s\n"
     ]
    },
    {
     "name": "stdout",
     "output_type": "stream",
     "text": [
      "[CV] ........ C=10, gamma=1, kernel=linear, score=0.654, total=   1.5s\n",
      "[CV] C=10, gamma=1, kernel=linear ....................................\n",
      "[CV] ........ C=10, gamma=1, kernel=linear, score=0.670, total=   1.6s\n",
      "[CV] C=10, gamma=1, kernel=linear ....................................\n",
      "[CV] ........ C=10, gamma=1, kernel=linear, score=0.638, total=   1.9s\n",
      "[CV] C=10, gamma=0.1, kernel=linear ..................................\n",
      "[CV] ...... C=10, gamma=0.1, kernel=linear, score=0.643, total=   2.6s\n",
      "[CV] C=10, gamma=0.1, kernel=linear ..................................\n",
      "[CV] ...... C=10, gamma=0.1, kernel=linear, score=0.660, total=   1.5s\n",
      "[CV] C=10, gamma=0.1, kernel=linear ..................................\n",
      "[CV] ...... C=10, gamma=0.1, kernel=linear, score=0.654, total=   1.5s\n",
      "[CV] C=10, gamma=0.1, kernel=linear ..................................\n",
      "[CV] ...... C=10, gamma=0.1, kernel=linear, score=0.670, total=   1.6s\n",
      "[CV] C=10, gamma=0.1, kernel=linear ..................................\n",
      "[CV] ...... C=10, gamma=0.1, kernel=linear, score=0.638, total=   1.9s\n",
      "[CV] C=10, gamma=0.01, kernel=linear .................................\n",
      "[CV] ..... C=10, gamma=0.01, kernel=linear, score=0.643, total=   2.6s\n",
      "[CV] C=10, gamma=0.01, kernel=linear .................................\n",
      "[CV] ..... C=10, gamma=0.01, kernel=linear, score=0.660, total=   1.4s\n",
      "[CV] C=10, gamma=0.01, kernel=linear .................................\n",
      "[CV] ..... C=10, gamma=0.01, kernel=linear, score=0.654, total=   1.5s\n",
      "[CV] C=10, gamma=0.01, kernel=linear .................................\n",
      "[CV] ..... C=10, gamma=0.01, kernel=linear, score=0.670, total=   1.7s\n",
      "[CV] C=10, gamma=0.01, kernel=linear .................................\n",
      "[CV] ..... C=10, gamma=0.01, kernel=linear, score=0.638, total=   2.1s\n",
      "[CV] C=100, gamma=1, kernel=linear ...................................\n",
      "[CV] ....... C=100, gamma=1, kernel=linear, score=0.643, total=  14.0s\n",
      "[CV] C=100, gamma=1, kernel=linear ...................................\n",
      "[CV] ....... C=100, gamma=1, kernel=linear, score=0.660, total=   8.8s\n",
      "[CV] C=100, gamma=1, kernel=linear ...................................\n",
      "[CV] ....... C=100, gamma=1, kernel=linear, score=0.654, total=  14.8s\n",
      "[CV] C=100, gamma=1, kernel=linear ...................................\n",
      "[CV] ....... C=100, gamma=1, kernel=linear, score=0.670, total=  10.7s\n",
      "[CV] C=100, gamma=1, kernel=linear ...................................\n",
      "[CV] ....... C=100, gamma=1, kernel=linear, score=0.638, total=  13.8s\n",
      "[CV] C=100, gamma=0.1, kernel=linear .................................\n",
      "[CV] ..... C=100, gamma=0.1, kernel=linear, score=0.643, total=  13.3s\n",
      "[CV] C=100, gamma=0.1, kernel=linear .................................\n",
      "[CV] ..... C=100, gamma=0.1, kernel=linear, score=0.660, total=   8.9s\n",
      "[CV] C=100, gamma=0.1, kernel=linear .................................\n",
      "[CV] ..... C=100, gamma=0.1, kernel=linear, score=0.654, total=   9.1s\n",
      "[CV] C=100, gamma=0.1, kernel=linear .................................\n",
      "[CV] ..... C=100, gamma=0.1, kernel=linear, score=0.670, total=  10.2s\n",
      "[CV] C=100, gamma=0.1, kernel=linear .................................\n",
      "[CV] ..... C=100, gamma=0.1, kernel=linear, score=0.638, total=  11.7s\n",
      "[CV] C=100, gamma=0.01, kernel=linear ................................\n",
      "[CV] .... C=100, gamma=0.01, kernel=linear, score=0.643, total=  12.6s\n",
      "[CV] C=100, gamma=0.01, kernel=linear ................................\n",
      "[CV] .... C=100, gamma=0.01, kernel=linear, score=0.660, total=   7.9s\n",
      "[CV] C=100, gamma=0.01, kernel=linear ................................\n",
      "[CV] .... C=100, gamma=0.01, kernel=linear, score=0.654, total=   8.8s\n",
      "[CV] C=100, gamma=0.01, kernel=linear ................................\n",
      "[CV] .... C=100, gamma=0.01, kernel=linear, score=0.670, total=  11.6s\n",
      "[CV] C=100, gamma=0.01, kernel=linear ................................\n",
      "[CV] .... C=100, gamma=0.01, kernel=linear, score=0.638, total=  15.6s\n"
     ]
    },
    {
     "name": "stderr",
     "output_type": "stream",
     "text": [
      "[Parallel(n_jobs=1)]: Done  30 out of  30 | elapsed:  3.3min finished\n"
     ]
    },
    {
     "data": {
      "text/plain": [
       "GridSearchCV(estimator=SVC(),\n",
       "             param_grid={'C': [10, 100], 'gamma': [1, 0.1, 0.01],\n",
       "                         'kernel': ['linear']},\n",
       "             verbose=3)"
      ]
     },
     "execution_count": 16,
     "metadata": {},
     "output_type": "execute_result"
    }
   ],
   "source": [
    "from sklearn.model_selection import GridSearchCV \n",
    "# defining parameter range \n",
    "param_grid = {'C': [10, 100],  \n",
    "              'gamma': [1, 0.1, 0.01], \n",
    "              'kernel': ['linear']}  \n",
    "  \n",
    "grid = GridSearchCV(SVC(), param_grid, refit = True, verbose = 3) \n",
    "  \n",
    "# fitting the model for grid search \n",
    "grid.fit(X_train, y_train) "
   ]
  },
  {
   "cell_type": "code",
   "execution_count": 17,
   "metadata": {
    "colab": {
     "base_uri": "https://localhost:8080/"
    },
    "id": "ho2SpfXbs3W_",
    "outputId": "b4037061-4286-4ba2-d116-4976d5c8cb1e"
   },
   "outputs": [
    {
     "data": {
      "text/plain": [
       "SVC(C=10, gamma=1, kernel='linear')"
      ]
     },
     "execution_count": 17,
     "metadata": {},
     "output_type": "execute_result"
    }
   ],
   "source": [
    "from sklearn.svm import SVC\n",
    "svclassifier = SVC(kernel='linear',gamma=1,C=10)\n",
    "svclassifier.fit(X_train, y_train)"
   ]
  },
  {
   "cell_type": "code",
   "execution_count": 18,
   "metadata": {
    "colab": {
     "base_uri": "https://localhost:8080/",
     "height": 466
    },
    "id": "eoKzpBVLs9xW",
    "outputId": "89d64a05-4a67-470c-9cb1-d1a7944bee52"
   },
   "outputs": [
    {
     "name": "stdout",
     "output_type": "stream",
     "text": [
      "train data:\t  \t\t\t\t\t\ttest data:\t\n",
      "\n",
      "accuracy:\t 0.65 \t\t\t\t\t\taccuracy:\t 0.68\n",
      "precision:\t 0.63 \t\t\t\t\t\tprecision:\t 0.65\n",
      "recall:\t\t 0.74 \t\t\t\t\t\trecall:\t\t 0.78\n",
      "F1:\t\t 0.68 \t\t\t\t\t\tF1:\t\t 0.71\n"
     ]
    },
    {
     "data": {
      "image/png": "[encoded data removed]",
      "text/plain": [
       "<Figure size 1296x432 with 4 Axes>"
      ]
     },
     "metadata": {
      "needs_background": "light"
     },
     "output_type": "display_data"
    }
   ],
   "source": [
    "classification_metrics(y_train,svclassifier.predict(X_train),y_test,svclassifier.predict(X_test),True)"
   ]
  },
  {
   "cell_type": "markdown",
   "metadata": {
    "id": "CeN0zELME2YW"
   },
   "source": [
    "# <span style=\"color:#FF7B07\"><div align=\"center\">**Result** "
   ]
  },
  {
   "cell_type": "markdown",
   "metadata": {},
   "source": [
    "#### <span style=\"color:#FF7B07\"> The results are amazing, we can guess if the person is going to be on 180 day program with only her/his first and 10nd day results and our new features ! "
   ]
  },
  {
   "cell_type": "code",
   "execution_count": null,
   "metadata": {},
   "outputs": [],
   "source": []
  }
 ],
 "metadata": {
  "colab": {
   "collapsed_sections": [],
   "name": "predict_180days_Diet.ipynb",
   "provenance": []
  },
  "kernelspec": {
   "display_name": "Python 3",
   "language": "python",
   "name": "python3"
  },
  "language_info": {
   "codemirror_mode": {
    "name": "ipython",
    "version": 3
   },
   "file_extension": ".py",
   "mimetype": "text/x-python",
   "name": "python",
   "nbconvert_exporter": "python",
   "pygments_lexer": "ipython3",
   "version": "3.8.5"
  }
 },
 "nbformat": 4,
 "nbformat_minor": 4
}
