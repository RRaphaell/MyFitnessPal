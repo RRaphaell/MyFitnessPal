{
 "cells": [
  {
   "cell_type": "markdown",
   "metadata": {},
   "source": [
    "#### <span style=\"color:#AD07FF\"> In this file we will parse json file and convert it to pandas dataframe <br> Depending on which algorithm we want to do, It is possible not to use all variables. <br>  For example, in our case, we do not think it is necessary to know <br> the quantity of nutrients the customer got after each meal. "
   ]
  },
  {
   "cell_type": "markdown",
   "metadata": {},
   "source": [
    "# <span style=\"color:#D75B08\"><div align=\"center\">**Imports** "
   ]
  },
  {
   "cell_type": "code",
   "execution_count": 3,
   "metadata": {},
   "outputs": [],
   "source": [
    "import json\n",
    "import itertools\n",
    "import numpy as np\n",
    "import pandas as pd\n",
    "from time import time\n",
    "import csv\n",
    "\n",
    "import warnings\n",
    "warnings.filterwarnings(\"ignore\")"
   ]
  },
  {
   "cell_type": "markdown",
   "metadata": {},
   "source": [
    "# <span style=\"color:#D75B08\"><div align=\"center\">**Read Data** "
   ]
  },
  {
   "cell_type": "code",
   "execution_count": 4,
   "metadata": {},
   "outputs": [
    {
     "data": {
      "text/html": [
       "<div>\n",
       "<style scoped>\n",
       "    .dataframe tbody tr th:only-of-type {\n",
       "        vertical-align: middle;\n",
       "    }\n",
       "\n",
       "    .dataframe tbody tr th {\n",
       "        vertical-align: top;\n",
       "    }\n",
       "\n",
       "    .dataframe thead th {\n",
       "        text-align: right;\n",
       "    }\n",
       "</style>\n",
       "<table border=\"1\" class=\"dataframe\">\n",
       "  <thead>\n",
       "    <tr style=\"text-align: right;\">\n",
       "      <th></th>\n",
       "      <th>1</th>\n",
       "      <th>2014-09-14</th>\n",
       "      <th>[{\"meal\": \"MY food\", \"dishes\": [{\"nutritions\": [{\"name\": \"Calories\", \"value\": \"412\"}, {\"name\": \"Carbs\", \"value\": \"29\"}, {\"name\": \"Fat\", \"value\": \"24\"}, {\"name\": \"Protein\", \"value\": \"21\"}, {\"name\": \"Sodium\", \"value\": \"258\"}, {\"name\": \"Sugar\", \"value\": \"29\"}], \"name\": \"my - McDonalds Espresso Pronto\\u00ae Flat White, 2 TALL\"}, {\"nutritions\": [{\"name\": \"Calories\", \"value\": \"170\"}, {\"name\": \"Carbs\", \"value\": \"25\"}, {\"name\": \"Fat\", \"value\": \"5\"}, {\"name\": \"Protein\", \"value\": \"20\"}, {\"name\": \"Sodium\", \"value\": \"260\"}, {\"name\": \"Sugar\", \"value\": \"2\"}], \"name\": \"Quest Bar - Banana Nut Muffin Natural Protein Bar, 60 g\"}, {\"nutritions\": [{\"name\": \"Calories\", \"value\": \"176\"}, {\"name\": \"Carbs\", \"value\": \"33\"}, {\"name\": \"Fat\", \"value\": \"1\"}, {\"name\": \"Protein\", \"value\": \"5\"}, {\"name\": \"Sodium\", \"value\": \"195\"}, {\"name\": \"Sugar\", \"value\": \"0\"}], \"name\": \"Uncle Tobys Australia - Vita Brits, 3 Biscuits 33.3g\"}, {\"nutritions\": [{\"name\": \"Calories\", \"value\": \"342\"}, {\"name\": \"Carbs\", \"value\": \"34\"}, {\"name\": \"Fat\", \"value\": \"12\"}, {\"name\": \"Protein\", \"value\": \"24\"}, {\"name\": \"Sodium\", \"value\": \"402\"}, {\"name\": \"Sugar\", \"value\": \"34\"}], \"name\": \"Pauls - Smarter White Milk, 600 ml\"}, {\"nutritions\": [{\"name\": \"Calories\", \"value\": \"180\"}, {\"name\": \"Carbs\", \"value\": \"22\"}, {\"name\": \"Fat\", \"value\": \"7\"}, {\"name\": \"Protein\", \"value\": \"21\"}, {\"name\": \"Sodium\", \"value\": \"310\"}, {\"name\": \"Sugar\", \"value\": \"1\"}], \"name\": \"Quest Bar - Cookies and Cream, 1 bar\"}, {\"nutritions\": [{\"name\": \"Calories\", \"value\": \"180\"}, {\"name\": \"Carbs\", \"value\": \"46\"}, {\"name\": \"Fat\", \"value\": \"0\"}, {\"name\": \"Protein\", \"value\": \"0\"}, {\"name\": \"Sodium\", \"value\": \"100\"}, {\"name\": \"Sugar\", \"value\": \"22\"}], \"name\": \"Gu Sports - Chomps, 8 pieces\"}, {\"nutritions\": [{\"name\": \"Calories\", \"value\": \"170\"}, {\"name\": \"Carbs\", \"value\": \"25\"}, {\"name\": \"Fat\", \"value\": \"5\"}, {\"name\": \"Protein\", \"value\": \"20\"}, {\"name\": \"Sodium\", \"value\": \"260\"}, {\"name\": \"Sugar\", \"value\": \"2\"}], \"name\": \"Quest Bar - Banana Nut Muffin Natural Protein Bar, 60 g\"}, {\"nutritions\": [{\"name\": \"Calories\", \"value\": \"160\"}, {\"name\": \"Carbs\", \"value\": \"25\"}, {\"name\": \"Fat\", \"value\": \"5\"}, {\"name\": \"Protein\", \"value\": \"20\"}, {\"name\": \"Sodium\", \"value\": \"240\"}, {\"name\": \"Sugar\", \"value\": \"2\"}], \"name\": \"Quest - Protein Bar Chocolate Peanut Butter, 1 bar (60 g)\"}, {\"nutritions\": [{\"name\": \"Calories\", \"value\": \"686\"}, {\"name\": \"Carbs\", \"value\": \"59\"}, {\"name\": \"Fat\", \"value\": \"31\"}, {\"name\": \"Protein\", \"value\": \"40\"}, {\"name\": \"Sodium\", \"value\": \"1,105\"}, {\"name\": \"Sugar\", \"value\": \"9\"}], \"name\": \"Grilld - Simply Grilled (Real), 1.25 burger\"}, {\"nutritions\": [{\"name\": \"Calories\", \"value\": \"252\"}, {\"name\": \"Carbs\", \"value\": \"27\"}, {\"name\": \"Fat\", \"value\": \"14\"}, {\"name\": \"Protein\", \"value\": \"5\"}, {\"name\": \"Sodium\", \"value\": \"352\"}, {\"name\": \"Sugar\", \"value\": \"1\"}], \"name\": \"Grilld - Snack Chips, 1 snack size\"}, {\"nutritions\": [{\"name\": \"Calories\", \"value\": \"196\"}, {\"name\": \"Carbs\", \"value\": \"15\"}, {\"name\": \"Fat\", \"value\": \"10\"}, {\"name\": \"Protein\", \"value\": \"10\"}, {\"name\": \"Sodium\", \"value\": \"176\"}, {\"name\": \"Sugar\", \"value\": \"7\"}], \"name\": \"Tasti - Salted Caramel Protein Bar, 40 g\"}], \"sequence\": 1}]</th>\n",
       "      <th>{\"total\": [{\"name\": \"Calories\", \"value\": 2924}, {\"name\": \"Carbs\", \"value\": 340}, {\"name\": \"Fat\", \"value\": 114}, {\"name\": \"Protein\", \"value\": 186}, {\"name\": \"Sodium\", \"value\": 3658}, {\"name\": \"Sugar\", \"value\": 109}], \"goal\": [{\"name\": \"Calories\", \"value\": 3173}, {\"name\": \"Carbs\", \"value\": 396}, {\"name\": \"Fat\", \"value\": 105}, {\"name\": \"Protein\", \"value\": 160}, {\"name\": \"Sodium\", \"value\": 2300}, {\"name\": \"Sugar\", \"value\": 119}]}</th>\n",
       "    </tr>\n",
       "  </thead>\n",
       "  <tbody>\n",
       "    <tr>\n",
       "      <th>0</th>\n",
       "      <td>1</td>\n",
       "      <td>2014-09-15</td>\n",
       "      <td>[{\"meal\": \"MY food\", \"dishes\": [{\"nutritions\":...</td>\n",
       "      <td>{\"total\": [{\"name\": \"Calories\", \"value\": 2430}...</td>\n",
       "    </tr>\n",
       "    <tr>\n",
       "      <th>1</th>\n",
       "      <td>1</td>\n",
       "      <td>2014-09-16</td>\n",
       "      <td>[{\"meal\": \"MY food\", \"dishes\": [{\"nutritions\":...</td>\n",
       "      <td>{\"total\": [{\"name\": \"Calories\", \"value\": 1862}...</td>\n",
       "    </tr>\n",
       "    <tr>\n",
       "      <th>2</th>\n",
       "      <td>1</td>\n",
       "      <td>2014-09-17</td>\n",
       "      <td>[{\"meal\": \"MY food\", \"dishes\": [{\"nutritions\":...</td>\n",
       "      <td>{\"total\": [{\"name\": \"Calories\", \"value\": 2251}...</td>\n",
       "    </tr>\n",
       "    <tr>\n",
       "      <th>3</th>\n",
       "      <td>1</td>\n",
       "      <td>2014-09-18</td>\n",
       "      <td>[{\"meal\": \"MY food\", \"dishes\": [{\"nutritions\":...</td>\n",
       "      <td>{\"total\": [{\"name\": \"Calories\", \"value\": 2001}...</td>\n",
       "    </tr>\n",
       "    <tr>\n",
       "      <th>4</th>\n",
       "      <td>1</td>\n",
       "      <td>2014-09-19</td>\n",
       "      <td>[{\"meal\": \"MY food\", \"dishes\": [{\"nutritions\":...</td>\n",
       "      <td>{\"total\": [{\"name\": \"Calories\", \"value\": 2158}...</td>\n",
       "    </tr>\n",
       "  </tbody>\n",
       "</table>\n",
       "</div>"
      ],
      "text/plain": [
       "   1  2014-09-14  \\\n",
       "0  1  2014-09-15   \n",
       "1  1  2014-09-16   \n",
       "2  1  2014-09-17   \n",
       "3  1  2014-09-18   \n",
       "4  1  2014-09-19   \n",
       "\n",
       "  [{\"meal\": \"MY food\", \"dishes\": [{\"nutritions\": [{\"name\": \"Calories\", \"value\": \"412\"}, {\"name\": \"Carbs\", \"value\": \"29\"}, {\"name\": \"Fat\", \"value\": \"24\"}, {\"name\": \"Protein\", \"value\": \"21\"}, {\"name\": \"Sodium\", \"value\": \"258\"}, {\"name\": \"Sugar\", \"value\": \"29\"}], \"name\": \"my - McDonalds Espresso Pronto\\u00ae Flat White, 2 TALL\"}, {\"nutritions\": [{\"name\": \"Calories\", \"value\": \"170\"}, {\"name\": \"Carbs\", \"value\": \"25\"}, {\"name\": \"Fat\", \"value\": \"5\"}, {\"name\": \"Protein\", \"value\": \"20\"}, {\"name\": \"Sodium\", \"value\": \"260\"}, {\"name\": \"Sugar\", \"value\": \"2\"}], \"name\": \"Quest Bar - Banana Nut Muffin Natural Protein Bar, 60 g\"}, {\"nutritions\": [{\"name\": \"Calories\", \"value\": \"176\"}, {\"name\": \"Carbs\", \"value\": \"33\"}, {\"name\": \"Fat\", \"value\": \"1\"}, {\"name\": \"Protein\", \"value\": \"5\"}, {\"name\": \"Sodium\", \"value\": \"195\"}, {\"name\": \"Sugar\", \"value\": \"0\"}], \"name\": \"Uncle Tobys Australia - Vita Brits, 3 Biscuits 33.3g\"}, {\"nutritions\": [{\"name\": \"Calories\", \"value\": \"342\"}, {\"name\": \"Carbs\", \"value\": \"34\"}, {\"name\": \"Fat\", \"value\": \"12\"}, {\"name\": \"Protein\", \"value\": \"24\"}, {\"name\": \"Sodium\", \"value\": \"402\"}, {\"name\": \"Sugar\", \"value\": \"34\"}], \"name\": \"Pauls - Smarter White Milk, 600 ml\"}, {\"nutritions\": [{\"name\": \"Calories\", \"value\": \"180\"}, {\"name\": \"Carbs\", \"value\": \"22\"}, {\"name\": \"Fat\", \"value\": \"7\"}, {\"name\": \"Protein\", \"value\": \"21\"}, {\"name\": \"Sodium\", \"value\": \"310\"}, {\"name\": \"Sugar\", \"value\": \"1\"}], \"name\": \"Quest Bar - Cookies and Cream, 1 bar\"}, {\"nutritions\": [{\"name\": \"Calories\", \"value\": \"180\"}, {\"name\": \"Carbs\", \"value\": \"46\"}, {\"name\": \"Fat\", \"value\": \"0\"}, {\"name\": \"Protein\", \"value\": \"0\"}, {\"name\": \"Sodium\", \"value\": \"100\"}, {\"name\": \"Sugar\", \"value\": \"22\"}], \"name\": \"Gu Sports - Chomps, 8 pieces\"}, {\"nutritions\": [{\"name\": \"Calories\", \"value\": \"170\"}, {\"name\": \"Carbs\", \"value\": \"25\"}, {\"name\": \"Fat\", \"value\": \"5\"}, {\"name\": \"Protein\", \"value\": \"20\"}, {\"name\": \"Sodium\", \"value\": \"260\"}, {\"name\": \"Sugar\", \"value\": \"2\"}], \"name\": \"Quest Bar - Banana Nut Muffin Natural Protein Bar, 60 g\"}, {\"nutritions\": [{\"name\": \"Calories\", \"value\": \"160\"}, {\"name\": \"Carbs\", \"value\": \"25\"}, {\"name\": \"Fat\", \"value\": \"5\"}, {\"name\": \"Protein\", \"value\": \"20\"}, {\"name\": \"Sodium\", \"value\": \"240\"}, {\"name\": \"Sugar\", \"value\": \"2\"}], \"name\": \"Quest - Protein Bar Chocolate Peanut Butter, 1 bar (60 g)\"}, {\"nutritions\": [{\"name\": \"Calories\", \"value\": \"686\"}, {\"name\": \"Carbs\", \"value\": \"59\"}, {\"name\": \"Fat\", \"value\": \"31\"}, {\"name\": \"Protein\", \"value\": \"40\"}, {\"name\": \"Sodium\", \"value\": \"1,105\"}, {\"name\": \"Sugar\", \"value\": \"9\"}], \"name\": \"Grilld - Simply Grilled (Real), 1.25 burger\"}, {\"nutritions\": [{\"name\": \"Calories\", \"value\": \"252\"}, {\"name\": \"Carbs\", \"value\": \"27\"}, {\"name\": \"Fat\", \"value\": \"14\"}, {\"name\": \"Protein\", \"value\": \"5\"}, {\"name\": \"Sodium\", \"value\": \"352\"}, {\"name\": \"Sugar\", \"value\": \"1\"}], \"name\": \"Grilld - Snack Chips, 1 snack size\"}, {\"nutritions\": [{\"name\": \"Calories\", \"value\": \"196\"}, {\"name\": \"Carbs\", \"value\": \"15\"}, {\"name\": \"Fat\", \"value\": \"10\"}, {\"name\": \"Protein\", \"value\": \"10\"}, {\"name\": \"Sodium\", \"value\": \"176\"}, {\"name\": \"Sugar\", \"value\": \"7\"}], \"name\": \"Tasti - Salted Caramel Protein Bar, 40 g\"}], \"sequence\": 1}]  \\\n",
       "0  [{\"meal\": \"MY food\", \"dishes\": [{\"nutritions\":...                                                                                                                                                                                                                                                                                                                                                                                                                                                                                                                                                                                                                                                                                                                                                                                                                                                                                                                                                                                                                                                                                                                                                                                                                                                                                                                                                                                                                                                                                                                                                                                                                                                                                                                                                                                                                                                                                                                                                                                                                                                                                                                                                                                                                                                                                                                                                                                                                                                                                                                                                                                                                                                                                                                                                                                                                                                                                                                                                                                                                                                                                                                                                                                                                                           \n",
       "1  [{\"meal\": \"MY food\", \"dishes\": [{\"nutritions\":...                                                                                                                                                                                                                                                                                                                                                                                                                                                                                                                                                                                                                                                                                                                                                                                                                                                                                                                                                                                                                                                                                                                                                                                                                                                                                                                                                                                                                                                                                                                                                                                                                                                                                                                                                                                                                                                                                                                                                                                                                                                                                                                                                                                                                                                                                                                                                                                                                                                                                                                                                                                                                                                                                                                                                                                                                                                                                                                                                                                                                                                                                                                                                                                                                                           \n",
       "2  [{\"meal\": \"MY food\", \"dishes\": [{\"nutritions\":...                                                                                                                                                                                                                                                                                                                                                                                                                                                                                                                                                                                                                                                                                                                                                                                                                                                                                                                                                                                                                                                                                                                                                                                                                                                                                                                                                                                                                                                                                                                                                                                                                                                                                                                                                                                                                                                                                                                                                                                                                                                                                                                                                                                                                                                                                                                                                                                                                                                                                                                                                                                                                                                                                                                                                                                                                                                                                                                                                                                                                                                                                                                                                                                                                                           \n",
       "3  [{\"meal\": \"MY food\", \"dishes\": [{\"nutritions\":...                                                                                                                                                                                                                                                                                                                                                                                                                                                                                                                                                                                                                                                                                                                                                                                                                                                                                                                                                                                                                                                                                                                                                                                                                                                                                                                                                                                                                                                                                                                                                                                                                                                                                                                                                                                                                                                                                                                                                                                                                                                                                                                                                                                                                                                                                                                                                                                                                                                                                                                                                                                                                                                                                                                                                                                                                                                                                                                                                                                                                                                                                                                                                                                                                                           \n",
       "4  [{\"meal\": \"MY food\", \"dishes\": [{\"nutritions\":...                                                                                                                                                                                                                                                                                                                                                                                                                                                                                                                                                                                                                                                                                                                                                                                                                                                                                                                                                                                                                                                                                                                                                                                                                                                                                                                                                                                                                                                                                                                                                                                                                                                                                                                                                                                                                                                                                                                                                                                                                                                                                                                                                                                                                                                                                                                                                                                                                                                                                                                                                                                                                                                                                                                                                                                                                                                                                                                                                                                                                                                                                                                                                                                                                                           \n",
       "\n",
       "  {\"total\": [{\"name\": \"Calories\", \"value\": 2924}, {\"name\": \"Carbs\", \"value\": 340}, {\"name\": \"Fat\", \"value\": 114}, {\"name\": \"Protein\", \"value\": 186}, {\"name\": \"Sodium\", \"value\": 3658}, {\"name\": \"Sugar\", \"value\": 109}], \"goal\": [{\"name\": \"Calories\", \"value\": 3173}, {\"name\": \"Carbs\", \"value\": 396}, {\"name\": \"Fat\", \"value\": 105}, {\"name\": \"Protein\", \"value\": 160}, {\"name\": \"Sodium\", \"value\": 2300}, {\"name\": \"Sugar\", \"value\": 119}]}  \n",
       "0  {\"total\": [{\"name\": \"Calories\", \"value\": 2430}...                                                                                                                                                                                                                                                                                                                                                                                             \n",
       "1  {\"total\": [{\"name\": \"Calories\", \"value\": 1862}...                                                                                                                                                                                                                                                                                                                                                                                             \n",
       "2  {\"total\": [{\"name\": \"Calories\", \"value\": 2251}...                                                                                                                                                                                                                                                                                                                                                                                             \n",
       "3  {\"total\": [{\"name\": \"Calories\", \"value\": 2001}...                                                                                                                                                                                                                                                                                                                                                                                             \n",
       "4  {\"total\": [{\"name\": \"Calories\", \"value\": 2158}...                                                                                                                                                                                                                                                                                                                                                                                             "
      ]
     },
     "execution_count": 4,
     "metadata": {},
     "output_type": "execute_result"
    }
   ],
   "source": [
    "data = pd.read_csv('../data/mfp-diaries.tsv', sep='\\t')\n",
    "data.head()"
   ]
  },
  {
   "cell_type": "markdown",
   "metadata": {},
   "source": [
    "# <span style=\"color:#D75B08\"><div align=\"center\">**Create Dictionary of unique foods** "
   ]
  },
  {
   "cell_type": "markdown",
   "metadata": {},
   "source": [
    "#### <span style=\"color:#D75B08\"> As we can see, for each user, we have the names of their eaten food <br> but instead of this ,we want the numbers , so we will take the unique name foods to a separate dictionary <br> and food name replaces through the corresponding unique ID"
   ]
  },
  {
   "cell_type": "code",
   "execution_count": 5,
   "metadata": {},
   "outputs": [],
   "source": [
    "# parameters: name of dishes, dictionary\n",
    "# this method adds food if it doesn't exists\n",
    "def add_food(food,all_foods):\n",
    "    global idx\n",
    "    if food not in all_foods:\n",
    "        all_foods[food] = idx\n",
    "        idx+=1\n",
    "        \n",
    "# one person may eat max 6 times a day\n",
    "# This method will make unique foods dictionary\n",
    "def put_all_food_names(food_entries,all_foods):\n",
    "    for food_entrie in json.loads(food_entries): \n",
    "        for food in food_entrie[\"dishes\"]:\n",
    "            add_food(food[\"name\"].split(\",\")[0],all_foods)\n",
    "            \n",
    "            \n",
    "# This method gets an information about daily goals and total received calories and other nutrients\n",
    "def get_agregate_intake_goal(agregate_intake_goal):\n",
    "    res = []\n",
    "    for nutritient in agregate_intake_goal[\"total\"]:\n",
    "        res.append(nutritient[\"value\"])\n",
    "    for nutritient in agregate_intake_goal[\"goal\"]:\n",
    "        res.append(nutritient[\"value\"])\n",
    "    return res"
   ]
  },
  {
   "cell_type": "code",
   "execution_count": 6,
   "metadata": {},
   "outputs": [
    {
     "name": "stdout",
     "output_type": "stream",
     "text": [
      "elapsed time - 122.95582461357117\n",
      "length of all food - 628878\n"
     ]
    }
   ],
   "source": [
    "food_enumeration = {} # Dictionary where will be unique foods. Key will be name and value id\n",
    "idx = 1 # ID inumeration start point\n",
    "\n",
    "test_dataframe = data.copy()\n",
    "start = time()\n",
    "\n",
    "test_dataframe.iloc[:,2].apply(lambda elem: put_all_food_names(elem,food_enumeration))\n",
    "\n",
    "print(\"elapsed time - \" + str(time()-start))\n",
    "print(\"length of all food - \" + str(len(food_enumeration)))"
   ]
  },
  {
   "cell_type": "markdown",
   "metadata": {},
   "source": [
    "# <span style=\"color:#D75B08\"><div align=\"center\">**Create Apropriate Dataframes** "
   ]
  },
  {
   "cell_type": "markdown",
   "metadata": {},
   "source": [
    "#### <span style=\"color:#D75B08\"> Each user may have many records per day <br> so we will merge whole day's records. for example if a customer has a 5 days of record we will have 5 rows on it"
   ]
  },
  {
   "cell_type": "code",
   "execution_count": 7,
   "metadata": {},
   "outputs": [],
   "source": [
    "# food_ids contains food Id's eaten in particular meal and you can check names in all_foods\n",
    "def parse_new_applicants(row,all_foods):\n",
    "    global parsed_df\n",
    "    values = []\n",
    "    values.append(row[0]) # user_id \n",
    "    values.append(row[1]) # date\n",
    "    \n",
    "    food_entries = json.loads(row[2])\n",
    "    agregate_intake_goal = get_agregate_intake_goal(json.loads(row[3]))\n",
    "    \n",
    "    food_ids = []\n",
    "    for food_entrie in food_entries:\n",
    "        food_names = [food[\"name\"].split(\",\")[0] for food in food_entrie[\"dishes\"]]\n",
    "        food_ids_new = [all_foods[food_name] for food_name in food_names]\n",
    "        food_ids+=food_ids_new\n",
    "        \n",
    "    values.append(food_entrie[\"sequence\"])\n",
    "    values.append(food_ids)\n",
    "    values += agregate_intake_goal\n",
    "\n",
    "    dictionary = dict(zip(df_columns, values))\n",
    "    parsed_df.append(dictionary)"
   ]
  },
  {
   "cell_type": "code",
   "execution_count": 8,
   "metadata": {},
   "outputs": [
    {
     "name": "stdout",
     "output_type": "stream",
     "text": [
      "elapsed time - 369.07988715171814\n"
     ]
    }
   ],
   "source": [
    "start = time()\n",
    "\n",
    "# column names for new dataframe\n",
    "df_columns = ['user_id','date','sequence','food_ids',\n",
    "           'total_calories','total_carbs','total_fat','total_protein','total_sodium','total_sugar',\n",
    "           'goal_calories','goal_carbs','goal_fat','goal_protein','goal_sodium','goal_sugar']\n",
    "\n",
    "\n",
    "# This global variable will be feed with parsed data\n",
    "parsed_df = []\n",
    "\n",
    "test_dataframe = data\n",
    "_ = test_dataframe.apply(lambda row : parse_new_applicants(row,food_enumeration), axis = 1) \n",
    "parsed_df = pd.DataFrame.from_dict(parsed_df)\n",
    "\n",
    "end = time()\n",
    "print(\"elapsed time - \" + str(end-start))"
   ]
  },
  {
   "cell_type": "markdown",
   "metadata": {},
   "source": [
    "# <span style=\"color:#D75B08\"><div align=\"center\">**Save parsed Dataframes** "
   ]
  },
  {
   "cell_type": "code",
   "execution_count": 9,
   "metadata": {},
   "outputs": [],
   "source": [
    "# exchanging key and value to use food with ID (key)\n",
    "food_enumeration = {value:key for key, value in food_enumeration.items()}\n",
    "\n",
    "# save food name and ID as a new json file , If we need it, we won't have to always generate it \n",
    "with open('../data/foods.json', 'w') as fp:\n",
    "    json.dump(food_enumeration, fp)"
   ]
  },
  {
   "cell_type": "code",
   "execution_count": 10,
   "metadata": {},
   "outputs": [],
   "source": [
    "parsed_df.to_csv(r'../data/myFitnessPal_parsed.csv',index = False)"
   ]
  },
  {
   "cell_type": "code",
   "execution_count": null,
   "metadata": {},
   "outputs": [],
   "source": []
  }
 ],
 "metadata": {
  "kernelspec": {
   "display_name": "Python 3",
   "language": "python",
   "name": "python3"
  },
  "language_info": {
   "codemirror_mode": {
    "name": "ipython",
    "version": 3
   },
   "file_extension": ".py",
   "mimetype": "text/x-python",
   "name": "python",
   "nbconvert_exporter": "python",
   "pygments_lexer": "ipython3",
   "version": "3.8.5"
  }
 },
 "nbformat": 4,
 "nbformat_minor": 4
}
