{
 "cells": [
  {
   "cell_type": "markdown",
   "metadata": {},
   "source": [
    "# <span style=\"color:#FF7B07\"><div align=\"center\">**Import Libraries and Load Data** <a  name=\"2\"></a>"
   ]
  },
  {
   "cell_type": "code",
   "execution_count": 1,
   "metadata": {},
   "outputs": [],
   "source": [
    "from imblearn.over_sampling import SMOTE\n",
    "import matplotlib.pyplot as plt\n",
    "import numpy as np\n",
    "import pandas as pd\n",
    "from plotly.subplots import make_subplots\n",
    "import seaborn as sns\n",
    "from sklearn.model_selection import train_test_split, KFold\n",
    "from sklearn.tree import DecisionTreeClassifier\n",
    "from sklearn.metrics import f1_score,precision_score,recall_score,accuracy_score\n",
    "from sklearn.metrics import classification_report,confusion_matrix\n",
    "from sklearn.tree import DecisionTreeRegressor\n",
    "\n",
    "%matplotlib inline"
   ]
  },
  {
   "cell_type": "code",
   "execution_count": 2,
   "metadata": {},
   "outputs": [],
   "source": [
    "# The data is large and this command will help us to see the whole result \n",
    "pd.set_option('display.max_rows', 500)\n",
    "pd.set_option('display.max_columns', 500)\n",
    "pd.set_option('display.width', 1000)"
   ]
  },
  {
   "cell_type": "code",
   "execution_count": 102,
   "metadata": {},
   "outputs": [],
   "source": [
    "data = pd.read_csv('../data/myFitnessPal_data_prepared_to_use.csv')"
   ]
  },
  {
   "cell_type": "code",
   "execution_count": 103,
   "metadata": {},
   "outputs": [],
   "source": [
    "data = data[data[\"logged_frequency\"]>40]\n",
    "data = data.sort_values(by=['reach_goal']).iloc[500:]"
   ]
  },
  {
   "cell_type": "code",
   "execution_count": 106,
   "metadata": {},
   "outputs": [
    {
     "data": {
      "text/plain": [
       "0.0    2623\n",
       "1.0    1153\n",
       "Name: reach_goal, dtype: int64"
      ]
     },
     "execution_count": 106,
     "metadata": {},
     "output_type": "execute_result"
    }
   ],
   "source": [
    "data[\"reach_goal\"].value_counts()"
   ]
  },
  {
   "cell_type": "code",
   "execution_count": 107,
   "metadata": {},
   "outputs": [],
   "source": [
    "# for i in data.columns[1:21]:\n",
    "#     temp = data[i]\n",
    "#     count = 1\n",
    "#     for j in data.columns[21:]:\n",
    "#         if i in j:\n",
    "#             temp=temp+data[j]\n",
    "#             count+=1\n",
    "#     temp=temp/count\n",
    "#     data[i] = temp"
   ]
  },
  {
   "cell_type": "code",
   "execution_count": 108,
   "metadata": {},
   "outputs": [
    {
     "name": "stdout",
     "output_type": "stream",
     "text": [
      "\n",
      " Data shape - (3776, 146) \n",
      " Unique users - 3776 \n",
      "\n"
     ]
    },
    {
     "data": {
      "text/html": [
       "<div>\n",
       "<style scoped>\n",
       "    .dataframe tbody tr th:only-of-type {\n",
       "        vertical-align: middle;\n",
       "    }\n",
       "\n",
       "    .dataframe tbody tr th {\n",
       "        vertical-align: top;\n",
       "    }\n",
       "\n",
       "    .dataframe thead th {\n",
       "        text-align: right;\n",
       "    }\n",
       "</style>\n",
       "<table border=\"1\" class=\"dataframe\">\n",
       "  <thead>\n",
       "    <tr style=\"text-align: right;\">\n",
       "      <th></th>\n",
       "      <th>user_id</th>\n",
       "      <th>total_calories</th>\n",
       "      <th>total_carbs</th>\n",
       "      <th>total_fat</th>\n",
       "      <th>total_protein</th>\n",
       "      <th>total_sodium</th>\n",
       "      <th>total_sugar</th>\n",
       "      <th>goal_calories</th>\n",
       "      <th>goal_carbs</th>\n",
       "      <th>goal_fat</th>\n",
       "      <th>goal_protein</th>\n",
       "      <th>goal_sodium</th>\n",
       "      <th>goal_sugar</th>\n",
       "      <th>foods_len</th>\n",
       "      <th>healtyDistrib</th>\n",
       "      <th>calories_diff</th>\n",
       "      <th>carbs_diff</th>\n",
       "      <th>fat_diff</th>\n",
       "      <th>protein_diff</th>\n",
       "      <th>sodium_diff</th>\n",
       "      <th>sugar_diff</th>\n",
       "      <th>total_calories_1</th>\n",
       "      <th>total_carbs_1</th>\n",
       "      <th>total_fat_1</th>\n",
       "      <th>total_protein_1</th>\n",
       "      <th>total_sodium_1</th>\n",
       "      <th>total_sugar_1</th>\n",
       "      <th>goal_calories_1</th>\n",
       "      <th>goal_carbs_1</th>\n",
       "      <th>goal_fat_1</th>\n",
       "      <th>goal_protein_1</th>\n",
       "      <th>goal_sodium_1</th>\n",
       "      <th>goal_sugar_1</th>\n",
       "      <th>foods_len_1</th>\n",
       "      <th>healtyDistrib_1</th>\n",
       "      <th>calories_diff_1</th>\n",
       "      <th>carbs_diff_1</th>\n",
       "      <th>fat_diff_1</th>\n",
       "      <th>protein_diff_1</th>\n",
       "      <th>sodium_diff_1</th>\n",
       "      <th>sugar_diff_1</th>\n",
       "      <th>total_calories_2</th>\n",
       "      <th>total_carbs_2</th>\n",
       "      <th>total_fat_2</th>\n",
       "      <th>total_protein_2</th>\n",
       "      <th>total_sodium_2</th>\n",
       "      <th>total_sugar_2</th>\n",
       "      <th>goal_calories_2</th>\n",
       "      <th>goal_carbs_2</th>\n",
       "      <th>goal_fat_2</th>\n",
       "      <th>goal_protein_2</th>\n",
       "      <th>goal_sodium_2</th>\n",
       "      <th>goal_sugar_2</th>\n",
       "      <th>foods_len_2</th>\n",
       "      <th>healtyDistrib_2</th>\n",
       "      <th>calories_diff_2</th>\n",
       "      <th>carbs_diff_2</th>\n",
       "      <th>fat_diff_2</th>\n",
       "      <th>protein_diff_2</th>\n",
       "      <th>sodium_diff_2</th>\n",
       "      <th>sugar_diff_2</th>\n",
       "      <th>total_calories_3</th>\n",
       "      <th>total_carbs_3</th>\n",
       "      <th>total_fat_3</th>\n",
       "      <th>total_protein_3</th>\n",
       "      <th>total_sodium_3</th>\n",
       "      <th>total_sugar_3</th>\n",
       "      <th>goal_calories_3</th>\n",
       "      <th>goal_carbs_3</th>\n",
       "      <th>goal_fat_3</th>\n",
       "      <th>goal_protein_3</th>\n",
       "      <th>goal_sodium_3</th>\n",
       "      <th>goal_sugar_3</th>\n",
       "      <th>foods_len_3</th>\n",
       "      <th>healtyDistrib_3</th>\n",
       "      <th>calories_diff_3</th>\n",
       "      <th>carbs_diff_3</th>\n",
       "      <th>fat_diff_3</th>\n",
       "      <th>protein_diff_3</th>\n",
       "      <th>sodium_diff_3</th>\n",
       "      <th>sugar_diff_3</th>\n",
       "      <th>total_calories_4</th>\n",
       "      <th>total_carbs_4</th>\n",
       "      <th>total_fat_4</th>\n",
       "      <th>total_protein_4</th>\n",
       "      <th>total_sodium_4</th>\n",
       "      <th>total_sugar_4</th>\n",
       "      <th>goal_calories_4</th>\n",
       "      <th>goal_carbs_4</th>\n",
       "      <th>goal_fat_4</th>\n",
       "      <th>goal_protein_4</th>\n",
       "      <th>goal_sodium_4</th>\n",
       "      <th>goal_sugar_4</th>\n",
       "      <th>foods_len_4</th>\n",
       "      <th>healtyDistrib_4</th>\n",
       "      <th>calories_diff_4</th>\n",
       "      <th>carbs_diff_4</th>\n",
       "      <th>fat_diff_4</th>\n",
       "      <th>protein_diff_4</th>\n",
       "      <th>sodium_diff_4</th>\n",
       "      <th>sugar_diff_4</th>\n",
       "      <th>total_calories_5</th>\n",
       "      <th>total_carbs_5</th>\n",
       "      <th>total_fat_5</th>\n",
       "      <th>total_protein_5</th>\n",
       "      <th>total_sodium_5</th>\n",
       "      <th>total_sugar_5</th>\n",
       "      <th>goal_calories_5</th>\n",
       "      <th>goal_carbs_5</th>\n",
       "      <th>goal_fat_5</th>\n",
       "      <th>goal_protein_5</th>\n",
       "      <th>goal_sodium_5</th>\n",
       "      <th>goal_sugar_5</th>\n",
       "      <th>foods_len_5</th>\n",
       "      <th>healtyDistrib_5</th>\n",
       "      <th>calories_diff_5</th>\n",
       "      <th>carbs_diff_5</th>\n",
       "      <th>fat_diff_5</th>\n",
       "      <th>protein_diff_5</th>\n",
       "      <th>sodium_diff_5</th>\n",
       "      <th>sugar_diff_5</th>\n",
       "      <th>total_calories_6</th>\n",
       "      <th>total_carbs_6</th>\n",
       "      <th>total_fat_6</th>\n",
       "      <th>total_protein_6</th>\n",
       "      <th>total_sodium_6</th>\n",
       "      <th>total_sugar_6</th>\n",
       "      <th>goal_calories_6</th>\n",
       "      <th>goal_carbs_6</th>\n",
       "      <th>goal_fat_6</th>\n",
       "      <th>goal_protein_6</th>\n",
       "      <th>goal_sodium_6</th>\n",
       "      <th>goal_sugar_6</th>\n",
       "      <th>foods_len_6</th>\n",
       "      <th>healtyDistrib_6</th>\n",
       "      <th>calories_diff_6</th>\n",
       "      <th>carbs_diff_6</th>\n",
       "      <th>fat_diff_6</th>\n",
       "      <th>protein_diff_6</th>\n",
       "      <th>sodium_diff_6</th>\n",
       "      <th>sugar_diff_6</th>\n",
       "      <th>logged_frequency</th>\n",
       "      <th>start_date</th>\n",
       "      <th>days_missed</th>\n",
       "      <th>reach_goal</th>\n",
       "      <th>FoodGroup</th>\n",
       "    </tr>\n",
       "  </thead>\n",
       "  <tbody>\n",
       "    <tr>\n",
       "      <th>3948</th>\n",
       "      <td>4568.0</td>\n",
       "      <td>0.439724</td>\n",
       "      <td>0.44464</td>\n",
       "      <td>0.307692</td>\n",
       "      <td>0.099042</td>\n",
       "      <td>0.305448</td>\n",
       "      <td>0.018787</td>\n",
       "      <td>0.451552</td>\n",
       "      <td>0.385737</td>\n",
       "      <td>0.297674</td>\n",
       "      <td>0.256684</td>\n",
       "      <td>0.418182</td>\n",
       "      <td>0.013585</td>\n",
       "      <td>0.135593</td>\n",
       "      <td>0.110555</td>\n",
       "      <td>0.457029</td>\n",
       "      <td>0.470693</td>\n",
       "      <td>0.477752</td>\n",
       "      <td>0.537764</td>\n",
       "      <td>0.551554</td>\n",
       "      <td>0.4</td>\n",
       "      <td>0.350658</td>\n",
       "      <td>0.44464</td>\n",
       "      <td>0.175214</td>\n",
       "      <td>0.185304</td>\n",
       "      <td>0.088051</td>\n",
       "      <td>0.015618</td>\n",
       "      <td>0.488036</td>\n",
       "      <td>0.416532</td>\n",
       "      <td>0.32093</td>\n",
       "      <td>0.278075</td>\n",
       "      <td>0.418182</td>\n",
       "      <td>0.014528</td>\n",
       "      <td>0.186441</td>\n",
       "      <td>0.043207</td>\n",
       "      <td>0.529759</td>\n",
       "      <td>0.487567</td>\n",
       "      <td>0.562061</td>\n",
       "      <td>0.509063</td>\n",
       "      <td>0.698132</td>\n",
       "      <td>0.402255</td>\n",
       "      <td>0.308389</td>\n",
       "      <td>0.300527</td>\n",
       "      <td>0.123932</td>\n",
       "      <td>0.111821</td>\n",
       "      <td>0.103903</td>\n",
       "      <td>0.00679</td>\n",
       "      <td>0.463634</td>\n",
       "      <td>0.395462</td>\n",
       "      <td>0.302326</td>\n",
       "      <td>0.262032</td>\n",
       "      <td>0.418182</td>\n",
       "      <td>0.013962</td>\n",
       "      <td>0.20339</td>\n",
       "      <td>0.054591</td>\n",
       "      <td>0.541688</td>\n",
       "      <td>0.548845</td>\n",
       "      <td>0.580796</td>\n",
       "      <td>0.534743</td>\n",
       "      <td>0.687444</td>\n",
       "      <td>0.406528</td>\n",
       "      <td>0.310114</td>\n",
       "      <td>0.29174</td>\n",
       "      <td>0.141026</td>\n",
       "      <td>0.115016</td>\n",
       "      <td>0.105901</td>\n",
       "      <td>0.00498</td>\n",
       "      <td>0.505094</td>\n",
       "      <td>0.432739</td>\n",
       "      <td>0.334884</td>\n",
       "      <td>0.286096</td>\n",
       "      <td>0.418182</td>\n",
       "      <td>0.015094</td>\n",
       "      <td>0.135593</td>\n",
       "      <td>0.053603</td>\n",
       "      <td>0.563109</td>\n",
       "      <td>0.573712</td>\n",
       "      <td>0.587822</td>\n",
       "      <td>0.546828</td>\n",
       "      <td>0.686097</td>\n",
       "      <td>0.40819</td>\n",
       "      <td>0.333621</td>\n",
       "      <td>0.346221</td>\n",
       "      <td>0.24359</td>\n",
       "      <td>0.172524</td>\n",
       "      <td>0.052884</td>\n",
       "      <td>0.01426</td>\n",
       "      <td>0.588012</td>\n",
       "      <td>0.504052</td>\n",
       "      <td>0.386047</td>\n",
       "      <td>0.334225</td>\n",
       "      <td>0.418182</td>\n",
       "      <td>0.017736</td>\n",
       "      <td>0.220339</td>\n",
       "      <td>0.044318</td>\n",
       "      <td>0.594023</td>\n",
       "      <td>0.585258</td>\n",
       "      <td>0.557377</td>\n",
       "      <td>0.546828</td>\n",
       "      <td>0.721843</td>\n",
       "      <td>0.404985</td>\n",
       "      <td>0.260945</td>\n",
       "      <td>0.289982</td>\n",
       "      <td>0.196581</td>\n",
       "      <td>0.14377</td>\n",
       "      <td>0.019848</td>\n",
       "      <td>0.015618</td>\n",
       "      <td>0.415778</td>\n",
       "      <td>0.356564</td>\n",
       "      <td>0.274419</td>\n",
       "      <td>0.235294</td>\n",
       "      <td>0.418182</td>\n",
       "      <td>0.012453</td>\n",
       "      <td>0.20339</td>\n",
       "      <td>0.04343</td>\n",
       "      <td>0.543997</td>\n",
       "      <td>0.53286</td>\n",
       "      <td>0.526932</td>\n",
       "      <td>0.504532</td>\n",
       "      <td>0.744117</td>\n",
       "      <td>0.40095</td>\n",
       "      <td>0.287255</td>\n",
       "      <td>0.300527</td>\n",
       "      <td>0.188034</td>\n",
       "      <td>0.175719</td>\n",
       "      <td>0.137072</td>\n",
       "      <td>0.00928</td>\n",
       "      <td>0.44942</td>\n",
       "      <td>0.385737</td>\n",
       "      <td>0.297674</td>\n",
       "      <td>0.254011</td>\n",
       "      <td>0.418182</td>\n",
       "      <td>0.013585</td>\n",
       "      <td>0.20339</td>\n",
       "      <td>0.023669</td>\n",
       "      <td>0.546562</td>\n",
       "      <td>0.543517</td>\n",
       "      <td>0.543326</td>\n",
       "      <td>0.5</td>\n",
       "      <td>0.66508</td>\n",
       "      <td>0.404985</td>\n",
       "      <td>56.0</td>\n",
       "      <td>0.833333</td>\n",
       "      <td>0.0</td>\n",
       "      <td>0.0</td>\n",
       "      <td>0.047619</td>\n",
       "    </tr>\n",
       "  </tbody>\n",
       "</table>\n",
       "</div>"
      ],
      "text/plain": [
       "      user_id  total_calories  total_carbs  total_fat  total_protein  total_sodium  total_sugar  goal_calories  goal_carbs  goal_fat  goal_protein  goal_sodium  goal_sugar  foods_len  healtyDistrib  calories_diff  carbs_diff  fat_diff  protein_diff  sodium_diff  sugar_diff  total_calories_1  total_carbs_1  total_fat_1  total_protein_1  total_sodium_1  total_sugar_1  goal_calories_1  goal_carbs_1  goal_fat_1  goal_protein_1  goal_sodium_1  goal_sugar_1  foods_len_1  healtyDistrib_1  calories_diff_1  carbs_diff_1  fat_diff_1  protein_diff_1  sodium_diff_1  sugar_diff_1  total_calories_2  total_carbs_2  total_fat_2  total_protein_2  total_sodium_2  total_sugar_2  goal_calories_2  goal_carbs_2  goal_fat_2  goal_protein_2  goal_sodium_2  goal_sugar_2  foods_len_2  healtyDistrib_2  calories_diff_2  carbs_diff_2  fat_diff_2  protein_diff_2  sodium_diff_2  sugar_diff_2  total_calories_3  total_carbs_3  total_fat_3  total_protein_3  total_sodium_3  total_sugar_3  goal_calories_3  \\\n",
       "3948   4568.0        0.439724      0.44464   0.307692       0.099042      0.305448     0.018787       0.451552    0.385737  0.297674      0.256684     0.418182    0.013585   0.135593       0.110555       0.457029    0.470693  0.477752      0.537764     0.551554         0.4          0.350658        0.44464     0.175214         0.185304        0.088051       0.015618         0.488036      0.416532     0.32093        0.278075       0.418182      0.014528     0.186441         0.043207         0.529759      0.487567    0.562061        0.509063       0.698132      0.402255          0.308389       0.300527     0.123932         0.111821        0.103903        0.00679         0.463634      0.395462    0.302326        0.262032       0.418182      0.013962      0.20339         0.054591         0.541688      0.548845    0.580796        0.534743       0.687444      0.406528          0.310114        0.29174     0.141026         0.115016        0.105901        0.00498         0.505094   \n",
       "\n",
       "      goal_carbs_3  goal_fat_3  goal_protein_3  goal_sodium_3  goal_sugar_3  foods_len_3  healtyDistrib_3  calories_diff_3  carbs_diff_3  fat_diff_3  protein_diff_3  sodium_diff_3  sugar_diff_3  total_calories_4  total_carbs_4  total_fat_4  total_protein_4  total_sodium_4  total_sugar_4  goal_calories_4  goal_carbs_4  goal_fat_4  goal_protein_4  goal_sodium_4  goal_sugar_4  foods_len_4  healtyDistrib_4  calories_diff_4  carbs_diff_4  fat_diff_4  protein_diff_4  sodium_diff_4  sugar_diff_4  total_calories_5  total_carbs_5  total_fat_5  total_protein_5  total_sodium_5  total_sugar_5  goal_calories_5  goal_carbs_5  goal_fat_5  goal_protein_5  goal_sodium_5  goal_sugar_5  foods_len_5  healtyDistrib_5  calories_diff_5  carbs_diff_5  fat_diff_5  protein_diff_5  sodium_diff_5  sugar_diff_5  total_calories_6  total_carbs_6  total_fat_6  total_protein_6  total_sodium_6  total_sugar_6  goal_calories_6  goal_carbs_6  goal_fat_6  goal_protein_6  goal_sodium_6  goal_sugar_6  foods_len_6  \\\n",
       "3948      0.432739    0.334884        0.286096       0.418182      0.015094     0.135593         0.053603         0.563109      0.573712    0.587822        0.546828       0.686097       0.40819          0.333621       0.346221      0.24359         0.172524        0.052884        0.01426         0.588012      0.504052    0.386047        0.334225       0.418182      0.017736     0.220339         0.044318         0.594023      0.585258    0.557377        0.546828       0.721843      0.404985          0.260945       0.289982     0.196581          0.14377        0.019848       0.015618         0.415778      0.356564    0.274419        0.235294       0.418182      0.012453      0.20339          0.04343         0.543997       0.53286    0.526932        0.504532       0.744117       0.40095          0.287255       0.300527     0.188034         0.175719        0.137072        0.00928          0.44942      0.385737    0.297674        0.254011       0.418182      0.013585      0.20339   \n",
       "\n",
       "      healtyDistrib_6  calories_diff_6  carbs_diff_6  fat_diff_6  protein_diff_6  sodium_diff_6  sugar_diff_6  logged_frequency  start_date  days_missed  reach_goal  FoodGroup  \n",
       "3948         0.023669         0.546562      0.543517    0.543326             0.5        0.66508      0.404985              56.0    0.833333          0.0         0.0   0.047619  "
      ]
     },
     "execution_count": 108,
     "metadata": {},
     "output_type": "execute_result"
    }
   ],
   "source": [
    "print(f'\\n Data shape - {data.shape} ')\n",
    "print(f' Unique users - {data[\"user_id\"].nunique()} \\n')\n",
    "data.head(1)"
   ]
  },
  {
   "cell_type": "code",
   "execution_count": 109,
   "metadata": {},
   "outputs": [],
   "source": [
    "# matrix = data[['total_carbs', 'total_fat', 'total_protein', 'total_sodium', 'total_sugar', 'foods_len', \n",
    "#           'healtyDistrib', 'calories_diff', 'carbs_diff', 'fat_diff', 'protein_diff', 'sodium_diff', 'sugar_diff', \n",
    "#           'start_date', 'FoodGroup']].corr()\n",
    "# f, ax = plt.subplots(figsize=(12, 6))\n",
    "# with sns.axes_style(\"white\"):\n",
    "#     sns.heatmap(matrix,mask=np.triu(matrix,1),annot=True,fmt=\".2f\", vmax=.8,cbar=False,cmap=\"coolwarm\");"
   ]
  },
  {
   "cell_type": "code",
   "execution_count": 110,
   "metadata": {},
   "outputs": [],
   "source": [
    "col1 = list(filter(lambda x: (\"goal\" in x) or (\"user_id\" in x) or (\"reach_goal\" in x) or (\"logged_frequency\" in x), data.columns))\n",
    "col2 = list(filter(lambda x: (\"_1\" not in x) and (\"_2\" not in x) and (\"_3\" not in x) and (\"_4\" not in x) and (\"_5\" not in x) and (\"_6\" not in x) ,data.columns))"
   ]
  },
  {
   "cell_type": "code",
   "execution_count": 112,
   "metadata": {},
   "outputs": [],
   "source": [
    "X = data.drop(columns=col1)\n",
    "# X = data[col1]\n",
    "y = data['reach_goal']\n",
    "X_train, X_test,y_train,y_test = train_test_split(X, y, test_size=0.2, random_state = 42)"
   ]
  },
  {
   "cell_type": "code",
   "execution_count": 113,
   "metadata": {},
   "outputs": [
    {
     "data": {
      "text/plain": [
       "101"
      ]
     },
     "execution_count": 113,
     "metadata": {},
     "output_type": "execute_result"
    }
   ],
   "source": [
    "len(X_train.columns)"
   ]
  },
  {
   "cell_type": "code",
   "execution_count": 114,
   "metadata": {},
   "outputs": [],
   "source": [
    "# from sklearn.decomposition import PCA\n",
    "# pca = PCA().fit(X_train)\n",
    "\n",
    "# plt.figure(figsize=(12,8))\n",
    "# plt.plot(np.cumsum(pca.explained_variance_ratio_), color='k', lw=2)\n",
    "# plt.xlabel('Number of components')\n",
    "# plt.ylabel('Total explained variance')\n",
    "# plt.xlim(0, 11)\n",
    "# plt.yticks(np.arange(0, 1.1, 0.1))\n",
    "# plt.axvline(3.5, c='b')\n",
    "# plt.axhline(0.896, c='r')\n",
    "# plt.show();"
   ]
  },
  {
   "cell_type": "code",
   "execution_count": 115,
   "metadata": {},
   "outputs": [],
   "source": [
    "# from sklearn import decomposition\n",
    "# pca = decomposition.PCA(n_components=80)\n",
    "# # X_reduced_train = pca.fit_transform(data.drop(columns=[\"user_id\",\"reach_goal\"]))\n",
    "# X_train_PCA = pca.fit_transform(X_train)\n",
    "# X_test_PCA = pca.transform(X_test)"
   ]
  },
  {
   "cell_type": "code",
   "execution_count": 116,
   "metadata": {},
   "outputs": [],
   "source": [
    "# X_train = pd.DataFrame(X_train_PCA)\n",
    "# X_test = pd.DataFrame(X_test_PCA)"
   ]
  },
  {
   "cell_type": "code",
   "execution_count": 117,
   "metadata": {},
   "outputs": [],
   "source": [
    "sm = SMOTE(random_state=42)\n",
    "\n",
    "X_train_s,y_train_s =sm.fit_sample(X_train,y_train)\n",
    "X_test_s,y_test_s =sm.fit_sample(X_test,y_test)"
   ]
  },
  {
   "cell_type": "code",
   "execution_count": 118,
   "metadata": {},
   "outputs": [
    {
     "name": "stderr",
     "output_type": "stream",
     "text": [
      "C:\\Users\\Raffael Kalandadze\\anaconda3\\lib\\site-packages\\seaborn\\_decorators.py:36: FutureWarning: Pass the following variable as a keyword arg: x. From version 0.12, the only valid positional argument will be `data`, and passing other arguments without an explicit keyword will result in an error or misinterpretation.\n",
      "  warnings.warn(\n",
      "C:\\Users\\Raffael Kalandadze\\anaconda3\\lib\\site-packages\\seaborn\\_decorators.py:36: FutureWarning: Pass the following variable as a keyword arg: x. From version 0.12, the only valid positional argument will be `data`, and passing other arguments without an explicit keyword will result in an error or misinterpretation.\n",
      "  warnings.warn(\n"
     ]
    },
    {
     "data": {
      "image/png": "[encoded data removed]",
      "text/plain": [
       "<Figure size 1296x432 with 2 Axes>"
      ]
     },
     "metadata": {
      "needs_background": "light"
     },
     "output_type": "display_data"
    }
   ],
   "source": [
    "f, ax  = plt.subplots(1,2,figsize = (18,6))\n",
    "sns.countplot(y_test,ax=ax[0],palette = 'bright',alpha=0.7,).set_title('Test data Before balancing')\n",
    "\n",
    "sns.countplot(y_test_s,ax=ax[1],palette = 'bright',alpha=0.7).set_title('Test data After balancing')\n",
    "\n",
    "plt.show()"
   ]
  },
  {
   "cell_type": "code",
   "execution_count": 119,
   "metadata": {},
   "outputs": [
    {
     "name": "stderr",
     "output_type": "stream",
     "text": [
      "C:\\Users\\Raffael Kalandadze\\anaconda3\\lib\\site-packages\\seaborn\\_decorators.py:36: FutureWarning: Pass the following variable as a keyword arg: x. From version 0.12, the only valid positional argument will be `data`, and passing other arguments without an explicit keyword will result in an error or misinterpretation.\n",
      "  warnings.warn(\n",
      "C:\\Users\\Raffael Kalandadze\\anaconda3\\lib\\site-packages\\seaborn\\_decorators.py:36: FutureWarning: Pass the following variable as a keyword arg: x. From version 0.12, the only valid positional argument will be `data`, and passing other arguments without an explicit keyword will result in an error or misinterpretation.\n",
      "  warnings.warn(\n"
     ]
    },
    {
     "data": {
      "image/png": "[encoded data removed]",
      "text/plain": [
       "<Figure size 1296x432 with 2 Axes>"
      ]
     },
     "metadata": {
      "needs_background": "light"
     },
     "output_type": "display_data"
    }
   ],
   "source": [
    "f, ax  = plt.subplots(1,2,figsize = (18,6))\n",
    "sns.countplot(y_train,ax=ax[0],palette = 'bright',alpha=0.7).set_title('Train data Before balancing')\n",
    "\n",
    "sns.countplot(y_train_s,ax=ax[1],palette = 'bright',alpha=0.7).set_title('Trin data After balancing')\n",
    "\n",
    "plt.show()\n",
    "\n",
    "X_train = X_train_s\n",
    "y_train = y_train_s\n",
    "X_test = X_test_s\n",
    "y_test = y_test_s"
   ]
  },
  {
   "cell_type": "code",
   "execution_count": 120,
   "metadata": {},
   "outputs": [
    {
     "data": {
      "image/png": "[encoded data removed]",
      "text/plain": [
       "<Figure size 432x288 with 1 Axes>"
      ]
     },
     "metadata": {
      "needs_background": "light"
     },
     "output_type": "display_data"
    }
   ],
   "source": [
    "model = DecisionTreeRegressor()\n",
    "model.fit(X_train, y_train)\n",
    "importance = model.feature_importances_\n",
    "# plot feature importance\n",
    "plt.bar([x for x in range(len(importance))], importance)\n",
    "plt.show()"
   ]
  },
  {
   "cell_type": "code",
   "execution_count": 121,
   "metadata": {},
   "outputs": [
    {
     "data": {
      "text/plain": [
       "Index(['foods_len', 'sodium_diff', 'calories_diff', 'sodium_diff_3', 'total_sodium', 'total_calories', 'total_protein', 'sugar_diff', 'total_sugar', 'FoodGroup'], dtype='object')"
      ]
     },
     "execution_count": 121,
     "metadata": {},
     "output_type": "execute_result"
    }
   ],
   "source": [
    "# most important features\n",
    "X_train.columns[importance.argsort()[-10:]]"
   ]
  },
  {
   "cell_type": "code",
   "execution_count": 122,
   "metadata": {},
   "outputs": [
    {
     "data": {
      "text/plain": [
       "Index(['healtyDistrib_5', 'foods_len_4', 'protein_diff_4', 'calories_diff_4', 'fat_diff_3', 'protein_diff_6', 'sugar_diff_4', 'total_fat_1', 'healtyDistrib_3', 'total_fat_4'], dtype='object')"
      ]
     },
     "execution_count": 122,
     "metadata": {},
     "output_type": "execute_result"
    }
   ],
   "source": [
    "# less important features\n",
    "X_train.columns[importance.argsort()[:10]]"
   ]
  },
  {
   "cell_type": "code",
   "execution_count": 123,
   "metadata": {},
   "outputs": [
    {
     "name": "stdout",
     "output_type": "stream",
     "text": [
      " Max Depth  Average Accuracy\n",
      "         1          0.675667\n",
      "         2          0.709130\n",
      "         3          0.735423\n",
      "         4          0.738527\n",
      "         5          0.729684\n",
      "         6          0.737327\n",
      "         7          0.736858\n",
      "         8          0.737575\n",
      "         9          0.736854\n"
     ]
    }
   ],
   "source": [
    "cv = KFold(n_splits=10,shuffle = True,random_state=42)\n",
    "accuracies = list()\n",
    "depth_range = range(1, 10)\n",
    "\n",
    "# Testing max_depths from 1 to 10\n",
    "for depth in depth_range:\n",
    "    fold_accuracy = []\n",
    "    tree_model = DecisionTreeClassifier(max_depth = depth,random_state = 42)\n",
    "\n",
    "    for train_fold, valid_fold in cv.split(X_train):\n",
    "        f_train_x = X_train.iloc[train_fold] \n",
    "        f_train_y = y_train.iloc[train_fold]\n",
    "        \n",
    "        f_valid_x = X_train.iloc[valid_fold]\n",
    "        f_valid_y = y_train.iloc[valid_fold]\n",
    "\n",
    "        model = tree_model.fit(X = f_train_x,y = f_train_y) # We fit the model with the fold train data\n",
    "        valid_acc = model.score(X = f_valid_x,y = f_valid_y) # We calculate accuracy with the fold validation data\n",
    "        fold_accuracy.append(valid_acc)\n",
    "\n",
    "    avg = sum(fold_accuracy)/len(fold_accuracy)\n",
    "    accuracies.append(avg)\n",
    "    \n",
    "# Just to show results conveniently\n",
    "df = pd.DataFrame({\"Max Depth\": depth_range, \"Average Accuracy\": accuracies})\n",
    "df = df[[\"Max Depth\", \"Average Accuracy\"]]\n",
    "print(df.to_string(index=False))"
   ]
  },
  {
   "cell_type": "code",
   "execution_count": 124,
   "metadata": {},
   "outputs": [],
   "source": [
    "decision_tree = DecisionTreeClassifier(max_depth=3,random_state=42)\n",
    "decision_tree.fit(X_train, y_train)\n",
    "\n",
    "# Predicting results for test dataset\n",
    "y_pred_train = decision_tree.predict(X_train)\n",
    "y_pred_test = decision_tree.predict(X_test)"
   ]
  },
  {
   "cell_type": "code",
   "execution_count": 125,
   "metadata": {},
   "outputs": [],
   "source": [
    "# from sklearn import tree\n",
    "# fig = plt.figure(figsize=(35,18))\n",
    "# _ = tree.plot_tree(decision_tree, feature_names=X_train.columns,class_names=['0','1'],filled=True,fontsize = 17)"
   ]
  },
  {
   "cell_type": "code",
   "execution_count": 126,
   "metadata": {},
   "outputs": [],
   "source": [
    "def classification_metrics(yTrueTrain,yPredictTrain,yTrueTest,yPredictTest,heatmap=False)->None:\n",
    "    \"\"\"\n",
    "    this function prints accuracy, precision, recall, F1 scre \n",
    "    and create confusion matrix  heatmap for both train and test sets\n",
    "    \n",
    "    Arguments:\n",
    "    yTrueTrain -- the true value of prediction from the train set\n",
    "    yPredictTrain -- predicted value from the train set\n",
    "    yTrueTest -- he true value of prediction from the test set\n",
    "    yPredictTest -- predicted value from the test set\n",
    "    heatmap -- boolean which tells us if plot heatmap or not\n",
    "    \n",
    "    Returns:\n",
    "    None\n",
    "    \"\"\"\n",
    "    print(\"train data:\\t  \"+ \"\\t\"*6+ \"test data:\\t\\n\")\n",
    "    print((\"accuracy:\\t {0} \"+ \"\\t\"*6+ \"accuracy:\\t {1}\").format(accuracy_score(yTrueTrain, yPredictTrain).round(2), \n",
    "                                                                 accuracy_score(yTrueTest, yPredictTest).round(2)))\n",
    "          \n",
    "    print((\"precision:\\t {0} \"+ \"\\t\"*6+ \"precision:\\t {1}\").format(precision_score(yTrueTrain, yPredictTrain).round(2), \n",
    "                                                                   precision_score(yTrueTest, yPredictTest).round(2)))\n",
    "    \n",
    "    print((\"recall:\\t\\t {0} \"+ \"\\t\"*6+ \"recall:\\t\\t {1}\").format(recall_score(yTrueTrain, yPredictTrain).round(2), \n",
    "                                                                 recall_score(yTrueTest, yPredictTest).round(2)))\n",
    "    \n",
    "    print((\"F1:\\t\\t {0} \"+ \"\\t\"*6+ \"F1:\\t\\t {1}\").format(f1_score(yTrueTrain, yPredictTrain).round(2), \n",
    "                                                         f1_score(yTrueTest, yPredictTest).round(2)))\n",
    "    if(heatmap):\n",
    "        f, ax  = plt.subplots(1,2,figsize = (18,6))\n",
    "        sns.heatmap(confusion_matrix(yTrueTrain,yPredictTrain),cmap='coolwarm',annot=True,ax=ax[0])\n",
    "        sns.heatmap(confusion_matrix(yTrueTest,yPredictTest),cmap='coolwarm',annot=True,ax=ax[1])\n",
    "        plt.tight_layout(rect=[0, 0.03, 1, 0.95])\n",
    "        plt.show()"
   ]
  },
  {
   "cell_type": "code",
   "execution_count": 127,
   "metadata": {},
   "outputs": [
    {
     "name": "stdout",
     "output_type": "stream",
     "text": [
      "train data:\t  \t\t\t\t\t\ttest data:\t\n",
      "\n",
      "accuracy:\t 0.74 \t\t\t\t\t\taccuracy:\t 0.75\n",
      "precision:\t 0.81 \t\t\t\t\t\tprecision:\t 0.81\n",
      "recall:\t\t 0.63 \t\t\t\t\t\trecall:\t\t 0.66\n",
      "F1:\t\t 0.71 \t\t\t\t\t\tF1:\t\t 0.73\n"
     ]
    },
    {
     "data": {
      "image/png": "[encoded data removed]",
      "text/plain": [
       "<Figure size 1296x432 with 4 Axes>"
      ]
     },
     "metadata": {
      "needs_background": "light"
     },
     "output_type": "display_data"
    }
   ],
   "source": [
    "classification_metrics(y_train,y_pred_train,y_test,y_pred_test,True)"
   ]
  },
  {
   "cell_type": "code",
   "execution_count": 144,
   "metadata": {},
   "outputs": [],
   "source": [
    "from sklearn.svm import SVC\n",
    "classifier = SVC(kernel = 'linear', random_state = 0, C=100, gamma = 0.7)\n",
    "classifier.fit(X_train, y_train)\n",
    "#Predicting the Test Set\n",
    "y_pred_train = classifier.predict(X_train)\n",
    "y_pred_test = classifier.predict(X_test)"
   ]
  },
  {
   "cell_type": "code",
   "execution_count": 145,
   "metadata": {},
   "outputs": [],
   "source": [
    "# from sklearn.model_selection import GridSearchCV\n",
    "# parameters = [{'C': [1, 10, 100, 1000], 'kernel': ['linear'],\n",
    "#                'gamma': [0.1, 0.3, 0.5, 0.7, 0.9]}]\n",
    "# grid_search = GridSearchCV(estimator = classifier,\n",
    "#                            param_grid = parameters,\n",
    "#                            scoring = 'accuracy',\n",
    "#                            cv = 10,)\n",
    "# grid_search.fit(X_train, y_train)\n",
    "# best_accuracy = grid_search.best_score_\n",
    "# best_parameters = grid_search.best_params_\n",
    "# #here is the best accuracy\n",
    "# best_accuracy"
   ]
  },
  {
   "cell_type": "code",
   "execution_count": 195,
   "metadata": {
    "scrolled": true
   },
   "outputs": [
    {
     "name": "stdout",
     "output_type": "stream",
     "text": [
      "train data:\t  \t\t\t\t\t\ttest data:\t\n",
      "\n",
      "accuracy:\t 0.7 \t\t\t\t\t\taccuracy:\t 0.57\n",
      "precision:\t 0.67 \t\t\t\t\t\tprecision:\t 0.56\n",
      "recall:\t\t 0.78 \t\t\t\t\t\trecall:\t\t 0.64\n",
      "F1:\t\t 0.72 \t\t\t\t\t\tF1:\t\t 0.6\n"
     ]
    },
    {
     "data": {
      "image/png": "[encoded data removed]",
      "text/plain": [
       "<Figure size 1296x432 with 4 Axes>"
      ]
     },
     "metadata": {
      "needs_background": "light"
     },
     "output_type": "display_data"
    }
   ],
   "source": [
    "classification_metrics(y_train,y_pred_train,y_test,y_pred_test,True)"
   ]
  },
  {
   "cell_type": "code",
   "execution_count": 100,
   "metadata": {},
   "outputs": [
    {
     "name": "stderr",
     "output_type": "stream",
     "text": [
      "C:\\Users\\Raffael Kalandadze\\anaconda3\\lib\\site-packages\\sklearn\\linear_model\\_logistic.py:762: ConvergenceWarning: lbfgs failed to converge (status=1):\n",
      "STOP: TOTAL NO. of ITERATIONS REACHED LIMIT.\n",
      "\n",
      "Increase the number of iterations (max_iter) or scale the data as shown in:\n",
      "    https://scikit-learn.org/stable/modules/preprocessing.html\n",
      "Please also refer to the documentation for alternative solver options:\n",
      "    https://scikit-learn.org/stable/modules/linear_model.html#logistic-regression\n",
      "  n_iter_i = _check_optimize_result(\n"
     ]
    }
   ],
   "source": [
    "from sklearn.linear_model import LogisticRegression\n",
    "model = LogisticRegression(random_state=0)\n",
    "model.fit(X_train, y_train)\n",
    "\n",
    "y_pred_train = model.predict(X_train)\n",
    "y_pred_test = model.predict(X_test)"
   ]
  },
  {
   "cell_type": "code",
   "execution_count": 101,
   "metadata": {
    "scrolled": true
   },
   "outputs": [
    {
     "name": "stdout",
     "output_type": "stream",
     "text": [
      "train data:\t  \t\t\t\t\t\ttest data:\t\n",
      "\n",
      "accuracy:\t 0.76 \t\t\t\t\t\taccuracy:\t 0.75\n",
      "precision:\t 0.8 \t\t\t\t\t\tprecision:\t 0.78\n",
      "recall:\t\t 0.68 \t\t\t\t\t\trecall:\t\t 0.69\n",
      "F1:\t\t 0.74 \t\t\t\t\t\tF1:\t\t 0.73\n"
     ]
    },
    {
     "data": {
      "image/png": "[encoded data removed]",
      "text/plain": [
       "<Figure size 1296x432 with 4 Axes>"
      ]
     },
     "metadata": {
      "needs_background": "light"
     },
     "output_type": "display_data"
    }
   ],
   "source": [
    "classification_metrics(y_train,y_pred_train,y_test,y_pred_test,True)"
   ]
  },
  {
   "cell_type": "code",
   "execution_count": null,
   "metadata": {},
   "outputs": [],
   "source": []
  }
 ],
 "metadata": {
  "kernelspec": {
   "display_name": "Python 3",
   "language": "python",
   "name": "python3"
  },
  "language_info": {
   "codemirror_mode": {
    "name": "ipython",
    "version": 3
   },
   "file_extension": ".py",
   "mimetype": "text/x-python",
   "name": "python",
   "nbconvert_exporter": "python",
   "pygments_lexer": "ipython3",
   "version": "3.8.5"
  }
 },
 "nbformat": 4,
 "nbformat_minor": 4
}
