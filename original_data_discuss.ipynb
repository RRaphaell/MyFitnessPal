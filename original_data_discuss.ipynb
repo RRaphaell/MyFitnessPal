{
 "cells": [
  {
   "cell_type": "markdown",
   "metadata": {},
   "source": [
    "#### <span style=\"color:#AD07FF\"> This file is designed to look at the original data, which is in json format. <br> we want to transfer information to pandas dataframe <br> so we need to understand what form is given in json in order to convert it correctly"
   ]
  },
  {
   "cell_type": "markdown",
   "metadata": {},
   "source": [
    "# <span style=\"color:#D75B08\"><div align=\"center\">**About This Dataset** "
   ]
  },
  {
   "cell_type": "markdown",
   "metadata": {},
   "source": [
    "This dataset contains 587,187 days of food diary records logged by 9.9K MyFitnessPal users from September 2014 through April 2015.<br> \n",
    "Each line is a tab-separated list of:\n",
    "\n",
    "- Anonymized user ID <br>\n",
    "- Diary date <br> \n",
    "- List of food entries and nutrients (as JSON objects) <br> \n",
    "- Daily aggregate of nutrient intake and goal (as JSON objects). <br> "
   ]
  },
  {
   "cell_type": "code",
   "execution_count": 2,
   "metadata": {},
   "outputs": [],
   "source": [
    "import pandas as pd\n",
    "data = pd.read_csv('mfp-diaries.tsv', sep='\\t')"
   ]
  },
  {
   "cell_type": "code",
   "execution_count": 4,
   "metadata": {},
   "outputs": [],
   "source": [
    "i = 705 # user which ate 6 times a day\n",
    "#i = 5  # user which ate 11 types of meal in specific lunch time\n",
    "#i = 0\n",
    "user_id = data.iloc[i,0]\n",
    "date = data.iloc[i,1]\n",
    "food_entries = json.loads(data.iloc[i, 2])\n",
    "agregate_intake_goal = json.loads(data.iloc[i,3])"
   ]
  },
  {
   "cell_type": "code",
   "execution_count": 5,
   "metadata": {},
   "outputs": [
    {
     "data": {
      "text/plain": [
       "10"
      ]
     },
     "execution_count": 5,
     "metadata": {},
     "output_type": "execute_result"
    }
   ],
   "source": [
    "user_id"
   ]
  },
  {
   "cell_type": "code",
   "execution_count": 6,
   "metadata": {},
   "outputs": [
    {
     "data": {
      "text/plain": [
       "'2015-01-30'"
      ]
     },
     "execution_count": 6,
     "metadata": {},
     "output_type": "execute_result"
    }
   ],
   "source": [
    "date"
   ]
  },
  {
   "cell_type": "code",
   "execution_count": 7,
   "metadata": {},
   "outputs": [
    {
     "name": "stdout",
     "output_type": "stream",
     "text": [
      "dict_keys(['meal', 'dishes', 'sequence'])\n",
      "dict_keys(['meal', 'dishes', 'sequence'])\n",
      "dict_keys(['meal', 'dishes', 'sequence'])\n",
      "dict_keys(['meal', 'dishes', 'sequence'])\n",
      "dict_keys(['meal', 'dishes', 'sequence'])\n",
      "dict_keys(['meal', 'dishes', 'sequence'])\n"
     ]
    }
   ],
   "source": [
    "print(food_entries[0].keys() if len(food_entries)>=1 else \"ar aqvs\")\n",
    "print(food_entries[1].keys() if len(food_entries)>=2 else \"ar aqvs\")\n",
    "print(food_entries[2].keys() if len(food_entries)>=3 else \"ar aqvs\")\n",
    "print(food_entries[3].keys() if len(food_entries)>=4 else \"ar aqvs\")\n",
    "print(food_entries[4].keys() if len(food_entries)>=5 else \"ar aqvs\")\n",
    "print(food_entries[5].keys() if len(food_entries)>=6 else \"ar aqvs\")"
   ]
  },
  {
   "cell_type": "code",
   "execution_count": 8,
   "metadata": {},
   "outputs": [
    {
     "data": {
      "text/plain": [
       "'Meal 1'"
      ]
     },
     "execution_count": 8,
     "metadata": {},
     "output_type": "execute_result"
    }
   ],
   "source": [
    "food_entries[0][\"meal\"]"
   ]
  },
  {
   "cell_type": "code",
   "execution_count": 9,
   "metadata": {},
   "outputs": [
    {
     "data": {
      "text/plain": [
       "[{'nutritions': [{'name': 'Calories', 'value': '125'},\n",
       "   {'name': 'Carbs', 'value': '0'},\n",
       "   {'name': 'Fat', 'value': '0'},\n",
       "   {'name': 'Protein', 'value': '25'},\n",
       "   {'name': 'Sodium', 'value': '375'},\n",
       "   {'name': 'Sugar', 'value': '0'}],\n",
       "  'name': 'All Whites - 100% Liquid Egg Whites (46g), 15 Tbsp (46g)'},\n",
       " {'nutritions': [{'name': 'Calories', 'value': '90'},\n",
       "   {'name': 'Carbs', 'value': '0'},\n",
       "   {'name': 'Fat', 'value': '7'},\n",
       "   {'name': 'Protein', 'value': '5'},\n",
       "   {'name': 'Sodium', 'value': '140'},\n",
       "   {'name': 'Sugar', 'value': '0'}],\n",
       "  'name': 'Whole Foods 365 Organic - Vegetarian Kosher Cheddar Cheese, 1 slice'},\n",
       " {'nutritions': [{'name': 'Calories', 'value': '4'},\n",
       "   {'name': 'Carbs', 'value': '0'},\n",
       "   {'name': 'Fat', 'value': '0'},\n",
       "   {'name': 'Protein', 'value': '0'},\n",
       "   {'name': 'Sodium', 'value': '6'},\n",
       "   {'name': 'Sugar', 'value': '0'}],\n",
       "  'name': 'Whole Foods 365 Organic - Organic Green Tea, 2 tea bag'},\n",
       " {'nutritions': [{'name': 'Calories', 'value': '60'},\n",
       "   {'name': 'Carbs', 'value': '17'},\n",
       "   {'name': 'Fat', 'value': '0'},\n",
       "   {'name': 'Protein', 'value': '0'},\n",
       "   {'name': 'Sodium', 'value': '0'},\n",
       "   {'name': 'Sugar', 'value': '16'}],\n",
       "  'name': 'Honey - Clover, 1 Tablespoon (21g)'},\n",
       " {'nutritions': [{'name': 'Calories', 'value': '94'},\n",
       "   {'name': 'Carbs', 'value': '25'},\n",
       "   {'name': 'Fat', 'value': '0'},\n",
       "   {'name': 'Protein', 'value': '0'},\n",
       "   {'name': 'Sodium', 'value': '1'},\n",
       "   {'name': 'Sugar', 'value': '19'}],\n",
       "  'name': 'Pink Lady Apple - Pink Lady Apple, 1.3 Medium'},\n",
       " {'nutritions': [{'name': 'Calories', 'value': '30'},\n",
       "   {'name': 'Carbs', 'value': '4'},\n",
       "   {'name': 'Fat', 'value': '2'},\n",
       "   {'name': 'Protein', 'value': '1'},\n",
       "   {'name': 'Sodium', 'value': '10'},\n",
       "   {'name': 'Sugar', 'value': '0'}],\n",
       "  'name': 'Homemade - Sautéed Mixed Vegetables, 1/2 c'},\n",
       " {'nutritions': [{'name': 'Calories', 'value': '24'},\n",
       "   {'name': 'Carbs', 'value': '0'},\n",
       "   {'name': 'Fat', 'value': '3'},\n",
       "   {'name': 'Protein', 'value': '0'},\n",
       "   {'name': 'Sodium', 'value': '0'},\n",
       "   {'name': 'Sugar', 'value': '0'}],\n",
       "  'name': '365 - Extra Virgin Olive Oil Cold Processed 100% Mediterranean Blend, 0.2 tbsp'}]"
      ]
     },
     "execution_count": 9,
     "metadata": {},
     "output_type": "execute_result"
    }
   ],
   "source": [
    "food_entries[0][\"dishes\"]"
   ]
  },
  {
   "cell_type": "code",
   "execution_count": 10,
   "metadata": {},
   "outputs": [
    {
     "data": {
      "text/plain": [
       "1"
      ]
     },
     "execution_count": 10,
     "metadata": {},
     "output_type": "execute_result"
    }
   ],
   "source": [
    "food_entries[0][\"sequence\"]"
   ]
  },
  {
   "cell_type": "code",
   "execution_count": 11,
   "metadata": {},
   "outputs": [
    {
     "data": {
      "text/plain": [
       "[{'name': 'Calories', 'value': 3053},\n",
       " {'name': 'Carbs', 'value': 109},\n",
       " {'name': 'Fat', 'value': 14},\n",
       " {'name': 'Protein', 'value': 36},\n",
       " {'name': 'Sodium', 'value': 612},\n",
       " {'name': 'Sugar', 'value': 43}]"
      ]
     },
     "execution_count": 11,
     "metadata": {},
     "output_type": "execute_result"
    }
   ],
   "source": [
    "agregate_intake_goal[\"total\"]"
   ]
  },
  {
   "cell_type": "code",
   "execution_count": 12,
   "metadata": {},
   "outputs": [
    {
     "data": {
      "text/plain": [
       "[{'name': 'Calories', 'value': 1640},\n",
       " {'name': 'Carbs', 'value': 205},\n",
       " {'name': 'Fat', 'value': 55},\n",
       " {'name': 'Protein', 'value': 82},\n",
       " {'name': 'Sodium', 'value': 2300},\n",
       " {'name': 'Sugar', 'value': 62}]"
      ]
     },
     "execution_count": 12,
     "metadata": {},
     "output_type": "execute_result"
    }
   ],
   "source": [
    "agregate_intake_goal[\"goal\"]"
   ]
  },
  {
   "cell_type": "code",
   "execution_count": null,
   "metadata": {},
   "outputs": [],
   "source": []
  }
 ],
 "metadata": {
  "kernelspec": {
   "display_name": "Python 3",
   "language": "python",
   "name": "python3"
  },
  "language_info": {
   "codemirror_mode": {
    "name": "ipython",
    "version": 3
   },
   "file_extension": ".py",
   "mimetype": "text/x-python",
   "name": "python",
   "nbconvert_exporter": "python",
   "pygments_lexer": "ipython3",
   "version": "3.8.3"
  }
 },
 "nbformat": 4,
 "nbformat_minor": 4
}
